{
 "cells": [
  {
   "cell_type": "markdown",
   "id": "581acc1c",
   "metadata": {
    "slideshow": {
     "slide_type": "slide"
    }
   },
   "source": [
    "<center> <h1>Short sales and dollar-neutral strategies</h1> </center>"
   ]
  },
  {
   "cell_type": "markdown",
   "id": "13896239",
   "metadata": {
    "slideshow": {
     "slide_type": "-"
    }
   },
   "source": [
    "<center>William Mann</center>"
   ]
  },
  {
   "cell_type": "markdown",
   "id": "2d2205de",
   "metadata": {
    "slideshow": {
     "slide_type": "-"
    }
   },
   "source": [
    "<center>\n",
    "<img src=\"https://wgjm1986.github.io/Investments/Emory_small.png\" height=\"200px\" width=\"300px\" />\n",
    "</center>                                                                                            "
   ]
  },
  {
   "cell_type": "markdown",
   "id": "914f9bee",
   "metadata": {
    "slideshow": {
     "slide_type": "slide"
    }
   },
   "source": [
    "## Basic outline of a short sale\n",
    "\n",
    "The idea of a short sale is to profit from future price declines:\n",
    "\n",
    "Suppose a stock is worth \\\\$100, and you predict it will fall to \\\\$70.\n",
    "\n",
    "To sell the stock “short,” you do the following:\n",
    "\n",
    "- *Borrow* a share from your broker, and sell it for \\\\$100.\n",
    "- Now you have \\\\$100 proceeds from the sale, and a liability to deliver a share of the stock back to your broker in the future. This liability is called a “short position.”\n",
    "- Reimburse the broker for any dividends that the stock pays.\n",
    "- After the price falls, “close” your position by purchasing a share for \\\\$70 and delivering that share to the broker.\n",
    "\n",
    "Conclusion: You have earned \\\\$30, exactly the amount of the price decline."
   ]
  },
  {
   "cell_type": "markdown",
   "id": "5a2277aa",
   "metadata": {
    "slideshow": {
     "slide_type": "slide"
    }
   },
   "source": [
    "## Basic observations about a short sale\n",
    "\n",
    "Three fundamental observations about a short sale:\n",
    "\n",
    "1. It offers the negative of the return on the investment.\n",
    "2. The required investment (cash outflow) comes second.\n",
    "3. The potential losses on the strategy are unlimited.\n",
    "\n",
    "\\#2 and \\#3 create serious risk for the broker.\n",
    "\n",
    "Now let’s discuss these steps in more detail..."
   ]
  },
  {
   "cell_type": "markdown",
   "id": "d309eeab",
   "metadata": {
    "slideshow": {
     "slide_type": "slide"
    }
   },
   "source": [
    "## Margin requirements\n",
    "\n",
    "The broker takes on risk by allowing you to sell short.\n",
    "\n",
    "So the broker, and regulations, require you to post collateral.\n",
    "\n",
    "Specifically, Regulation T requires that\n",
    "1. when you open the trade, you deposit collateral with the broker worth 150% of the proceeds of the sale (initial margin);\n",
    "2. after that, you must replenish the collateral whenever it falls below 130% of fair value (maintenance margin).\n",
    "\n",
    "The law does not specify what form the collateral has to be.\n",
    "\n",
    "But, the broker may require cash, or allow stock or other assets,\n",
    "depending on the investor, and on the asset being sold short."
   ]
  },
  {
   "cell_type": "markdown",
   "id": "d89fa883",
   "metadata": {
    "slideshow": {
     "slide_type": "slide"
    }
   },
   "source": [
    "## Margin example for a retail investor\n",
    "\n",
    "Redo the earlier example with typical retail margin requirements:\n",
    "\n",
    "- You want to short-sell one share of stock worth \\\\$100.\n",
    "- To meet the 150\\% initial margin, you need \\\\$150 of collateral.  \n",
    "Suppose you have no other investments. Then you need \\\\$50.\n",
    "- Deposit the \\\\$50 with the broker, borrow the stock from them, sell it for \\\\$100, and leave the combined \\\\$150 with your broker.\n",
    "- Suppose you don’t earn interest on that \\\\$150 in the meantime.\n",
    "- One year later, you buy the stock for \\\\$70, deliver it to close out your short position, and withdraw the \\\\$150.\n",
    "\n",
    "You started with \\\\$50 and now have \\\\$150 - \\\\$70 = \\\\$80, for a \\\\$30 profit."
   ]
  },
  {
   "cell_type": "markdown",
   "id": "8548abbb",
   "metadata": {
    "slideshow": {
     "slide_type": "slide"
    }
   },
   "source": [
    "## Margin calls during the year\n",
    "\n",
    "Continuing the prior example:\n",
    "- Suppose that during the year, the stock price rises to \\\\$200.\n",
    "- Your collateral requirement is now 130\\% of \\\\$200, which is \\\\$260.\n",
    "- Your broker will require you to deposit another \\\\$110.\n",
    "- As the price rises higher, the required collateral does too.\n",
    "- If you don’t meet the requirement, the broker will close out your position by confiscating the collateral and purchasing the stock.\n",
    "\n",
    "This is a major risk of short-selling as a strategy.\n",
    "\n",
    "Even if you are right about the long-run stock price, it may be very\n",
    "difficult to hang on long enough to realize that profit."
   ]
  },
  {
   "cell_type": "markdown",
   "id": "6c285fad",
   "metadata": {
    "slideshow": {
     "slide_type": "slide"
    }
   },
   "source": [
    "## Fees and costs\n",
    "\n",
    "The broker can charge you an interest rate for lending you the stock, varying with the supply and demand of the specific stock.\n",
    "\n",
    "The broker might *pay* interest on the cash that you keep on deposit. This is more common for institutional investors.\n",
    "\n",
    "As with the other strategies in this class, we will just focus on\n",
    "measuring before-cost performance.\n",
    "\n",
    "So from this point forward, we will imagine a fund that receives the risk-free rate on cash deposited with the broker, and we will ignore any lower rates or offsetting fees as trading costs to be dealt with separately."
   ]
  },
  {
   "cell_type": "markdown",
   "id": "ccb5714e",
   "metadata": {
    "slideshow": {
     "slide_type": "slide"
    }
   },
   "source": [
    "## Dollar-neutral investment funds\n",
    "\n",
    "Let’s now imagine you set up a “dollar-neutral” investment fund:\n",
    "\n",
    "This means it will hold equal dollar long and short positions.\n",
    "\n",
    "You raise \\\\$100 from investors, buy \\\\$100 of stock, short-sell another \\\\$100, and keep the short sale proceeds with the broker.\n",
    "\n",
    "- To cover the extra \\\\$50 margin, you place half of the \\\\$100 stocks purchased long in a specially-designated account.\n",
    "\n",
    "Your initial balance sheet looks like this:\n",
    "- Assets: \\\\$100 of investments, \\\\$100 of cash from short sale.\n",
    "- Liabilities: \\\\$100 short position, \\\\$100 net assets.\n",
    "\n",
    "One useful measure for a fund like this is “gross leverage,”\n",
    "the sum of long and short positions divided by net assets.\n",
    "- A dollar-neutral strategy has gross leverage of 2."
   ]
  },
  {
   "cell_type": "markdown",
   "id": "cfe7dc59",
   "metadata": {
    "slideshow": {
     "slide_type": "slide"
    }
   },
   "source": [
    "## Vanguard Market Neutral fund balance sheet, 12/31/23"
   ]
  },
  {
   "cell_type": "markdown",
   "id": "bd3efae3",
   "metadata": {
    "slideshow": {
     "slide_type": "-"
    }
   },
   "source": [
    "<center>\n",
    "<img src=\"https://wgjm1986.github.io/Investments/Module%203/Week%2011%20-%20Short%20sales%20and%20dollar-neutral%20strategies/VMNFX%20balance%20sheet.png\" width=\"800px\" />\n",
    "</center>"
   ]
  },
  {
   "cell_type": "markdown",
   "id": "8260d54d",
   "metadata": {
    "slideshow": {
     "slide_type": "slide"
    }
   },
   "source": [
    "## VMNFX discussion of short sales"
   ]
  },
  {
   "cell_type": "markdown",
   "id": "2ce2c0ca",
   "metadata": {
    "slideshow": {
     "slide_type": "-"
    }
   },
   "source": [
    "<center>\n",
    "<img src=\"https://wgjm1986.github.io/Investments/Module%203/Week%2011%20-%20Short%20sales%20and%20dollar-neutral%20strategies/VMNFX%20short%20sale%20discussion.png\" width=\"1000px\" />\n",
    "</center>"
   ]
  },
  {
   "cell_type": "markdown",
   "id": "e5609c8d",
   "metadata": {
    "slideshow": {
     "slide_type": "slide"
    }
   },
   "source": [
    "## VMNFX discussion of collateral"
   ]
  },
  {
   "cell_type": "markdown",
   "id": "0f8a331f",
   "metadata": {
    "slideshow": {
     "slide_type": "-"
    }
   },
   "source": [
    "<center>\n",
    "<img src=\"https://wgjm1986.github.io/Investments/Module%203/Week%2011%20-%20Short%20sales%20and%20dollar-neutral%20strategies/VMNFX%20collateral%20discussion.png\" width=\"1000px\" />\n",
    "</center>"
   ]
  },
  {
   "cell_type": "markdown",
   "id": "145e524b",
   "metadata": {
    "slideshow": {
     "slide_type": "slide"
    }
   },
   "source": [
    "## Using a dollar-neutral strategy to earn a return spread\n",
    "\n",
    "Suppose you have identified two groups of stocks H and L.  \n",
    "You think H will outperform L, and want to earn the spread $r_H − r_L$.\n",
    "\n",
    "You raise \\\\$100 from investors, and buy \\\\$100 of the H stocks.  \n",
    "You short-sell \\\\$100 of the L stocks, and leave the proceeds as cash with your broker, earning $r_f$.  \n",
    "Meet any further margin needs with stocks from the H portfolio.\n",
    "\n",
    "As described earlier, your initial balance sheet would show net assets of \\\\$100.\n",
    "\n",
    "One year later, your balance sheet now looks like this:\n",
    "- A: $\\$100 × (1 + r_H)$ investments, $\\$100 × (1 + r_f)$ cash.\n",
    "- L: $\\$100 × (1 + r_L)$ short, $\\$100 × (1 + r_f + r_H − r_L)$ net assets.\n",
    "\n",
    "Your investors' excess return per \\\\$1 is exactly $r_H − r_L$.  \n",
    "Conclusion: Return spreads are investable strategies."
   ]
  },
  {
   "cell_type": "markdown",
   "id": "936d5800",
   "metadata": {
    "slideshow": {
     "slide_type": "slide"
    }
   },
   "source": [
    "## Dollar-neutral vs market-neutral strategies\n",
    "\n",
    "Dollar-neutral means investing equal dollars long and short.\n",
    "\n",
    "Market-neutral means aiming for beta to be low or zero.  \n",
    "A dollar-neutral strategy will not necessarily achieve this.\n",
    "\n",
    "In practice, market-neutral funds are more common.\n",
    "\n",
    "Morningstar tells us that VMNFX has a beta of 0.01.\n",
    "\n",
    "<center>\n",
    "<img src=\"https://wgjm1986.github.io/Investments/Module%203/Week%2011%20-%20Short%20sales%20and%20dollar-neutral%20strategies/VMNFX%20neutrality%20discussion.png\" width=\"700px\" />\n",
    "</center>"
   ]
  },
  {
   "cell_type": "markdown",
   "id": "6f0e3af8",
   "metadata": {
    "slideshow": {
     "slide_type": "slide"
    }
   },
   "source": [
    "<center>\n",
    "<img src=\"https://wgjm1986.github.io/Investments/Module%203/Week%2011%20-%20Short%20sales%20and%20dollar-neutral%20strategies/VMNFX%20performance.png\" width=\"1000px\" />\n",
    "</center>"
   ]
  },
  {
   "cell_type": "markdown",
   "id": "8d242d77",
   "metadata": {
    "slideshow": {
     "slide_type": "slide"
    }
   },
   "source": [
    "## Distinguishing two effects of short sales\n",
    "\n",
    "Short-selling can accomplish two distinct goals for you as a fund manager:\n",
    "\n",
    "- Allows you to construct pure bets on price declines, or on relative spreads between returns of different securities.\n",
    "- Provides **leverage**, if you use the short sale proceeds to purchase more securities. This allows you to amplify your exposure beyond the capital that investors provided, when you \n",
    "\n",
    "In practice, funds typically use short-sale proceeds to buy more securities, so in practice both of the above effects are typically present for a fund that engages in short sales.\n",
    "\n",
    "However, in our course, we mainly care about the first effect and want to set aside the second.\n",
    "\n",
    "For this reason, we will focus on strategies that retain the short-sale proceeds as cash, rather than using them to buy more securities.\n",
    "This is the only approach that does not create leverage.\n",
    "\n",
    "And as we have seen, there are market-neutral funds that do actually operate this way."
   ]
  }
 ],
 "metadata": {
  "celltoolbar": "Slideshow",
  "kernelspec": {
   "display_name": "Python 3 (ipykernel)",
   "language": "python",
   "name": "python3"
  },
  "language_info": {
   "codemirror_mode": {
    "name": "ipython",
    "version": 3
   },
   "file_extension": ".py",
   "mimetype": "text/x-python",
   "name": "python",
   "nbconvert_exporter": "python",
   "pygments_lexer": "ipython3",
   "version": "3.10.12"
  }
 },
 "nbformat": 4,
 "nbformat_minor": 5
}
