{
 "cells": [
  {
   "cell_type": "markdown",
   "id": "83be360c",
   "metadata": {
    "slideshow": {
     "slide_type": "slide"
    }
   },
   "source": [
    "<center><h1>Investment returns, portfolios, and indexes</h1></center>"
   ]
  },
  {
   "cell_type": "markdown",
   "id": "b9bfe1cd",
   "metadata": {
    "slideshow": {
     "slide_type": "-"
    }
   },
   "source": [
    "<center>William Mann</center>"
   ]
  },
  {
   "cell_type": "markdown",
   "id": "1a1dc4ca",
   "metadata": {
    "slideshow": {
     "slide_type": "-"
    }
   },
   "source": [
    "<center>\n",
    "<img src=\"https://wgjm1986.github.io/Investments/Emory_small.png\" height=\"200px\" width=\"300px\" />\n",
    "</center>"
   ]
  },
  {
   "cell_type": "markdown",
   "id": "49f0d00d",
   "metadata": {
    "slideshow": {
     "slide_type": "skip"
    }
   },
   "source": [
    "# Code behind all figures in the slides.\n",
    "(The slides themselves appear below.)"
   ]
  },
  {
   "cell_type": "code",
   "execution_count": 1,
   "id": "00e24ba8",
   "metadata": {
    "slideshow": {
     "slide_type": "skip"
    }
   },
   "outputs": [],
   "source": [
    "# Import packages\n",
    "import pandas as pd\n",
    "pd.options.mode.chained_assignment = None  # default='warn'\n",
    "import numpy as np\n",
    "import os\n",
    "import wrds\n",
    "import fredapi\n",
    "import math\n",
    "import statsmodels.formula.api\n",
    "from matplotlib import pyplot as plt\n",
    "plt.rcParams['figure.figsize'] = [16.0, 8.0]\n",
    "from statistics import median\n",
    "from scipy.stats import skew"
   ]
  },
  {
   "cell_type": "code",
   "execution_count": 2,
   "id": "99fe9e87",
   "metadata": {
    "slideshow": {
     "slide_type": "skip"
    }
   },
   "outputs": [
    {
     "name": "stdout",
     "output_type": "stream",
     "text": [
      "Loading library list...\n",
      "Done\n"
     ]
    }
   ],
   "source": [
    "# Download data\n",
    "conn = wrds.Connection(wrds_username='wmann')"
   ]
  },
  {
   "cell_type": "code",
   "execution_count": 3,
   "id": "4ac090aa",
   "metadata": {
    "slideshow": {
     "slide_type": "skip"
    }
   },
   "outputs": [],
   "source": [
    "# Download daily returns on S&P 500 stocks during 1980-2023\n",
    "sp500_daily = conn.raw_sql(\"\"\"\n",
    "    select a.*, b.date, b.ret\n",
    "    from crsp.msp500list as a\n",
    "    join (\n",
    "        select permno, date, ret\n",
    "        from crsp.dsf\n",
    "        where date >= '01/01/1980' and date <= '12/31/2023'\n",
    "    ) as b\n",
    "    on a.permno = b.permno\n",
    "    where b.date >= a.start and b.date <= a.ending\n",
    "    order by b.date;\n",
    "    \"\"\", date_cols=['start', 'ending', 'date'])"
   ]
  },
  {
   "cell_type": "code",
   "execution_count": 4,
   "id": "23a28ac3",
   "metadata": {
    "slideshow": {
     "slide_type": "skip"
    }
   },
   "outputs": [
    {
     "name": "stdout",
     "output_type": "stream",
     "text": [
      "Loading library list...\n",
      "Done\n"
     ]
    }
   ],
   "source": [
    "# Download monthly returns on S&P 500 stocks during 1980-2023\n",
    "conn = wrds.Connection(wrds_username='wmann')\n",
    "sp500_monthly = conn.raw_sql(\"\"\"\n",
    "    select a.*, b.date, b.ret\n",
    "    from crsp.msp500list as a\n",
    "    join crsp.msf as b on a.permno = b.permno\n",
    "    where b.date >= a.start and b.date <= a.ending\n",
    "    and b.date >= '01/01/1980' and b.date <= '12/31/2023'\n",
    "    order by b.date;\n",
    "    \"\"\", date_cols=['start', 'ending', 'date'])"
   ]
  },
  {
   "cell_type": "code",
   "execution_count": 5,
   "id": "19a075d1",
   "metadata": {
    "slideshow": {
     "slide_type": "skip"
    }
   },
   "outputs": [
    {
     "name": "stdout",
     "output_type": "stream",
     "text": [
      "Loading library list...\n",
      "Done\n"
     ]
    }
   ],
   "source": [
    "# Download data on S&P 500 index returns\n",
    "conn = wrds.Connection(wrds_username='wmann')\n",
    "SP500 = conn.raw_sql(\"select caldt, spindx, vwretd, vwretx, ewretd, ewretx from crsp_a_indexes.msp500\")\n",
    "SP500['month'] = pd.to_datetime(SP500['caldt']).dt.to_period('M')\n",
    "SP500 = SP500.drop(columns=['caldt']).set_index(['month'])\n",
    "SP500 = SP500['1980':'2023']"
   ]
  },
  {
   "cell_type": "code",
   "execution_count": 6,
   "id": "5d87cbcb",
   "metadata": {
    "slideshow": {
     "slide_type": "skip"
    }
   },
   "outputs": [],
   "source": [
    "conn.close()"
   ]
  },
  {
   "cell_type": "code",
   "execution_count": 7,
   "id": "ce240d19",
   "metadata": {
    "slideshow": {
     "slide_type": "skip"
    }
   },
   "outputs": [],
   "source": [
    "%%capture\n",
    "# Build figures of S&P 500 index and S&P 500 total return index\n",
    "SP500_cumulative_return = (1+SP500.vwretd).cumprod();\n",
    "Market_return_figure,ax = plt.subplots();\n",
    "SP500_cumulative_return.plot(ax=ax);\n",
    "ax.set_ylabel(\"Growth of $1 in a value-weighted portfolio \\n of all S&P 500 stocks (reinvesting dividends)\")\n",
    "\n",
    "comparison_figure,ax = plt.subplots()\n",
    "(1+SP500.vwretx).cumprod().plot(label=\"Increase in S&P 500 index\",legend=True,ax=ax)\n",
    "(1+SP500.vwretd).cumprod().plot(label=\"Increase in S&P 500 total return index\",legend=True,ax=ax)"
   ]
  },
  {
   "cell_type": "markdown",
   "id": "5440f06a",
   "metadata": {
    "slideshow": {
     "slide_type": "slide"
    }
   },
   "source": [
    "## Motivation\n",
    "\n",
    "What's a \"typical\" stock return?"
   ]
  },
  {
   "cell_type": "markdown",
   "id": "6cf68376",
   "metadata": {
    "slideshow": {
     "slide_type": "-"
    }
   },
   "source": [
    "<center>\n",
    "<img src=\"https://wgjm1986.github.io/Investments/Module%201/Week%201%20-%20Investment%20returns%2C%20portfolios%2C%20indexes/bessembinder_2a_close.png\" width=\"1000px\" />\n",
    "</center>"
   ]
  },
  {
   "cell_type": "markdown",
   "id": "89bce692",
   "metadata": {
    "slideshow": {
     "slide_type": "slide"
    }
   },
   "source": [
    "## More motivation: Returns on S&P 500 stocks\n",
    "\n",
    "Let's revisit Bessembinder's point with a slightly different dataset:  \n",
    "\n",
    "The S&P 500 is a list of companies maintained by Standard and Poors, and roughly corresponds to the 500 largest companies by market capitalization.  \n",
    "It captures the vast majority of the market without tracking of thousands of stocks.\n",
    "\n",
    "Here we look at daily returns, since 1980, on the stocks in the S&P 500 at any moment.  \n",
    "We again see that the average return is high, but the median return is zero.  \n",
    "\n",
    "Why do we care? Because it is very hard to learn much about such heavily skewed data."
   ]
  },
  {
   "cell_type": "code",
   "execution_count": 9,
   "id": "4ad8ac39",
   "metadata": {
    "slideshow": {
     "slide_type": "slide"
    }
   },
   "outputs": [
    {
     "name": "stdout",
     "output_type": "stream",
     "text": [
      "Mean daily return on S&P 500 stocks: 0.04%\n",
      "  (Annualized: 11.00%)\n",
      "Median daily return on S&P 500 stocks: 0.05%\n",
      "  (Annualized: 13.40%)\n"
     ]
    }
   ],
   "source": [
    "print(\"Mean daily return on S&P 500 stocks: \"\n",
    "      f\"{ 100*sp500_daily['ret'].mean() :.2f}%\")\n",
    "print(f\"  (Annualized: { 250*100*sp500_daily['ret'].mean() :.2f}%)\")\n",
    "print(\"Median daily return on S&P 500 stocks: \"\n",
    "      f\"{ 100*sp500_daily['ret'].median() :.2f}%\")\n",
    "print(f\"  (Annualized: { 250*100*sp500_daily['ret'].median() :.2f}%)\")"
   ]
  },
  {
   "cell_type": "markdown",
   "id": "e8bc5ecd",
   "metadata": {
    "slideshow": {
     "slide_type": "slide"
    }
   },
   "source": [
    "## Average returns across S&P 500 stocks\n",
    "\n",
    "However, most investors own many stocks and thus get an average return.  \n",
    "And average returns show less of the extreme skewness that we saw earlier:"
   ]
  },
  {
   "cell_type": "code",
   "execution_count": null,
   "id": "c889c7b6",
   "metadata": {
    "slideshow": {
     "slide_type": "slide"
    }
   },
   "outputs": [],
   "source": [
    "sp500EW_daily = sp500_daily.groupby('date')['ret'].mean()\n",
    "print(\"Mean of average daily return: \"\n",
    "      f\"{100*sp500EW_daily.mean() :.2f}%\")\n",
    "print(f\"  (Annualized: {250*100*sp500EW_daily.mean() :.2f}%)\")\n",
    "print(\"Median of average daily return: \"\n",
    "      f\"{100*sp500EW_daily.median() :.2f}%\")\n",
    "print(f\"  (Annualized: {250*100*sp500EW_daily.median() :.2f}%)\")"
   ]
  },
  {
   "cell_type": "code",
   "execution_count": 10,
   "id": "3ca0d429",
   "metadata": {
    "slideshow": {
     "slide_type": "slide"
    }
   },
   "outputs": [
    {
     "name": "stdout",
     "output_type": "stream",
     "text": [
      "Mean of average monthly return: 0.93%\n",
      "  (Annualized: 11.22%\n",
      "Median of average monthly return: 0.60%\n",
      "  (Annualized: 7.26%\n"
     ]
    }
   ],
   "source": [
    "sp500EW_monthly = sp500_monthly.groupby('date')['ret'].mean()\n",
    "print(\"Mean of average monthly return: \"\n",
    "      f\"{100*sp500EW_monthly.mean() :.2f}%\")\n",
    "print(f\"  (Annualized: {12*100*sp500EW_monthly.mean() :.2f}%\")\n",
    "print(\"Median of average monthly return: \"\n",
    "      f\"{100*sp500EW_monthly.median() :.2f}%\")\n",
    "print(f\"  (Annualized: {12*100*sp500EW_monthly.median() :.2f}%\")"
   ]
  },
  {
   "cell_type": "markdown",
   "id": "6b3b3cc9",
   "metadata": {
    "slideshow": {
     "slide_type": "slide"
    }
   },
   "source": [
    "## Takeaways\n",
    "\n",
    "Individual stock returns, at high frequencies, are likely to be a very difficult thing to study, forecast, or model, because they are incredibly skewed in the data. \n",
    "\n",
    "This actually makes a lot of sense, as we will discuss in a few weeks.\n",
    "\n",
    "But when we look at what actually matters to most investors -- an average of many stock returns, measured at a lower time frequency -- there is a bit more order.\n",
    "\n",
    "So we will be paying a lot of attention to average returns.  \n",
    "\n",
    "But the next question is, exactly what kind of average?\n",
    "\n",
    "We will focus most attention on a *value-weighted* average of the individual returns.  \n",
    "\n",
    "The next section explains why."
   ]
  },
  {
   "cell_type": "markdown",
   "id": "f78d6a89",
   "metadata": {
    "slideshow": {
     "slide_type": "slide"
    }
   },
   "source": [
    "## Studying portfolios of investments\n",
    "\n",
    "The goal of this class is to get some perspective on questions like the following:\n",
    "- How do investors allocate their funds? What tools exist to help with this?\n",
    "- What kind of return they get? How could they do better?\n",
    "\n",
    "So we will take a top-down perspective.  \n",
    "We will not spend a lot of time looking at individual stocks, bonds, etc. \n",
    "\n",
    "Instead we will mostly think about general strategies within asset classes, how those strategies lead investors to hold certain portfolios, and how the portfolio generates an overall return that is an *average* of the returns of the individual securities."
   ]
  },
  {
   "cell_type": "markdown",
   "id": "ee7d53e2",
   "metadata": {
    "slideshow": {
     "slide_type": "slide"
    }
   },
   "source": [
    "## Specific strategies and their portfolios\n",
    "\n",
    "This week, we will focus on three strategies an investor could use to build a portfolio:  \n",
    "- Price weighting: Assets are weighted by their market price.\n",
    "- Equal weighting: Assets all receive equal weight in the portfolio.\n",
    "- Value weighting: Assets are weighted by total supply. (For stocks, by market cap.)\n",
    "\n",
    "In each case, using some example data, we will ask:\n",
    "\n",
    "- How to form a portfolio reflecting that strategy?\n",
    "- How to compute the return on that portfolio?\n",
    "- How to rebalance the portfolio to stay in line with the strategy?\n",
    "- What is the connection with the return on an index?\n",
    "\n",
    "All the ideas apply to any asset class, but it is probably easiest to think about stocks."
   ]
  },
  {
   "cell_type": "markdown",
   "id": "98fa4ba8",
   "metadata": {
    "slideshow": {
     "slide_type": "slide"
    }
   },
   "source": [
    "## Takeaways\n",
    "\n",
    "We will see that the answers to the previous questions depend on:\n",
    "\n",
    "- The price change of each security in the portfolio,\n",
    "- The payout of each security (dividends, coupons, etc),\n",
    "- Changes in the total supply of each investment (for example, stock splits, stock dividends, repurchases).\n",
    "\n",
    "Most importantly, we will see why value-weighting is always the natural benchmark.\n",
    "\n",
    "Homework 1 builds on these examples."
   ]
  },
  {
   "cell_type": "markdown",
   "id": "e8a1d939",
   "metadata": {
    "slideshow": {
     "slide_type": "slide"
    }
   },
   "source": [
    "## Building and rebalancing a portfolio\n",
    "\n",
    "A portfolio is just a collection of securities. To build one:\n",
    "\n",
    "- Decide on the list of securities you want to include.\n",
    "- Choose a strategy for how much to allocate to each one.\n",
    "- Calculate the amounts you need to buy at current market prices.\n",
    "\n",
    "After building a portfolio, you might also want to rebalance regularly, in order to stay in line with the strategy you chose above:\n",
    "\n",
    "- Recalculate the portfolio that now aligns with your strategy, based on the new prices of each security and any other events that have happened.\n",
    "- Buy or sell enough of each individual security to arrive at this desired portfolio."
   ]
  },
  {
   "cell_type": "markdown",
   "id": "2f429560",
   "metadata": {
    "slideshow": {
     "slide_type": "slide"
    }
   },
   "source": [
    "## Measuring portfolio returns\n",
    "\n",
    "The return on a portfolio between two dates can be calculated as:\n",
    "\n",
    "- The ending value of securities owned and dividends received, divided by the initial value of the securities, minus 1;\n",
    "\n",
    "- or, the weighted average return of each individual security, being sure to include the dividends that they paid, where the weights are the portfolio’s initial dollar allocations.\n",
    "\n",
    "Either method will give the same answer."
   ]
  },
  {
   "cell_type": "markdown",
   "id": "9397b94f",
   "metadata": {
    "slideshow": {
     "slide_type": "slide"
    }
   },
   "source": [
    "### Keeping track of trading activity during rebalancing\n",
    "\n",
    "Different strategies require different amounts of trading to rebalance.  \n",
    "It is important to track this activity because trading is costly.\n",
    "\n",
    "**Turnover** during any time is gross trading activity, as a percent of starting portfolio size. \n",
    "\n",
    "(To be clear, the exact trading costs are still only a fraction of this amount, and depend greatly on who is doing the trading.)\n",
    "\n",
    "**Gross trading activity** is total purchases *plus* total sales. \n",
    "\n",
    "(We add them together because both are costly.)\n",
    "\n",
    "For comparison, **net trading activity** is purchases *minus* sales. \n",
    "\n",
    "(This does not measure trading costs, but is still useful: It must equal the amount added or withdrawn from the portfolio, plus reinvestment of dividends or coupons.)"
   ]
  },
  {
   "cell_type": "markdown",
   "id": "efeb7367",
   "metadata": {
    "slideshow": {
     "slide_type": "slide"
    }
   },
   "source": [
    "## Example 1: Textbook table 2.2, page 46"
   ]
  },
  {
   "cell_type": "markdown",
   "id": "b9ff606a",
   "metadata": {
    "slideshow": {
     "slide_type": "-"
    }
   },
   "source": [
    "| Stock | Initial price | Final price | Shares (m) | Initial market cap (\\$m) | Final market cap (\\$m) |\n",
    "|-------|---------------|-------------|------------|--------------------------|------------------------|\n",
    "| ABC   | \\$25          | \\$30        | 20         | \\$500                    | \\$600                  |\n",
    "| XYZ   | \\$100         | \\$90        | 1          | \\$100                    | \\$90                   |"
   ]
  },
  {
   "cell_type": "markdown",
   "id": "b6bd11a3",
   "metadata": {
    "slideshow": {
     "slide_type": "slide"
    }
   },
   "source": [
    "## Example 2: Data on AMGN and GILD from 2017"
   ]
  },
  {
   "cell_type": "markdown",
   "id": "db648e5e",
   "metadata": {
    "slideshow": {
     "slide_type": "-"
    }
   },
   "source": [
    "| Stock | Initial price | Final price | Initial shares (m) | Final shares (m) | Dividends paid per share, \\$ |\n",
    "|-------|---------------|-------------|--------------------|------------------|------------------------------|\n",
    "| AMGN  | \\$146.21      | \\$173.90    | 738.2              | 722.2            | \\$4.60                       |\n",
    "| GILD  | \\$71.61       | \\$71.64     | 1310               | 1308             | \\$2.08                       |"
   ]
  },
  {
   "cell_type": "markdown",
   "id": "87b2fd78",
   "metadata": {
    "slideshow": {
     "slide_type": "slide"
    }
   },
   "source": [
    "## Importance of the value-weighted portfolio\n",
    "\n",
    "Earlier on, we looked at simple average returns across stocks.  \n",
    "As we have now seen, these averages match the return on an *equal-weighted* portfolio. \n",
    "\n",
    "But most investors in fact hold a *value-weighted* portfolio. This portfolio represents the \"market return\" and a \"passive strategy\", and is the benchmark for everything else.\n",
    "\n",
    "This may seem surprising, but the value-weighted portfolio has many special features:\n",
    "- It represents a proportional slice of the overall market. This means it is the only strategy that *everyone* can hold, and also that it requires the least rebalancing.\n",
    "- It is *guaranteed* to match the overall market return. Any performance you gain or lose with a different portfolio is offset by the rest of the market.\n",
    "- Although it weights *companies* very unevenly, it diversifies equally across dollars of expected future *profits*."
   ]
  },
  {
   "cell_type": "markdown",
   "id": "4e8dff0f",
   "metadata": {
    "slideshow": {
     "slide_type": "slide"
    }
   },
   "source": [
    "## Performance of the value-weighted S&P 500 portfolio over 30 years"
   ]
  },
  {
   "cell_type": "code",
   "execution_count": null,
   "id": "1991c596",
   "metadata": {
    "slideshow": {
     "slide_type": "-"
    }
   },
   "outputs": [],
   "source": [
    "Market_return_figure"
   ]
  },
  {
   "cell_type": "markdown",
   "id": "38671600",
   "metadata": {
    "slideshow": {
     "slide_type": "slide"
    }
   },
   "source": [
    "## Indexes of investment performance\n",
    "\n",
    "An index helps track the performance of a given strategy/portfolio.\n",
    "\n",
    "Examples:\n",
    "\n",
    "- **DJIA**: price-weighted portfolio of stocks.\n",
    "- **S\\&P 500 index**: value-weighted portfolio of stocks.\n",
    "- **Bloomberg Agg** (fka Barclay’s Agg): value-weighted, bonds.\n",
    "\n",
    "Each index features a list of investments, and a weighting scheme.\n",
    "\n",
    "The level of the index by itself is a meaningless, arbitrary number.\n",
    "\n",
    "Index *changes* are connected to returns on the underlying strategy.\n",
    "But the exact connection depends on how the index is constructed."
   ]
  },
  {
   "cell_type": "markdown",
   "id": "126f8008",
   "metadata": {
    "slideshow": {
     "slide_type": "slide"
    }
   },
   "source": [
    "## S&P 500 index calculation\n",
    "\n",
    "Most US stock indexes are designed to measure returns to their\n",
    "underlying strategy from capital gains alone, *excluding dividends.*\n",
    "\n",
    "For example, the S&P 500 index is calculated with this formula:\n",
    "\n",
    "$$\n",
    "\\text{S&P 500 index level} = \\frac{ \\sum P \\times Q }{ \\text{Divisor} }\n",
    "$$\n",
    "\n",
    "The divisor is adjusted in response to events that change market cap\n",
    "without triggering a capital gain for the individual investor, such as\n",
    "share issuance or repurchase. (We will do an example of this.)\n",
    "\n",
    "So the index return *does not* include the return from dividends.\n",
    "There is an S&P 500 “total return” index, but it is not as well-known.\n",
    "\n",
    "It doesn’t have to be this way! The main German stock index, the DAX, is a total return index."
   ]
  },
  {
   "cell_type": "markdown",
   "id": "a9ad6fc4",
   "metadata": {
    "slideshow": {
     "slide_type": "slide"
    }
   },
   "source": [
    "## S&P 500 index vs total return index\n",
    "\n",
    "Dividends are important, especially over long horizons!"
   ]
  },
  {
   "cell_type": "code",
   "execution_count": null,
   "id": "61cfe05e",
   "metadata": {},
   "outputs": [],
   "source": [
    "comparison_figure"
   ]
  },
  {
   "cell_type": "markdown",
   "id": "68ed46c3",
   "metadata": {
    "slideshow": {
     "slide_type": "slide"
    }
   },
   "source": [
    "## Bloomberg/Barclays aggregate bond index\n",
    "\n",
    "- The best-known US bond market index. The formal name has\n",
    "changed several times. It is generally just called the “Agg.”\n",
    "\n",
    "- It reflects a value-weighted portfolio of a broad range of\n",
    "fixed-income securities. Like most bond indexes, it is a “total\n",
    "return” index, meaning it does include coupon reinvestment.\n",
    "\n",
    "- But unlike stocks, it is not obvious which securities to include.\n",
    "Currently it’s mostly Treasuries, MBS, and IG corporate.\n",
    "But this is always a source of debate and controversy.\n",
    "For example, some argue for adding munis and junk bonds.\n",
    "\n",
    "- It’s also not obvious if the portfolio represented by this strategy\n",
    "is really the correct benchmark for investors to use.\n",
    "\n",
    "- Many basic questions remain open about portfolio management\n",
    "and performance assessment with fixed income."
   ]
  },
  {
   "cell_type": "markdown",
   "id": "ddb67c84",
   "metadata": {
    "slideshow": {
     "slide_type": "slide"
    }
   },
   "source": [
    "<center>\n",
    "<img src=\"https://wgjm1986.github.io/Investments/Module%201/Week%201%20-%20Investment%20returns%2C%20portfolios%2C%20indexes/agg_components_small.png\" width=\"1200px\" />\n",
    "</center>"
   ]
  },
  {
   "cell_type": "markdown",
   "id": "1fdaa634",
   "metadata": {
    "slideshow": {
     "slide_type": "slide"
    }
   },
   "source": [
    "## Agg index historical performance\n",
    "[source](https://advisors.vanguard.com/insights/article/unpack-the-challenges-of-rising-bond-fund-yields)"
   ]
  },
  {
   "cell_type": "markdown",
   "id": "db71d2b1",
   "metadata": {
    "slideshow": {
     "slide_type": "-"
    }
   },
   "source": [
    "![MyImage](https://github.com/wgjm1986/Investments/blob/main/Module%201/Week%201%20-%20Investment%20returns,%20portfolios,%20indexes/agg_performance.png?raw=True)"
   ]
  }
 ],
 "metadata": {
  "celltoolbar": "Slideshow",
  "kernelspec": {
   "display_name": "Python 3 (ipykernel)",
   "language": "python",
   "name": "python3"
  },
  "language_info": {
   "codemirror_mode": {
    "name": "ipython",
    "version": 3
   },
   "file_extension": ".py",
   "mimetype": "text/x-python",
   "name": "python",
   "nbconvert_exporter": "python",
   "pygments_lexer": "ipython3",
   "version": "3.10.12"
  }
 },
 "nbformat": 4,
 "nbformat_minor": 5
}
