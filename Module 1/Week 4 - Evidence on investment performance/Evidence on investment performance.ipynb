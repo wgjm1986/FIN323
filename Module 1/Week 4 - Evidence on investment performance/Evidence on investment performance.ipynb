{
 "cells": [
  {
   "cell_type": "markdown",
   "id": "83be360c",
   "metadata": {
    "editable": true,
    "slideshow": {
     "slide_type": "slide"
    },
    "tags": []
   },
   "source": [
    "<center> <h1> Evidence on investment performance </h1> </center>"
   ]
  },
  {
   "cell_type": "markdown",
   "id": "e51704e6",
   "metadata": {
    "slideshow": {
     "slide_type": "-"
    }
   },
   "source": [
    "<center>William Mann</center>"
   ]
  },
  {
   "cell_type": "markdown",
   "id": "b2dc8c64",
   "metadata": {
    "slideshow": {
     "slide_type": "-"
    }
   },
   "source": [
    "<center>\n",
    "<img src=\"https://wgjm1986.github.io/FIN323/Emory_small.png\" height=\"200px\" width=\"300px\" />\n",
    "</center>                                                                                            "
   ]
  },
  {
   "cell_type": "markdown",
   "id": "25522a46",
   "metadata": {
    "editable": true,
    "slideshow": {
     "slide_type": "slide"
    },
    "tags": []
   },
   "source": [
    "## The value-weighted strategy is “the market”\n",
    "\n",
    "Today we *start* to think about how to invest to earn high returns.\n",
    "\n",
    "Reminder: The value-weighted strategy is always our benchmark.\n",
    "- Any other strategy is called an “active” strategy,\n",
    "- “Beating the market” means beating the VW strategy.\n",
    "\n",
    "Why?\n",
    "- All investors together **must** earn a value-weighted return.\n",
    "- Any investor can match this return, at minimal cost, by value-weighting the investments in their own portfolio.\n",
    "- If anyone earns a higher return, this must be offset by a lower return to someone else **who also chose not to value-weight.**"
   ]
  },
  {
   "cell_type": "markdown",
   "id": "611f8d47",
   "metadata": {
    "editable": true,
    "slideshow": {
     "slide_type": "slide"
    },
    "tags": []
   },
   "source": [
    "### Active strategies and the efficient markets hypothesis\n",
    "\n",
    "- Are there strategies that predictably beat the market?  \n",
    "The prior slide suggests that the null hypothesis should be “no.”  \n",
    "We should require strong evidence to change our minds.\n",
    "- This null hypothesis is the *efficient markets* hypothesis:  \n",
    "Prices should already reflect any information that is useful to investors, and public enough for us to see it in the first place.\n",
    "- It is well-known that you cannot truly test this “hypothesis.”  \n",
    "It just tells us what kind of evidence we should be looking for.  \n",
    "We will be looking at such evidence for rest of the course.\n",
    "- To be clear, I will never claim that we have *proved* any strategy is better than value-weighting.\n",
    "- This is impossible to say objectively, for the same reason that we cannot test whether markets are efficient."
   ]
  },
  {
   "cell_type": "markdown",
   "id": "11e75302-35fc-48d6-9038-44cecc901e86",
   "metadata": {
    "editable": true,
    "slideshow": {
     "slide_type": "slide"
    },
    "tags": []
   },
   "source": [
    "<center><h2>Mutual fund performance</h2></center>"
   ]
  },
  {
   "cell_type": "markdown",
   "id": "0d16c6a0",
   "metadata": {
    "editable": true,
    "slideshow": {
     "slide_type": "slide"
    },
    "tags": []
   },
   "source": [
    "## Mutual fund returns 1982-1991 (Malkiel, 1995)\n",
    "\n",
    "<center>\n",
    "<img src=\"https://wgjm1986.github.io/FIN323/Module%201/Week%203%20-%20Fundamental%20investing%20and%20mutual%20fund%20performance/Malkiel1995_Table1.png\" width=\"1300px\" />\n",
    "</center>\n",
    "    \n",
    "- Average fund underperformed the S&P 500 in each category.\n",
    "- Note the importance of correcting for *survivorship bias.*"
   ]
  },
  {
   "cell_type": "markdown",
   "id": "d551de7d",
   "metadata": {
    "editable": true,
    "slideshow": {
     "slide_type": "slide"
    },
    "tags": []
   },
   "source": [
    "### CAPM alpha for all mutual funds in Malkiel (1995)"
   ]
  },
  {
   "cell_type": "markdown",
   "id": "2e080334",
   "metadata": {
    "slideshow": {
     "slide_type": "-"
    }
   },
   "source": [
    "<center>\n",
    "<img src=\"https://wgjm1986.github.io/FIN323/Module%201/Week%203%20-%20Fundamental%20investing%20and%20mutual%20fund%20performance/Malkiel1995_Fig1.png\" width=\"800px\" />\n",
    "</center>"
   ]
  },
  {
   "cell_type": "markdown",
   "id": "5aea8c0b",
   "metadata": {
    "slideshow": {
     "slide_type": "slide"
    }
   },
   "source": [
    "## More recent update\n",
    "\n",
    "<center>\n",
    "<img src=\"https://wgjm1986.github.io/FIN323/Module%201/Week%203%20-%20Fundamental%20investing%20and%20mutual%20fund%20performance/SPIVA_performance_Exh2.png\" width=\"1300px\" />\n",
    "</center>\n",
    "\n",
    "[(click for an even more recent update)](https://www.morningstar.com/funds/actively-managed-funds-continue-underperform)"
   ]
  },
  {
   "cell_type": "markdown",
   "id": "d5255286",
   "metadata": {
    "slideshow": {
     "slide_type": "slide"
    }
   },
   "source": [
    "## Interpreting the evidence\n",
    "\n",
    "In fact, the prior evidence should not be surprising:  \n",
    "There are clear limits on the performance of the *average* fund.\n",
    "- All investors collectively hold a value-weighted portfolio.\n",
    "- A fund can only outperform that portfolio if some other investors underperform it by an equal amount.\n",
    "- The mutual fund industry as a whole could only outperform by consistently taking money from some other investor class. This does not seem realistic to expect.\n",
    "\n",
    "What about targeting only the funds with the best track record?"
   ]
  },
  {
   "cell_type": "markdown",
   "id": "264540d7",
   "metadata": {
    "slideshow": {
     "slide_type": "slide"
    }
   },
   "source": [
    "## Performance-chasing\n",
    "\n",
    "<center>\n",
    "<img src=\"https://wgjm1986.github.io/FIN323/Module%201/Week%203%20-%20Fundamental%20investing%20and%20mutual%20fund%20performance/SirriTufano1998_Fig1A.png\" width=\"1300px\" />\n",
    "</center>\n",
    "\n",
    "\n",
    "Indeed, funds that perform well attract inflows from investors.\n",
    "\n",
    "(Note about the figure: Bigger number = better ranking)"
   ]
  },
  {
   "cell_type": "markdown",
   "id": "8d7d6883",
   "metadata": {
    "slideshow": {
     "slide_type": "slide"
    }
   },
   "source": [
    "## Performance-chasing assessment: Malkiel (1995)\n",
    "\n",
    "In the 1970s, 65\\% of “winner” funds remained winners next year.  \n",
    "But during the 1980s, this fell to only 52\\%.\n",
    "\n",
    "|  | Top half next year | Bottom half next year |\n",
    "|--|--------------------|-----------------------|\n",
    "| **1970s** | | |\n",
    "| Top half last year | 65.1\\% | 34.9\\% |\n",
    "| Bottom half last year | 35.5\\% | 64.5\\% |\n",
    "| **1980s** | | |\n",
    "| Top half last year | 51.7\\% | 48.3\\% |\n",
    "| Bottom half last year | 47.5\\% | 52.5\\% |"
   ]
  },
  {
   "cell_type": "markdown",
   "id": "872503c2",
   "metadata": {
    "slideshow": {
     "slide_type": "slide"
    }
   },
   "source": [
    "<center>\n",
    "<img src=\"https://wgjm1986.github.io/FIN323/Module%201/Week%203%20-%20Fundamental%20investing%20and%20mutual%20fund%20performance/SPIVA-persistence-2022.png\" width=\"800px\" />\n",
    "</center>"
   ]
  },
  {
   "cell_type": "markdown",
   "id": "55411046",
   "metadata": {
    "slideshow": {
     "slide_type": "slide"
    }
   },
   "source": [
    "## Two interpretations of this evidence\n",
    "\n",
    "The cynical view:\n",
    "- The stock market is mostly efficient, even for professionals.\n",
    "- Active equity funds simply should not exist.\n",
    "\n",
    "The sympathetic view:\n",
    "- Some managers do have skill in beating benchmarks,\n",
    "and investors are correct to chase that performance.\n",
    "- But, these managers cannot scale up their ability forever.\n",
    "- Investors flood into a fund until its performance looks unremarkable, net of fees.\n",
    "- The true measure of manager skill is the size of the fund."
   ]
  },
  {
   "cell_type": "markdown",
   "id": "72500bf5",
   "metadata": {
    "slideshow": {
     "slide_type": "slide"
    }
   },
   "source": [
    "## Investor implications\n",
    "\n",
    "However you interpret the evidence, the implication for investors is:\n",
    "- The average mutual fund will not beat an index strategy.\n",
    "- Some will, *but you cannot invest in them ahead of time:*  \n",
    "Either their good results were completely unpredictable,  \n",
    "or the fund will grow to the point it can’t repeat them,  \n",
    "or the fund might not accept your money at all.\n",
    "\n",
    "There are two reasonable ways to respond:\n",
    "- Just pursue a value-weighted strategy, as cheaply as possible.  \n",
    "We will say a few words about this next.\n",
    "- Seek strategies, not managers, that have beaten the market in the past. Surprisingly, this is not so hard to do!  \n",
    "We will spend the rest of the course thinking carefully about what this means."
   ]
  },
  {
   "cell_type": "markdown",
   "id": "4a06047c",
   "metadata": {
    "slideshow": {
     "slide_type": "slide"
    }
   },
   "source": [
    "## The growth of passive investing\n",
    "\n",
    "- Analysts and commentators have long noticed the poor average performance of professional mutual fund managers.\n",
    "- Paul Samuelson called for a low-cost index fund in 1974.\n",
    "- 1975-1976: John Bogle founded Vanguard, launched its S\\&P 500 index fund, and began selling directly to investors.\n",
    "- The idea seemed controversial or ridiculous to many at the time:\n",
    "\n",
    "> *I can’t believe that the great mass of investors are going to be satisfied with an ultimate goal of just achieving average returns on their funds.*  \n",
    "Ned Johnson (Chairman of Fidelity), 1976"
   ]
  },
  {
   "cell_type": "markdown",
   "id": "cf663012",
   "metadata": {
    "slideshow": {
     "slide_type": "slide"
    }
   },
   "source": [
    "<center>\n",
    "<img src=\"https://wgjm1986.github.io/FIN323/Module%201/Week%203%20-%20Fundamental%20investing%20and%20mutual%20fund%20performance/FT-passive-active.png\" width=\"1300px\" />\n",
    "</center>"
   ]
  },
  {
   "cell_type": "markdown",
   "id": "9c04012b",
   "metadata": {
    "editable": true,
    "slideshow": {
     "slide_type": "slide"
    },
    "tags": []
   },
   "source": [
    "<center> <h1>Evidence on returns to active strategies</h1> </center>"
   ]
  },
  {
   "cell_type": "markdown",
   "id": "85ab9dec",
   "metadata": {
    "editable": true,
    "slideshow": {
     "slide_type": "slide"
    },
    "tags": []
   },
   "source": [
    "- As we saw before, there is no obvious way to choose a fund manager who will beat the market, before they do it.\n",
    "- What if you just followed a simple strategy by yourself?\n",
    "- You might think you can’t do any better than the funds. After all, they are run by professionals with more experience.\n",
    "- But surprisingly, there are in fact very simple and popular strategies that have earned returns above the market return. We will look at some of the best-known examples today.\n",
    "- However, this evidence is not necessarily enough to conclude that these strategies are better than passive investing. The rest of the course will be about considering this question in more detail."
   ]
  },
  {
   "cell_type": "markdown",
   "id": "6301302d",
   "metadata": {
    "editable": true,
    "slideshow": {
     "slide_type": "slide"
    },
    "tags": []
   },
   "source": [
    "## Two broad categories of investment strategy\n",
    "\n",
    "**Value investing**: Buy investments that are cheap compared to some\n",
    "“fundamental” or “intrinsic” value. Sell those that are overvalued.\n",
    "- Assume that you are unusually good at estimating this value.\n",
    "- Also assume that prices move towards fundamental value during your investment horizon; or else, plan to hold indefinitely.\n",
    "- Famously advocated by Benjamin Graham and Warren Buffett.\n",
    "- Graham originally called for careful valuation of individual stocks.  \n",
    "But he evolved to a simpler multiples-type approach (next slide).\n",
    "\n",
    "**Technical analysis**: Trading based only on patterns in prices, without regard to the characteristics of the companies behind them.\n",
    "- Most prominent example: Momentum trading."
   ]
  },
  {
   "cell_type": "markdown",
   "id": "64918fab",
   "metadata": {
    "editable": true,
    "slideshow": {
     "slide_type": "slide"
    },
    "tags": []
   },
   "source": [
    "## A conversation with Benjamin Graham, 1976\n",
    "\n",
    "*Q: In selecting the common stock portfolio, do you advise careful\n",
    "study of and selectivity among individual issues?*\n",
    "\n",
    "In general, no. I am no longer an advocate of elaborate techniques of\n",
    "security analysis in order to find superior value opportunities. ...\n",
    "This was a rewarding activity, say, 40 years ago, when our textbook\n",
    "was first published; but the situation has changed a good deal since\n",
    "then. ... To that very limited extent I’m on the side of the “efficient\n",
    "market” school of thought now generally accepted by the professors.\n",
    "\n",
    "*Q: What general approach to portfolio formation do you advocate?* \n",
    "\n",
    "Essentially, a highly simplified one that applies a single criterion or\n",
    "perhaps two criteria to the price ... and that relies for its results on\n",
    "the performance of the portfolio as a whole – i.e., on the group\n",
    "results – rather than on the expectations for individual issues."
   ]
  },
  {
   "cell_type": "markdown",
   "id": "8bca155b",
   "metadata": {
    "editable": true,
    "slideshow": {
     "slide_type": "slide"
    },
    "tags": []
   },
   "source": [
    "## Backtesting an investment strategy\n",
    "\n",
    "Suppose you are considering whether to pursue an active strategy.  \n",
    "(Remember, this means any strategy other than \"value-weight all available investments,\" which can also be called \"holding the market portfolio\".)\n",
    "\n",
    "\"Backtesting\" means checking how well you would have done in the past by following that strategy. A natural idea is to compare this past performance with the performance of a passive strategy .\n",
    "\n",
    "Of course, you really want to know how the strategy will do in the *future*, not the past. There is not necessarily any connection between the two. Nevertheless, most people will ask for some kind of historical evidence that a strategy works before investing in it.\n",
    "\n",
    "Backtesting can be a surprisingly tricky thing to do correctly. We will lay out a few concepts today, and build on them as the semester progresses."
   ]
  },
  {
   "cell_type": "markdown",
   "id": "672f424c",
   "metadata": {
    "editable": true,
    "slideshow": {
     "slide_type": "slide"
    },
    "tags": []
   },
   "source": [
    "## Backtesting concept: Build large portfolios\n",
    "\n",
    "Most investment ideas can be summarized in terms of some feature or characteristic that makes a stock attractive.\n",
    "To backtest such an idea, you would like to abstract away from individual stocks or companies, and think more about the characteristic itself.\n",
    "\n",
    "This means we will typically form large, diversified portfolios of stocks that score well on a given characteristics, and large portfolios of stocks that do not score so well.\n",
    "\n",
    "We will track the performance of the \"good\" and \"bad\" portfolios over many historical years in order to get an idea of how they perform on average relative to each other."
   ]
  },
  {
   "cell_type": "markdown",
   "id": "2515c1bc",
   "metadata": {
    "slideshow": {
     "slide_type": "slide"
    }
   },
   "source": [
    "## Backtesting concept: Prevent lookahead bias\n",
    "\n",
    "A basic question about the stock market is: Do small-cap stocks or large-cap stocks have higher returns on average?\n",
    "\n",
    "Suppose you look up the 500 smallest-cap and largest-cap stocks, as of December 2024, and compare their average returns over the prior 5 years. \n",
    "- What will you find?\n",
    "- What is the problem with this analysis?"
   ]
  },
  {
   "cell_type": "code",
   "execution_count": 1,
   "id": "a5798885",
   "metadata": {
    "slideshow": {
     "slide_type": "skip"
    }
   },
   "outputs": [
    {
     "name": "stdout",
     "output_type": "stream",
     "text": [
      "Loading library list...\n",
      "Done\n"
     ]
    }
   ],
   "source": [
    "import wrds\n",
    "import pandas as pd\n",
    "from matplotlib import pyplot as plt\n",
    "\n",
    "conn = wrds.Connection(wrds_username='wmann')\n",
    "\n",
    "# Monthly stock returns to illustrate small-cap vs large-cap investing\n",
    "monthly_stocks = conn.raw_sql(\"\"\"\n",
    "SELECT \n",
    "    m.permno,\n",
    "    m.date, \n",
    "    n.ticker, \n",
    "    m.prc,\n",
    "    m.ret,\n",
    "    m.shrout\n",
    "FROM \n",
    "    crsp.msf AS m\n",
    "JOIN \n",
    "    crsp.msenames AS n\n",
    "ON \n",
    "    m.permno = n.permno\n",
    "AND \n",
    "    m.date BETWEEN n.namedt AND n.nameendt\n",
    "WHERE \n",
    "    m.date BETWEEN '1930-01-01' AND '2024-12-31'\n",
    "AND\n",
    "    n.shrcd in (10,11)\n",
    "ORDER BY \n",
    "    m.date, n.ticker;\n",
    "    \"\"\", date_cols=['date'])\n",
    "conn.close()\n",
    "\n",
    "monthly_stocks = monthly_stocks.dropna(subset=['ret', 'prc'])\n",
    "monthly_stocks['prc'] = monthly_stocks['prc'].abs()\n",
    "\n",
    "monthly_stocks['mkt_cap'] = monthly_stocks['prc'] * monthly_stocks['shrout']\n",
    "\n",
    "monthly_stocks['date'] = pd.to_datetime(monthly_stocks['date'])\n",
    "monthly_stocks['year'] = monthly_stocks['date'].dt.year\n",
    "monthly_stocks['month'] = monthly_stocks['date'].dt.month"
   ]
  },
  {
   "cell_type": "markdown",
   "id": "c14b8a8c",
   "metadata": {
    "slideshow": {
     "slide_type": "slide"
    }
   },
   "source": [
    "### Biggest 10 stocks by market cap, Dec 2024"
   ]
  },
  {
   "cell_type": "code",
   "execution_count": 2,
   "id": "e1ec4dda",
   "metadata": {
    "slideshow": {
     "slide_type": "-"
    }
   },
   "outputs": [
    {
     "data": {
      "text/html": [
       "<div>\n",
       "<style scoped>\n",
       "    .dataframe tbody tr th:only-of-type {\n",
       "        vertical-align: middle;\n",
       "    }\n",
       "\n",
       "    .dataframe tbody tr th {\n",
       "        vertical-align: top;\n",
       "    }\n",
       "\n",
       "    .dataframe thead th {\n",
       "        text-align: right;\n",
       "    }\n",
       "</style>\n",
       "<table border=\"1\" class=\"dataframe\">\n",
       "  <thead>\n",
       "    <tr style=\"text-align: right;\">\n",
       "      <th></th>\n",
       "      <th>ticker</th>\n",
       "      <th>mkt_cap</th>\n",
       "    </tr>\n",
       "  </thead>\n",
       "  <tbody>\n",
       "    <tr>\n",
       "      <th>335649</th>\n",
       "      <td>AAPL</td>\n",
       "      <td>3.785304e+09</td>\n",
       "    </tr>\n",
       "    <tr>\n",
       "      <th>338080</th>\n",
       "      <td>NVDA</td>\n",
       "      <td>3.288762e+09</td>\n",
       "    </tr>\n",
       "    <tr>\n",
       "      <th>337906</th>\n",
       "      <td>MSFT</td>\n",
       "      <td>3.133802e+09</td>\n",
       "    </tr>\n",
       "    <tr>\n",
       "      <th>335845</th>\n",
       "      <td>AMZN</td>\n",
       "      <td>2.306888e+09</td>\n",
       "    </tr>\n",
       "    <tr>\n",
       "      <th>339061</th>\n",
       "      <td>TSLA</td>\n",
       "      <td>1.296351e+09</td>\n",
       "    </tr>\n",
       "    <tr>\n",
       "      <th>337804</th>\n",
       "      <td>META</td>\n",
       "      <td>1.276412e+09</td>\n",
       "    </tr>\n",
       "    <tr>\n",
       "      <th>337131</th>\n",
       "      <td>GOOGL</td>\n",
       "      <td>1.106080e+09</td>\n",
       "    </tr>\n",
       "    <tr>\n",
       "      <th>335988</th>\n",
       "      <td>AVGO</td>\n",
       "      <td>1.086402e+09</td>\n",
       "    </tr>\n",
       "    <tr>\n",
       "      <th>337130</th>\n",
       "      <td>GOOG</td>\n",
       "      <td>1.053895e+09</td>\n",
       "    </tr>\n",
       "    <tr>\n",
       "      <th>337655</th>\n",
       "      <td>LLY</td>\n",
       "      <td>7.328720e+08</td>\n",
       "    </tr>\n",
       "  </tbody>\n",
       "</table>\n",
       "</div>"
      ],
      "text/plain": [
       "       ticker       mkt_cap\n",
       "335649   AAPL  3.785304e+09\n",
       "338080   NVDA  3.288762e+09\n",
       "337906   MSFT  3.133802e+09\n",
       "335845   AMZN  2.306888e+09\n",
       "339061   TSLA  1.296351e+09\n",
       "337804   META  1.276412e+09\n",
       "337131  GOOGL  1.106080e+09\n",
       "335988   AVGO  1.086402e+09\n",
       "337130   GOOG  1.053895e+09\n",
       "337655    LLY  7.328720e+08"
      ]
     },
     "execution_count": 2,
     "metadata": {},
     "output_type": "execute_result"
    }
   ],
   "source": [
    "monthly_stocks[(monthly_stocks['year']==2024) & (monthly_stocks['month']==12)].drop_duplicates('ticker',keep='first').nlargest(10,'mkt_cap')[['ticker','mkt_cap']]"
   ]
  },
  {
   "cell_type": "code",
   "execution_count": 3,
   "id": "37ccd538",
   "metadata": {
    "slideshow": {
     "slide_type": "skip"
    }
   },
   "outputs": [],
   "source": [
    "return_2024 = monthly_stocks[monthly_stocks['year'] >= 2020].groupby('permno')['ret'].mean().rename('ret_2024')"
   ]
  },
  {
   "cell_type": "code",
   "execution_count": 4,
   "id": "2eb074a2",
   "metadata": {
    "slideshow": {
     "slide_type": "skip"
    }
   },
   "outputs": [],
   "source": [
    "Dec_2024_MC_returns = monthly_stocks[(monthly_stocks['year'] == 2024) & (monthly_stocks['month'] == 12)][['permno','ticker','mkt_cap']].set_index('permno').merge(\n",
    "    return_2024,left_index=True,right_index=True)"
   ]
  },
  {
   "cell_type": "markdown",
   "id": "0d5c93b3",
   "metadata": {
    "slideshow": {
     "slide_type": "slide"
    }
   },
   "source": [
    "Average monthly returns from 2020-2024, of the smallest and largest 100 stocks by market cap as of December 2024:"
   ]
  },
  {
   "cell_type": "code",
   "execution_count": 5,
   "id": "ec555a45",
   "metadata": {
    "slideshow": {
     "slide_type": "-"
    }
   },
   "outputs": [
    {
     "name": "stdout",
     "output_type": "stream",
     "text": [
      "Largest 100: 1.84%\n",
      "Smallest 100: -8.66%\n"
     ]
    }
   ],
   "source": [
    "large_cap_avg_return = Dec_2024_MC_returns.nlargest(100,'mkt_cap')['ret_2024'].mean()\n",
    "print(f\"Largest 100: {100*large_cap_avg_return :.2f}%\")\n",
    "small_cap_avg_return = Dec_2024_MC_returns.nsmallest(100,'mkt_cap')['ret_2024'].mean()\n",
    "print(f\"Smallest 100: {100*small_cap_avg_return :.2f}%\")"
   ]
  },
  {
   "cell_type": "markdown",
   "id": "ed311476",
   "metadata": {
    "slideshow": {
     "slide_type": "slide"
    }
   },
   "source": [
    "Average returns from 2020-2024, of the smallest and largest 100 stocks by market cap as of **December 2019**:"
   ]
  },
  {
   "cell_type": "code",
   "execution_count": 6,
   "id": "3c5a403c",
   "metadata": {
    "slideshow": {
     "slide_type": "skip"
    }
   },
   "outputs": [],
   "source": [
    "Dec_2019_MC_returns = monthly_stocks[(monthly_stocks['year'] == 2019) & (monthly_stocks['month'] == 12)][['permno','ticker','mkt_cap']].set_index('permno').merge(\n",
    "    return_2024,left_index=True,right_index=True)"
   ]
  },
  {
   "cell_type": "code",
   "execution_count": 7,
   "id": "dac7da2d",
   "metadata": {
    "slideshow": {
     "slide_type": "-"
    }
   },
   "outputs": [
    {
     "name": "stdout",
     "output_type": "stream",
     "text": [
      "Largest 100: 1.10%\n",
      "Smallest 100: 2.16%\n"
     ]
    }
   ],
   "source": [
    "large_cap_avg_return = Dec_2019_MC_returns.nlargest(100,'mkt_cap')['ret_2024'].mean()\n",
    "print(f\"Largest 100: {100*large_cap_avg_return :.2f}%\")\n",
    "small_cap_avg_return = Dec_2019_MC_returns.nsmallest(100,'mkt_cap')['ret_2024'].mean()\n",
    "print(f\"Smallest 100: {100*small_cap_avg_return :.2f}%\")"
   ]
  },
  {
   "cell_type": "markdown",
   "id": "04e15ff1",
   "metadata": {
    "editable": true,
    "slideshow": {
     "slide_type": "-"
    },
    "tags": []
   },
   "source": [
    "- Large-cap stocks *as of December 2024* had *higher* returns during 2020-2024.\n",
    "- Large-cap stocks *as of December 2019* had *lower* returns  2020-2024.\n",
    "- Does it make sense why the conclusion reverses? \n",
    "- Which approach is a more correct backtest?"
   ]
  },
  {
   "cell_type": "markdown",
   "id": "e94f3aa3",
   "metadata": {
    "editable": true,
    "slideshow": {
     "slide_type": "slide"
    },
    "tags": []
   },
   "source": [
    "## Let's extend this analysis:\n",
    "\n",
    "Suppose we go back every year to 1931:\n",
    "- Each year we sort stocks into 10 deciles by market cap as of that year.\n",
    "- We get the average return of stocks in each decile in that year. \n",
    "- Repeat for each year.\n",
    "- We now have almost 100 years of data on returns to ten different \"strategies\" (deciles) that position us more or less aggressively towards large-cap or small-cap stocks.\n",
    "- Take the average of the return on each decile from 1931 to the present, and compare these averages to inform us about how small-cap stocks perform compard to large-cap stocks."
   ]
  },
  {
   "cell_type": "markdown",
   "id": "e67643dc",
   "metadata": {
    "slideshow": {
     "slide_type": "slide"
    }
   },
   "source": [
    "## Continuing to illustrate lookahead bias:\n",
    "\n",
    "To remind us of the example we just did, we will compare two approaches:\n",
    "- In year t, sort stocks into deciles by their market cap **at the end of year t**, and calculate the average return of each decile during year t.\n",
    "- In year t, sort stocks into deciles by their market cap **at the end of year t-1**, and calculate the average return of each decile during year t.  \n",
    "\n",
    "What do we expect to see? Which approach is a more convincing backtest of the strategy?"
   ]
  },
  {
   "cell_type": "code",
   "execution_count": 8,
   "id": "65e201d9",
   "metadata": {
    "slideshow": {
     "slide_type": "skip"
    }
   },
   "outputs": [],
   "source": [
    "%%capture\n",
    "\n",
    "q = 10\n",
    "\n",
    "returns = []\n",
    "for year in range(1931,2024):\n",
    "    returns_t = monthly_stocks[monthly_stocks['year'] == year].groupby('permno')['ret'].mean().rename('ret_year')\n",
    "    mc_Dec = monthly_stocks[(monthly_stocks['year']==year) & (monthly_stocks['month']==12)][['permno','mkt_cap']]\n",
    "    mc_Dec['decile']=pd.qcut(mc_Dec['mkt_cap'],q,labels=False,duplicates='drop')\n",
    "    mc_Dec_returns = mc_Dec.set_index('permno').merge(returns_t,left_index=True,right_index=True)\n",
    "    decile_returns = mc_Dec_returns.groupby('decile')['ret_year'].mean()\n",
    "    returns.append(decile_returns)\n",
    "\n",
    "decile_return_averages = [ pd.Series([decile_returns[decile] for decile_returns in returns ]).mean() for decile in range(0,q) ]\n",
    "\n",
    "lookahead_fig,ax = plt.subplots()\n",
    "ax.bar(range(1,q+1),decile_return_averages)\n",
    "ax.set_xticks(range(1,q+1))\n",
    "ax.set_xlabel(r\"Decile of market cap, \\textbf{this} December\",usetex=True)\n",
    "ax.set_ylabel(\"Average return of stocks in this decile, \\n 1931-2024\");"
   ]
  },
  {
   "cell_type": "markdown",
   "id": "cea94387",
   "metadata": {
    "slideshow": {
     "slide_type": "slide"
    }
   },
   "source": [
    "## Results from approach 1:"
   ]
  },
  {
   "cell_type": "code",
   "execution_count": 9,
   "id": "b860fe63",
   "metadata": {
    "editable": true,
    "slideshow": {
     "slide_type": "-"
    },
    "tags": []
   },
   "outputs": [
    {
     "data": {
      "image/png": "[encoded data removed]",
      "text/plain": [
       "<Figure size 640x480 with 1 Axes>"
      ]
     },
     "execution_count": 9,
     "metadata": {},
     "output_type": "execute_result"
    }
   ],
   "source": [
    "lookahead_fig"
   ]
  },
  {
   "cell_type": "markdown",
   "id": "260a9791",
   "metadata": {
    "slideshow": {
     "slide_type": "-"
    }
   },
   "source": [
    "When we sort stocks by market capitalization from the end of the *current* year, we find that large-cap stocks exhibited higher returns during the year."
   ]
  },
  {
   "cell_type": "code",
   "execution_count": 10,
   "id": "51386277",
   "metadata": {
    "editable": true,
    "slideshow": {
     "slide_type": "skip"
    },
    "tags": []
   },
   "outputs": [],
   "source": [
    "%%capture\n",
    "\n",
    "q = 10\n",
    "\n",
    "returns = []\n",
    "for year in range(1931,2024):\n",
    "    returns_t = monthly_stocks[monthly_stocks['year'] == year].groupby('permno')['ret'].mean().rename('ret_year')\n",
    "    mc_Dec = monthly_stocks[(monthly_stocks['year']==year-1) & (monthly_stocks['month']==12)][['permno','mkt_cap']]\n",
    "    mc_Dec['decile']=pd.qcut(mc_Dec['mkt_cap'],q,labels=False,duplicates='drop')\n",
    "    mc_Dec_returns = mc_Dec.set_index('permno').merge(returns_t,left_index=True,right_index=True)\n",
    "    decile_returns = mc_Dec_returns.groupby('decile')['ret_year'].mean()\n",
    "    returns.append(decile_returns)\n",
    "\n",
    "decile_return_averages = [ pd.Series([decile_returns[decile] for decile_returns in returns ]).mean() for decile in range(0,q) ]\n",
    "\n",
    "correct_figure,ax = plt.subplots()\n",
    "ax.bar(range(1,q+1),decile_return_averages)\n",
    "ax.set_xticks(range(1,q+1))\n",
    "ax.set_xlabel(r\"Decile of market cap, \\textbf{previous} December\",usetex=True)\n",
    "ax.set_ylabel(\"Average return of stocks in this decile, \\n 1931-2024\");"
   ]
  },
  {
   "cell_type": "markdown",
   "id": "9afe732f",
   "metadata": {
    "slideshow": {
     "slide_type": "slide"
    }
   },
   "source": [
    "## Results from approach 2:"
   ]
  },
  {
   "cell_type": "code",
   "execution_count": 11,
   "id": "9922600b",
   "metadata": {
    "editable": true,
    "slideshow": {
     "slide_type": "-"
    },
    "tags": []
   },
   "outputs": [
    {
     "data": {
      "image/png": "[encoded data removed]",
      "text/plain": [
       "<Figure size 640x480 with 1 Axes>"
      ]
     },
     "execution_count": 11,
     "metadata": {},
     "output_type": "execute_result"
    }
   ],
   "source": [
    "correct_figure"
   ]
  },
  {
   "cell_type": "markdown",
   "id": "253b846e",
   "metadata": {
    "editable": true,
    "slideshow": {
     "slide_type": "-"
    },
    "tags": []
   },
   "source": [
    "When we sort stocks by market capitalization at the end of the *prior* year, we find that it was *small-cap* stocks that exhibited higher returns. Why does this make sense? Why is this the correct approach?"
   ]
  },
  {
   "cell_type": "markdown",
   "id": "ff3aa464",
   "metadata": {
    "editable": true,
    "slideshow": {
     "slide_type": "slide"
    },
    "tags": []
   },
   "source": [
    "### Backtesting concept: Value-weighted portfolios\n",
    "\n",
    "If you look at the code up to this point, we're just taking simple averages of all stocks.\n",
    "\n",
    "As we've seen, this corresponds with an equal-weighted strategy, which is actually quite active.\n",
    "\n",
    "That adds a theme to our investment proposal that we don't really want.\n",
    "For this reason it's slightly better to use value-weighted portfolios.\n",
    "\n",
    "This is not universally done in practice, but is standard in academia. From this point forward, we will mostly take this approach. \n",
    "\n",
    "Because it takes more work to do this, I will stop coding up the portfolios myself, and start downloading them from a standard data source."
   ]
  },
  {
   "cell_type": "markdown",
   "id": "df9a80da",
   "metadata": {
    "editable": true,
    "slideshow": {
     "slide_type": "slide"
    },
    "tags": []
   },
   "source": [
    "## Investment styles: Size, value, and momentum\n",
    "\n",
    "A “style” is a simple characteristic of an investment,\n",
    "that is used to form broad portfolios to (hopefully) beat the market.\n",
    "\n",
    "In the stock market, the best-known styles are:\n",
    "- Size: Another name for market capitalization.\n",
    "- Value: A valuation ratio involving the stock price.\n",
    "- Momentum: The stock’s return over recent months.\n",
    "\n",
    "Today we will look at average returns based on these styles,\n",
    "using evidence from the US stock market from 1926 to the present.\n",
    "\n",
    "(Later in the course we will use “factor” as another name for “style”.)"
   ]
  },
  {
   "cell_type": "markdown",
   "id": "83c75c18",
   "metadata": {
    "editable": true,
    "slideshow": {
     "slide_type": "slide"
    },
    "tags": []
   },
   "source": [
    "## Backtesting a style-based investment strategy\n",
    "\n",
    "1. Give a precise definition of the style you are studying. Examples:\n",
    "    - **Size:** The market capitalization of the stock’s issuer.\n",
    "    - **Value:** The issuer’s book-to-market ratio.\n",
    "    - **Momentum:** The price increase from month t − 13 to t − 1.  \n",
    "\n",
    "(Definitions vary in practice, but we will focus on those listed above.)\n",
    "\n",
    "2. Backtest the performance of portfolios sorted on this basis:  \n",
    "- At the start of each past year in your data, sort stocks into different portfolios based on the characteristic you are studying.\n",
    "- Calculate each portfolio’s value-weighted return for that year.\n",
    "- Repeat for each year in the data.\n",
    "\n",
    "3. Compare each portfolio’s returns with the market."
   ]
  },
  {
   "cell_type": "code",
   "execution_count": 12,
   "id": "e7f54570",
   "metadata": {
    "editable": true,
    "slideshow": {
     "slide_type": "skip"
    },
    "tags": []
   },
   "outputs": [],
   "source": [
    "import pandas as pd\n",
    "pd.options.mode.chained_assignment = None  # default='warn'\n",
    "\n",
    "import wrds\n",
    "import math\n",
    "import numpy\n",
    "import statsmodels.formula.api\n",
    "\n",
    "from matplotlib import pyplot as plt\n",
    "plt.rcParams['figure.figsize'] = [16.0, 8.0]\n",
    "\n",
    "from French_portfolios import get_French_portfolios_annual"
   ]
  },
  {
   "cell_type": "markdown",
   "id": "018e9d3a",
   "metadata": {
    "slideshow": {
     "slide_type": "slide"
    }
   },
   "source": [
    "### Average returns across portfolios formed on market cap\n",
    "\n",
    "Compare textbook figure 11.4. The years are 1926-2021."
   ]
  },
  {
   "cell_type": "code",
   "execution_count": 13,
   "id": "10e60986",
   "metadata": {
    "slideshow": {
     "slide_type": "skip"
    }
   },
   "outputs": [],
   "source": [
    "%%capture\n",
    "\n",
    "# Download Ken French's historical data on 10 portfolios formed on market capitalization (\"size\")\n",
    "size_portfolios = get_French_portfolios_annual('size',download=False)\n",
    "\n",
    "# Build the textbook's figure 11.4. (End in 2021 for consistency with that figure.)\n",
    "size_portfolios = size_portfolios['1926':'2021']\n",
    "size_portfolios_figure = plt.figure();\n",
    "means = [100*size_portfolios['d'+str(n)].mean() for n in range(1,11)];\n",
    "plt.bar(range(1,11),means);\n",
    "plt.xticks(range(1,11),range(1,11));\n",
    "plt.yticks([2*i for i in range(0,11)]);\n",
    "for i in range(1,11):\n",
    "    plt.text(i-0.33,means[i-1]+0.5,\"%3.1f\" % means[i-1]);\n",
    "plt.xlabel(\"Market cap decile (1=small,10=large)\");\n",
    "plt.ylabel(\"Arithmetic average \\n annual return (%)\");"
   ]
  },
  {
   "cell_type": "code",
   "execution_count": 14,
   "id": "f322915c",
   "metadata": {
    "slideshow": {
     "slide_type": "-"
    }
   },
   "outputs": [
    {
     "data": {
      "image/png": "[encoded data removed]",
      "text/plain": [
       "<Figure size 1600x800 with 1 Axes>"
      ]
     },
     "execution_count": 14,
     "metadata": {},
     "output_type": "execute_result"
    }
   ],
   "source": [
    "size_portfolios_figure"
   ]
  },
  {
   "cell_type": "markdown",
   "id": "855d9f7d",
   "metadata": {
    "slideshow": {
     "slide_type": "slide"
    }
   },
   "source": [
    "### Average returns across portfolios formed on book-to-market\n",
    "\n",
    "Compare textbook figure 11.5. The years are 1926-2021."
   ]
  },
  {
   "cell_type": "code",
   "execution_count": 15,
   "id": "9410ddce-5dcc-4a95-b6d9-fcb631bbdba2",
   "metadata": {
    "slideshow": {
     "slide_type": "skip"
    }
   },
   "outputs": [],
   "source": [
    "%%capture\n",
    "\n",
    "value_portfolios = get_French_portfolios_annual('value',download=False)\n",
    "\n",
    "# Build the figure\n",
    "value_portfolios = value_portfolios['1926':'2021']\n",
    "value_portfolios_figure = plt.figure()\n",
    "means = [100*value_portfolios['d'+str(n)].mean() for n in range(1,11)]\n",
    "plt.bar(range(1,11),means);\n",
    "plt.xticks(range(1,11),range(1,11));\n",
    "plt.yticks([2*i for i in range(0,11)]);\n",
    "for i in range(1,11):\n",
    "    plt.text(i-0.33,means[i-1]+0.5,\"%3.1f\" % means[i-1]);\n",
    "plt.xlabel(\"B/M decile (1=low,10=high)\")\n",
    "plt.ylabel(\"Arithmetic average \\n annual return (%)\");"
   ]
  },
  {
   "cell_type": "code",
   "execution_count": 16,
   "id": "f99e759f",
   "metadata": {
    "slideshow": {
     "slide_type": "-"
    }
   },
   "outputs": [
    {
     "data": {
      "image/png": "[encoded data removed]",
      "text/plain": [
       "<Figure size 1600x800 with 1 Axes>"
      ]
     },
     "execution_count": 16,
     "metadata": {},
     "output_type": "execute_result"
    }
   ],
   "source": [
    "value_portfolios_figure"
   ]
  },
  {
   "cell_type": "markdown",
   "id": "0151ab35",
   "metadata": {
    "slideshow": {
     "slide_type": "slide"
    }
   },
   "source": [
    "### Average returns across portfolios formed on momentum"
   ]
  },
  {
   "cell_type": "code",
   "execution_count": 17,
   "id": "ff848a49-1387-450e-b396-c8fe2aaee696",
   "metadata": {
    "slideshow": {
     "slide_type": "skip"
    }
   },
   "outputs": [],
   "source": [
    "%%capture\n",
    "\n",
    "# Download Ken French's historical data on 10 portfolios formed on recent price increases (\"momentum\")\n",
    "mom_portfolios = get_French_portfolios_annual('momentum',download=False)\n",
    "\n",
    "# Build the figure\n",
    "mom_portfolios = mom_portfolios['1926':'2021']\n",
    "momentum_portfolios_figure = plt.figure()\n",
    "means = [100*mom_portfolios['d'+str(n)].mean() for n in range(1,11)]\n",
    "plt.bar(range(1,11),means);\n",
    "plt.xticks(range(1,11),range(1,11));\n",
    "plt.yticks([2*i for i in range(0,11)]);\n",
    "for i in range(1,11):\n",
    "    plt.text(i-0.33,means[i-1]+0.5,\"%3.1f\" % means[i-1]);\n",
    "plt.xlabel(\"Momentum decile (1=low,10=large)\");\n",
    "plt.ylabel(\"Arithmetic average \\n annual return (%)\");"
   ]
  },
  {
   "cell_type": "code",
   "execution_count": 18,
   "id": "2768863e",
   "metadata": {
    "slideshow": {
     "slide_type": "-"
    }
   },
   "outputs": [
    {
     "data": {
      "image/png": "[encoded data removed]",
      "text/plain": [
       "<Figure size 1600x800 with 1 Axes>"
      ]
     },
     "execution_count": 18,
     "metadata": {},
     "output_type": "execute_result"
    }
   ],
   "source": [
    "momentum_portfolios_figure"
   ]
  },
  {
   "cell_type": "markdown",
   "id": "72ed350e",
   "metadata": {
    "slideshow": {
     "slide_type": "slide"
    }
   },
   "source": [
    "## What is missing from this evidence?\n",
    "\n",
    "- Past performance does not guarantee future performance.\n",
    "    - As we mentioned earlier, we can’t do much about this.\n",
    "\n",
    "- Transaction costs may be quite large.\n",
    "    - We will spend some time on this issue, but not much.\n",
    "    - In general, it doesn’t change today’s conclusions: Style-based strategies have outperformed the market.\n",
    "\n",
    "- **Risk**: We have only looked at long-run averages (90+ years).\n",
    "    - For any one person, there is no guarantee what the average will be within their investment horizon, or what kind of short-term risk they might have to accept to pursue these strategies.\n",
    "    - How should we measure risk? How much risk is too much? These questions are our main focus for the rest of Module 2."
   ]
  },
  {
   "cell_type": "markdown",
   "id": "702b7760",
   "metadata": {
    "slideshow": {
     "slide_type": "slide"
    }
   },
   "source": [
    "## Comparison of average return and volatility across portfolios formed on size"
   ]
  },
  {
   "cell_type": "code",
   "execution_count": 19,
   "id": "1f47ddff",
   "metadata": {
    "slideshow": {
     "slide_type": "skip"
    }
   },
   "outputs": [],
   "source": [
    "%%capture\n",
    "size_volatility_figure = plt.figure()\n",
    "means = [100*size_portfolios['d'+str(n)].mean() for n in range(1,11)]\n",
    "vols = [100*size_portfolios['d'+str(n)].std() for n in range(1,11)]\n",
    "plt.scatter(vols,means);\n",
    "for i in range(1,11):\n",
    "    plt.text(vols[i-1]+0.1,means[i-1]-0.1,str(i));\n",
    "plt.xlabel(\"Volatility of annual return\");\n",
    "plt.ylabel(\"Arithmetic average annual return\");"
   ]
  },
  {
   "cell_type": "code",
   "execution_count": 20,
   "id": "39b28172",
   "metadata": {
    "editable": true,
    "slideshow": {
     "slide_type": "-"
    },
    "tags": []
   },
   "outputs": [
    {
     "data": {
      "image/png": "[encoded data removed]",
      "text/plain": [
       "<Figure size 1600x800 with 1 Axes>"
      ]
     },
     "execution_count": 20,
     "metadata": {},
     "output_type": "execute_result"
    }
   ],
   "source": [
    "size_volatility_figure"
   ]
  }
 ],
 "metadata": {
  "celltoolbar": "Slideshow",
  "kernelspec": {
   "display_name": "Python FIN323",
   "language": "python",
   "name": "fin323"
  },
  "language_info": {
   "codemirror_mode": {
    "name": "ipython",
    "version": 3
   },
   "file_extension": ".py",
   "mimetype": "text/x-python",
   "name": "python",
   "nbconvert_exporter": "python",
   "pygments_lexer": "ipython3",
   "version": "3.12.3"
  }
 },
 "nbformat": 4,
 "nbformat_minor": 5
}
