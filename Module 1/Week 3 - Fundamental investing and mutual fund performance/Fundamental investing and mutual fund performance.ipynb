{
 "cells": [
  {
   "cell_type": "markdown",
   "id": "83be360c",
   "metadata": {
    "slideshow": {
     "slide_type": "slide"
    }
   },
   "source": [
    "<center> <h1> Fundamental investing and mutual fund performance </h1> </center>"
   ]
  },
  {
   "cell_type": "markdown",
   "id": "e51704e6",
   "metadata": {
    "slideshow": {
     "slide_type": "-"
    }
   },
   "source": [
    "<center>William Mann</center>"
   ]
  },
  {
   "cell_type": "markdown",
   "id": "b2dc8c64",
   "metadata": {
    "slideshow": {
     "slide_type": "-"
    }
   },
   "source": [
    "<center>\n",
    "<img src=\"https://wgjm1986.github.io/Investments/Emory_small.png\" height=\"200px\" width=\"300px\" />\n",
    "</center>                                                                                            "
   ]
  },
  {
   "cell_type": "markdown",
   "id": "25522a46",
   "metadata": {
    "slideshow": {
     "slide_type": "slide"
    }
   },
   "source": [
    "## The value-weighted strategy is “the market”\n",
    "\n",
    "Today we start to think about how to invest to earn high returns.\n",
    "- You should also care about risk; we will get to that later.\n",
    "\n",
    "Reminder: The value-weighted strategy is always our benchmark.\n",
    "- Any other strategy is called an “active” strategy,\n",
    "- “Beating the market” means beating the VW strategy.\n",
    "\n",
    "Why?\n",
    "- All investors together **must** earn a value-weighted return.\n",
    "- Any investor can match this return, at minimal cost, by value-weighting the investments in their own portfolio.\n",
    "- If anyone earns a higher return, this must be offset by a lower return to someone else **who also chose not to value-weight.**"
   ]
  },
  {
   "cell_type": "markdown",
   "id": "611f8d47",
   "metadata": {
    "slideshow": {
     "slide_type": "slide"
    }
   },
   "source": [
    "### Active strategies and the efficient markets hypothesis\n",
    "\n",
    "- Are there strategies that predictably beat the market?  \n",
    "The prior slide suggests that the null hypothesis should be “no.”  \n",
    "We should require strong evidence to change our minds.\n",
    "- To say it formally, our null is the efficient markets hypothesis:  \n",
    "Prices should already reflect any information that is useful to investors, and public enough for us to see it in the first place.\n",
    "- It is well-known that you cannot truly test this “hypothesis.”  \n",
    "It just tells us what kind of evidence we should be looking for.  \n",
    "We will be looking at such evidence for rest of the course.\n",
    "- To be clear, I will never claim that we have *proved* any strategy is better than value-weighting. This is impossible to say objectively, for the same reason that we cannot test whether markets are efficient."
   ]
  },
  {
   "cell_type": "markdown",
   "id": "0d16c6a0",
   "metadata": {
    "slideshow": {
     "slide_type": "slide"
    }
   },
   "source": [
    "## Mutual fund returns 1982-1991 (Malkiel, 1995)\n",
    "\n",
    "<center>\n",
    "<img src=\"https://wgjm1986.github.io/Investments/Module%201/Week%203%20-%20Fundamental%20investing%20and%20mutual%20fund%20performance/Malkiel1995_Table1.png\" width=\"1300px\" />\n",
    "</center>\n",
    "    \n",
    "- Average fund underperformed the S&P 500 in each category.\n",
    "- Note the importance of correcting for *survivorship bias.*"
   ]
  },
  {
   "cell_type": "markdown",
   "id": "d551de7d",
   "metadata": {
    "slideshow": {
     "slide_type": "slide"
    }
   },
   "source": [
    "### CAPM alpha for all mutual funds in Malkiel (1995)"
   ]
  },
  {
   "cell_type": "markdown",
   "id": "2e080334",
   "metadata": {
    "slideshow": {
     "slide_type": "-"
    }
   },
   "source": [
    "<center>\n",
    "<img src=\"https://wgjm1986.github.io/Investments/Module%201/Week%203%20-%20Fundamental%20investing%20and%20mutual%20fund%20performance/Malkiel1995_Fig1.png\" width=\"800px\" />\n",
    "</center>"
   ]
  },
  {
   "cell_type": "markdown",
   "id": "5aea8c0b",
   "metadata": {
    "slideshow": {
     "slide_type": "slide"
    }
   },
   "source": [
    "## More recent update\n",
    "\n",
    "<center>\n",
    "<img src=\"https://wgjm1986.github.io/Investments/Module%201/Week%203%20-%20Fundamental%20investing%20and%20mutual%20fund%20performance/SPIVA_performance_Exh2.png\" width=\"1300px\" />\n",
    "</center>\n",
    "\n",
    "[(click for an even more recent update)](https://www.morningstar.com/funds/actively-managed-funds-continue-underperform)"
   ]
  },
  {
   "cell_type": "markdown",
   "id": "d5255286",
   "metadata": {
    "slideshow": {
     "slide_type": "slide"
    }
   },
   "source": [
    "## Interpreting the evidence\n",
    "\n",
    "In fact, the prior evidence should not be surprising:  \n",
    "There are clear limits on the performance of the *average* fund.\n",
    "- All investors collectively hold a value-weighted portfolio.\n",
    "- A fund can only outperform that portfolio if some other investors underperform it by an equal amount.\n",
    "- The mutual fund industry as a whole could only outperform by consistently taking money from some other investor class. This does not seem realistic to expect.\n",
    "\n",
    "What about targeting only the funds with the best track record?"
   ]
  },
  {
   "cell_type": "markdown",
   "id": "264540d7",
   "metadata": {
    "slideshow": {
     "slide_type": "slide"
    }
   },
   "source": [
    "## Performance-chasing\n",
    "\n",
    "<center>\n",
    "<img src=\"https://wgjm1986.github.io/Investments/Module%201/Week%203%20-%20Fundamental%20investing%20and%20mutual%20fund%20performance/SirriTufano1998_Fig1A.png\" width=\"1300px\" />\n",
    "</center>\n",
    "\n",
    "\n",
    "Indeed, funds that perform well attract inflows from investors.\n",
    "\n",
    "(Note about the figure: Bigger number = better ranking)"
   ]
  },
  {
   "cell_type": "markdown",
   "id": "8d7d6883",
   "metadata": {
    "slideshow": {
     "slide_type": "slide"
    }
   },
   "source": [
    "## Performance-chasing assessment: Malkiel (1995)\n",
    "\n",
    "In the 1970s, 65\\% of “winner” funds remained winners next year.  \n",
    "But during the 1980s, this fell to only 52\\%.\n",
    "\n",
    "|  | Top half next year | Bottom half next year |\n",
    "|--|--------------------|-----------------------|\n",
    "| **1970s** | | |\n",
    "| Top half last year | 65.1\\% | 34.9\\% |\n",
    "| Bottom half last year | 35.5\\% | 64.5\\% |\n",
    "| **1980s** | | |\n",
    "| Top half last year | 51.7\\% | 48.3\\% |\n",
    "| Bottom half last year | 47.5\\% | 52.5\\% |"
   ]
  },
  {
   "cell_type": "markdown",
   "id": "872503c2",
   "metadata": {
    "slideshow": {
     "slide_type": "slide"
    }
   },
   "source": [
    "<center>\n",
    "<img src=\"https://wgjm1986.github.io/Investments/Module%201/Week%203%20-%20Fundamental%20investing%20and%20mutual%20fund%20performance/SPIVA-persistence-2022.png\" width=\"800px\" />\n",
    "</center>"
   ]
  },
  {
   "cell_type": "markdown",
   "id": "55411046",
   "metadata": {
    "slideshow": {
     "slide_type": "slide"
    }
   },
   "source": [
    "## Two interpretations of this evidence\n",
    "\n",
    "The cynical view:\n",
    "- The stock market is mostly efficient, even for professionals.\n",
    "- Active equity funds simply should not exist.\n",
    "\n",
    "The sympathetic view:\n",
    "- Some managers do have skill in beating benchmarks,\n",
    "and investors are correct to chase that performance.\n",
    "- But, these managers cannot scale up their ability forever.\n",
    "- Investors flood into a fund until its performance looks unremarkable, net of fees.\n",
    "- The true measure of manager skill is the size of the fund."
   ]
  },
  {
   "cell_type": "markdown",
   "id": "72500bf5",
   "metadata": {
    "slideshow": {
     "slide_type": "slide"
    }
   },
   "source": [
    "## Investor implications\n",
    "\n",
    "However you interpret the evidence, the implication for investors is:\n",
    "- The average mutual fund will not beat an index strategy.\n",
    "- Some will, *but you cannot invest in them ahead of time:*  \n",
    "Either their good results were completely unpredictable,  \n",
    "or the fund will grow to the point it can’t repeat them,  \n",
    "or the fund might not accept your money at all.\n",
    "\n",
    "There are two reasonable ways to respond:\n",
    "- Just pursue a value-weighted strategy, as cheaply as possible.  \n",
    "We will say a few words about this next.\n",
    "- Seek strategies, not managers, that have beaten the market in the past. Surprisingly, this is not so hard to do!  \n",
    "We will spend the rest of the course thinking carefully about what this means."
   ]
  },
  {
   "cell_type": "markdown",
   "id": "4a06047c",
   "metadata": {
    "slideshow": {
     "slide_type": "slide"
    }
   },
   "source": [
    "## The growth of passive investing\n",
    "\n",
    "- Analysts and commentators have long noticed the poor average performance of professional mutual fund managers.\n",
    "- Paul Samuelson called for a low-cost index fund in 1974.\n",
    "- 1975-1976: John Bogle founded Vanguard, launched its S\\&P 500 index fund, and began selling directly to investors.\n",
    "- The idea seemed controversial or ridiculous to many at the time:\n",
    "\n",
    "> *I can’t believe that the great mass of investors are going to be satisfied with an ultimate goal of just achieving average returns on their funds.*  \n",
    "Ned Johnson (Chairman of Fidelity), 1976"
   ]
  },
  {
   "cell_type": "markdown",
   "id": "cf663012",
   "metadata": {
    "slideshow": {
     "slide_type": "slide"
    }
   },
   "source": [
    "<center>\n",
    "<img src=\"https://wgjm1986.github.io/Investments/Module%201/Week%203%20-%20Fundamental%20investing%20and%20mutual%20fund%20performance/FT-passive-active.png\" width=\"1300px\" />\n",
    "</center>"
   ]
  },
  {
   "cell_type": "markdown",
   "id": "85ab9dec",
   "metadata": {
    "slideshow": {
     "slide_type": "slide"
    }
   },
   "source": [
    "- As we saw before, there is no obvious way to choose a fund manager who will beat the market, before they do it.\n",
    "- What if you just followed a simple strategy by yourself?\n",
    "- You might think you can’t do any better than the funds. After all, they are run by professionals with more experience.\n",
    "- But surprisingly, there are in fact very simple and popular strategies that have earned returns above the market return. We will look at some of the best-known examples today.\n",
    "- However, this evidence is not necesesarily enough to conclude that these strategies are better than passive investing. The rest of the course will be about considering this question in more detail."
   ]
  },
  {
   "cell_type": "markdown",
   "id": "6301302d",
   "metadata": {
    "slideshow": {
     "slide_type": "slide"
    }
   },
   "source": [
    "## Two broad categories of investment strategy\n",
    "\n",
    "**Value investing**: Buy investments that are cheap compared to some\n",
    "“fundamental” or “intrinsic” value. Sell those that are overvalued.\n",
    "- Assume that you are unusually good at estimating this value.\n",
    "- Also assume that prices move towards fundamental value during your investment horizon; or else, plan to hold indefinitely.\n",
    "- Famously advocated by Benjamin Graham and Warren Buffett.\n",
    "- Graham originally called for careful valuation of individual stocks.  \n",
    "But he evolved to a simpler multiples-type approach (next slide).\n",
    "\n",
    "**Technical analysis**: Trading based only on patterns in prices, without regard to the characteristics of the companies behind them.\n",
    "- Most prominent example: Momentum trading."
   ]
  },
  {
   "cell_type": "markdown",
   "id": "64918fab",
   "metadata": {
    "slideshow": {
     "slide_type": "slide"
    }
   },
   "source": [
    "## A conversation with Benjamin Graham, 1976\n",
    "\n",
    "*Q: In selecting the common stock portfolio, do you advise careful\n",
    "study of and selectivity among individual issues?*\n",
    "\n",
    "In general, no. I am no longer an advocate of elaborate techniques of\n",
    "security analysis in order to find superior value opportunities. ...\n",
    "This was a rewarding activity, say, 40 years ago, when our textbook\n",
    "was first published; but the situation has changed a good deal since\n",
    "then. ... To that very limited extent I’m on the side of the “efficient\n",
    "market” school of thought now generally accepted by the professors.\n",
    "\n",
    "*Q: What general approach to portfolio formation do you advocate?* \n",
    "\n",
    "Essentially, a highly simplified one that applies a single criterion or\n",
    "perhaps two criteria to the price ... and that relies for its results on\n",
    "the performance of the portfolio as a whole – i.e., on the group\n",
    "results – rather than on the expectations for individual issues."
   ]
  },
  {
   "cell_type": "markdown",
   "id": "42a2ab21",
   "metadata": {
    "slideshow": {
     "slide_type": "slide"
    }
   },
   "source": [
    "## Growth and value stocks\n",
    "\n",
    "- Analysts often compare \"growth\" stocks and \"value\" stocks.\n",
    "- Exact definitions vary, but the general idea is always the same:\n",
    "    - Divide market cap by some number from financial statements.\n",
    "    - Stocks with high values of this ratio are called “growth stocks.”\n",
    "    - Stocks with low values are called “value stocks.”\n",
    "- These labels are meant to suggest investment strategies:\n",
    "    - High ratios suggest growth in future dividends.\n",
    "    - Low ratios look like a cheap buying opportunity.\n",
    "- ...but don’t take this too seriously. They are just labels."
   ]
  },
  {
   "cell_type": "markdown",
   "id": "061fbd51",
   "metadata": {
    "slideshow": {
     "slide_type": "slide"
    }
   },
   "source": [
    "## Example: Market-to-book ratio\n",
    "\n",
    "Recall that market value of equity is usually greater than book value.\n",
    "- Their ratio gives us the market-to-book ratio (MB for short).\n",
    "- For example, at the end of 2018, Microsoft’s book value of equity was \\\\$92bn, while its market capitalization was \\\\$770bn.\n",
    "- Its market-to-book ratio was 770/92 = 8.37.\n",
    "- At the same time, Kohl’s had book value of equity \\\\$5.5bn, market capitalization of \\\\$12bn. So Kohl’s MB ratio was 2.2.\n",
    "\n",
    "Price-to-book is another name for the same thing.\n",
    "\n",
    "Note that you get the same ratios if you use per-share numbers.\n",
    "\n",
    "Book-to-market (BM), or book-to-price, just divides the other way:  \n",
    "BM for MSFT was 92/770 = 0.12, BM for Kohl’s was 5.5/12 = 0.46"
   ]
  },
  {
   "cell_type": "markdown",
   "id": "fc592c3e",
   "metadata": {
    "slideshow": {
     "slide_type": "slide"
    }
   },
   "source": [
    "## Price-earnings and price-dividend ratios\n",
    "\n",
    "The price-to-earnings ratio (PE) is similar to MB:\n",
    "- Market capitalization divided by the firm’s earnings;\n",
    "- or, share price divided by earnings per share.\n",
    "\n",
    "Price-dividend (PD) uses dividends instead of earnings.\n",
    "- Closely linked to PE, because dividends and earnings have to add up to the same number over in the long run.\n",
    "\n",
    "Textbook section 18.4 provides some data and figures.\n",
    "\n",
    "Like the MB ratio, can use these for relative comparisons across firms.\n",
    "\n",
    "But unlike MB, these ratios are also meaningful on their own: they are connected with DCF valuation. See below..."
   ]
  },
  {
   "cell_type": "markdown",
   "id": "a152d564",
   "metadata": {
    "slideshow": {
     "slide_type": "slide"
    }
   },
   "source": [
    "## DCF and valuation ratios\n",
    "\n",
    "The formula $P = \\frac{CF_1}{r-g}$ can be rearranged as\n",
    "\n",
    "$$\n",
    "\\frac{P}{CF_1} = \\frac{1}{r-g}\n",
    "$$\n",
    "\n",
    "The left side looks like a valuation multiple:\n",
    "\n",
    "Depending on the setting, could be P/E, EV/EBITDA, etc.\n",
    "\n",
    "The formula gives us perspective on what affects these multiples,\n",
    "and, how big of an effect we could expect from changing $r$ or $g$."
   ]
  },
  {
   "cell_type": "markdown",
   "id": "2fc48722",
   "metadata": {
    "slideshow": {
     "slide_type": "slide"
    }
   },
   "source": [
    "## Dividend discount model and P/D ratio\n",
    "\n",
    "In the dividend discount model, the P/D ratio is equal to\n",
    "\n",
    "$$\n",
    "\\frac{P_{\\text{stock}}}{\\text{Div}_1} = \\frac{1}{r_E - g_{Div}}\n",
    "$$\n",
    "\n",
    "Illustration:\n",
    "- Suppose the discount rate for a company’s dividends is $r_E = 8\\%$,\n",
    "and its future dividends will grow at $g_{Div} = 3\\%$.\n",
    "- Then its P/D ratio is $\\frac{1}{0.08-0.03} = 20$, a typical value.\n",
    "- If we forecast \\\\$1 of dividends per share in the upcoming year, then each share is worth \\\\$20 today.\n",
    "\n",
    "These formulas are very simple, but they can help us get some perspective on what matters for stock prices..."
   ]
  },
  {
   "cell_type": "markdown",
   "id": "abb8d6c5",
   "metadata": {
    "slideshow": {
     "slide_type": "slide"
    }
   },
   "source": [
    "### Using the dividend discount model to understand stocks\n",
    "\n",
    "**Example 1:** *Short-run* events do not affect stock prices much.\n",
    "- Suppose next year’s profit and dividend forecasts fall by 25\\%.  \n",
    "But, suppose everyone expects things to then return to normal.\n",
    "- What happens to the stock price from the previous slide?\n",
    "    - At the end of the year, the stock price will be:\n",
    "    $$ \\$1 \\times \\frac{1.03}{.08 − .03} = \\$20.60 $$\n",
    "    - The value of the stock today is that \\\\$20.60, plus \\\\$0.75 of dividends expected by the end of the year, discounted once: \n",
    "    $$ \\frac{\\$20.60+\\$0.75}{1.08} = \\$19.77 $$\n",
    "- So there is a 25\\% drop in this year's profits, but only 1\\% drop in stock price.\n",
    "\n",
    "Conclusion: The *near-term future* is only a small part of a stock’s total value."
   ]
  },
  {
   "cell_type": "markdown",
   "id": "4f627394",
   "metadata": {
    "slideshow": {
     "slide_type": "slide"
    }
   },
   "source": [
    "### Using the dividend discount model to understand stocks\n",
    "\n",
    "**Example 2:** *Long-run growth* affects stock prices tremendously.\n",
    "\n",
    "- Suppose the company in the original example is on track this year to pay its \\\\$1 dividend per share. \n",
    "- But some event today shrinks the long-run forecast of dividend growth to 2.5\\%.\n",
    "- The slower growth rate will not be obvious right away.\n",
    "- But the stock price *today* falls from \\\\$20 to $\\frac{\\$1}{0.08−0.025} = \\$18.18$.\n",
    "- A bigger drop than the prior slide, with no obvious cause today.\n",
    "\n",
    "Conclusion: Even if stock prices make sense, they can be hard to explain."
   ]
  }
 ],
 "metadata": {
  "celltoolbar": "Slideshow",
  "kernelspec": {
   "display_name": "Python 3 (ipykernel)",
   "language": "python",
   "name": "python3"
  },
  "language_info": {
   "codemirror_mode": {
    "name": "ipython",
    "version": 3
   },
   "file_extension": ".py",
   "mimetype": "text/x-python",
   "name": "python",
   "nbconvert_exporter": "python",
   "pygments_lexer": "ipython3",
   "version": "3.10.12"
  }
 },
 "nbformat": 4,
 "nbformat_minor": 5
}
