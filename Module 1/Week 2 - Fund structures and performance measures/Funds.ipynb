{
 "cells": [
  {
   "cell_type": "markdown",
   "id": "83be360c",
   "metadata": {
    "slideshow": {
     "slide_type": "slide"
    }
   },
   "source": [
    "<center> <h1> Fund structures and performance measures </h1> </center>"
   ]
  },
  {
   "cell_type": "markdown",
   "id": "e51704e6",
   "metadata": {
    "slideshow": {
     "slide_type": "-"
    }
   },
   "source": [
    "<center>William Mann</center>"
   ]
  },
  {
   "cell_type": "markdown",
   "id": "b2dc8c64",
   "metadata": {
    "slideshow": {
     "slide_type": "-"
    }
   },
   "source": [
    "<center>\n",
    "<img src=\"https://wgjm1986.github.io/Investments/Emory_small.png\" height=\"200px\" width=\"300px\" />\n",
    "</center>                                                                                            "
   ]
  },
  {
   "cell_type": "markdown",
   "id": "c587891a",
   "metadata": {
    "slideshow": {
     "slide_type": "slide"
    }
   },
   "source": [
    "## Fund balance sheet and net asset value\n",
    "\n",
    "Funds have a relatively simple balance sheet:\n",
    "\n",
    "- Assets: Investments, and cash needed for operations.\n",
    "    - Most commonly, other companies’ liabilities or equity.\n",
    "    - Total amount is called assets under management (AUM).\n",
    "    - Most companies report asset values based on cost, but funds attempt to report market values. See next slide.\n",
    "- Liabilities: Accrued expenses, and possibly borrowing.\n",
    "- Equity: Shares sold to investors.\n",
    "\n",
    "The fund’s equity value is called its net asset value or NAV.\n",
    "The equity value per share can be called \"NAV per share,\" or can also just be called \"NAV.\"\n",
    "\n",
    "$$\n",
    "\\text{NAV per share} = \\frac{ \\text{Assets} - \\text{Liabilities} }{ \\text{Shares outstanding} }\n",
    "$$\n",
    "\n",
    "You can usually tell from context whether NAV refers to a whole-fund measure or a per-share measure. I will always try to be clear about this."
   ]
  },
  {
   "cell_type": "markdown",
   "id": "c2066bb3",
   "metadata": {
    "slideshow": {
     "slide_type": "slide"
    }
   },
   "source": [
    "## Asset values and marking to market\n",
    "\n",
    "- Most companies follow cost accounting: The book value of an asset is the price that was paid to acquire it.\n",
    "- But funds attempt to report their assets at market value, which they recalculate every day based on recent sale prices.\n",
    "- The goal is for NAV to reflect a fair selling price for one share.\n",
    "- For very liquid assets like public stocks, this is straightforward. For funds holding these assets, NAV closely tracks market value.\n",
    "- For illiquid assets like corporate bonds and real estate, it is much more difficult to say what the true market value is, and there is no guarantee that NAV is close to that value."
   ]
  },
  {
   "cell_type": "markdown",
   "id": "1b92b990",
   "metadata": {
    "slideshow": {
     "slide_type": "slide"
    }
   },
   "source": [
    "## Investment returns and distributions\n",
    "\n",
    "- Many funds are technically corporations, but can avoid taxes, as long as they “pass through” all income from investments.\n",
    "- This income includes, stock dividends, bond coupons, and also capital gains realized from the sale of securities.\n",
    "- Any such income must be distributed equally to all shareholders in the fund, at regular intervals.\n",
    "- Many investors elect to receive these distributions in the form of more shares, effectively reinvesting them back into the fund.\n",
    "- But the distribution is still taxable! This can create unwanted and inconvenient tax events for the investor."
   ]
  },
  {
   "cell_type": "markdown",
   "id": "192ab6d5",
   "metadata": {
    "slideshow": {
     "slide_type": "slide"
    }
   },
   "source": [
    "## Structure of a closed-end fund\n",
    "\n",
    "- A closed-end fund sells shares when it initially opens, and uses the proceeds to form its investment portfolio.\n",
    "- At some future date the fund will liquidate and close (though this date is not necessarily fixed in advance).\n",
    "- Until then, the number of shares generally does not change. The only way to invest is to buy shares from an existing investor. The only way to divest is to sell to another investor.\n",
    "- Investor demand affects the share price but not the fund’s AUM.\n",
    "\n",
    "Closed-end funds are often exchange-traded, but are not ETFs."
   ]
  },
  {
   "cell_type": "markdown",
   "id": "0d7c4e32",
   "metadata": {
    "slideshow": {
     "slide_type": "slide"
    }
   },
   "source": [
    "## Closed-end funds are a relatively small market\n",
    "AUM of closed-end funds, year-end, billions of dollars (source: ICI factbook):\n",
    "\n",
    "![](https://wgjm1986.github.io/Investments/Module%201/Week%202%20-%20Fund%20structures%20and%20performance%20measures/CEF_AUM.png)"
   ]
  },
  {
   "cell_type": "markdown",
   "id": "6f7e6230",
   "metadata": {
    "slideshow": {
     "slide_type": "slide"
    }
   },
   "source": [
    "## Return to investing in a CEF\n",
    "\n",
    "You buy and sell CEF shares at market prices, so the return to\n",
    "investing is calculated the same way as with a company’s stock:\n",
    "\n",
    "$$\n",
    "\\text{CEF return}\n",
    "=\n",
    "\\frac{ P_1 + \\text{Distributions} }{ P_0 } - 1\n",
    "$$\n",
    "\n",
    "The share price is often quite different from the fund’s NAV.\n",
    "- Usually shares trade at a discount to NAV. (See next slide.)\n",
    "- The exact reason for this is not universally agreed.\n",
    "- Presents a problem for a CEF that attempts to index."
   ]
  },
  {
   "cell_type": "markdown",
   "id": "3cd8d95f",
   "metadata": {
    "slideshow": {
     "slide_type": "slide"
    }
   },
   "source": [
    "### CEF premiums and discounts of share price to NAV (%)\n",
    "\n",
    "![](https://wgjm1986.github.io/Investments/Module%201/Week%202%20-%20Fund%20structures%20and%20performance%20measures/CEF_discount.png)"
   ]
  },
  {
   "cell_type": "markdown",
   "id": "a16227b4",
   "metadata": {
    "slideshow": {
     "slide_type": "slide"
    }
   },
   "source": [
    "## Structure of a mutual fund (open-end fund)\n",
    "\n",
    "We will use “mutual fund” and “open-end fund” interchangeably.  \n",
    "(This is almost a universal standard, at least in the United States.)\n",
    "\n",
    "In a mutual fund:\n",
    "- Investors do not trade shares with each other.\n",
    "- Instead, the fund sponsor sells (issues) shares directly to investors, and repurchases (redeems) them directly from investors.\n",
    "- These trades are processed after markets close each day, at the new NAV calculated based on closing prices that day.\n",
    "- The fund keeps cash on hand to meet redemptions. "
   ]
  },
  {
   "cell_type": "markdown",
   "id": "919df590",
   "metadata": {
    "slideshow": {
     "slide_type": "slide"
    }
   },
   "source": [
    "## Most investment is through mutual funds\n",
    "\n",
    "AUM of mutual funds and closed-end funds, millions of dollars (source: ICI factbook):"
   ]
  },
  {
   "cell_type": "markdown",
   "id": "e856eeb4",
   "metadata": {
    "slideshow": {
     "slide_type": "-"
    }
   },
   "source": [
    "<center>\n",
    "<img src=\"https://wgjm1986.github.io/Investments/Module%201/Week%202%20-%20Fund%20structures%20and%20performance%20measures/OEF_CEF_AUM.png\" />\n",
    "</center>"
   ]
  },
  {
   "cell_type": "markdown",
   "id": "3bc952ec",
   "metadata": {
    "slideshow": {
     "slide_type": "slide"
    }
   },
   "source": [
    "## Mutual fund fees and investment returns\n",
    "\n",
    "Types of fees:\n",
    "- Loads: Commission on initial investment (“front-end load”), and fees for existing the investment (“back-end load”).\n",
    "- Operating expenses and “12b-1 charges”: Cover the ongoing costs of running the fund, including commissions, salaries, marketing and distribution costs. These are deducted from NAV.\n",
    "\n",
    "Because you trade at NAV, the return to investing, ignoring loads, is\n",
    "\n",
    "$$\n",
    "\\text{Mutual fund return}\n",
    "=\n",
    "\\frac{ NAV_1 + \\text{Distributions} }{ NAV_0 } - 1\n",
    "$$\n",
    "\n",
    "All categories of fees have fallen over time."
   ]
  },
  {
   "cell_type": "markdown",
   "id": "661ae9ac",
   "metadata": {
    "slideshow": {
     "slide_type": "slide"
    }
   },
   "source": [
    "## Negative spillover effects of redemptions\n",
    "\n",
    "The mutual fund promises to redeem investor shares at any time, with cash, at the NAV that it calculates.\n",
    "When a large amount of redemptions come in, the fund may be forced to sell securities to raise the necessary cash in order to honor this promise. This can create several types of negative spillover effect to the investors who did *not* redeem:\n",
    "\n",
    "- **Unwanted cash distributions**: The fund will likely realize a capital gain, which must be distributed to *all* investors. Those who receive distributions as cash will need to reinvest that cash.\n",
    "- **Tax events**: Regardless of how investors receive distributions, the fund's capital gain described above is a tax event for *all* investors.\n",
    "- **Fragility**: For illiquid assets such as corporate bonds and real estate, investors sometimes know that the quoted NAV is too high. This can create a race for the exits: If you sell now, you get the high NAV. If you sell later, you may get a lower NAV. If you wait too long, the fund may fail completely due to the stampede!"
   ]
  },
  {
   "cell_type": "markdown",
   "id": "03fc156b",
   "metadata": {
    "slideshow": {
     "slide_type": "slide"
    }
   },
   "source": [
    "### Summary: Weaknesses of closed-end and mutual fund structures\n",
    "\n",
    "CEF and mutual fund structures each have important weaknesses:\n",
    "- CEF: Cannot grow, and cannot reliably track an index.\n",
    "- Mutual fund: Cannot offer intraday exchange-based trading, and require cash management, which contributes to fund costs and can create negative spillover effects between investors.\n",
    "\n",
    "For this course, you should understand the above issues, and how the ETF structure solves them (next section).\n",
    "\n",
    "In fact, the ETF structure also solves several other important issues.\n",
    "I will not ask you to study beyond what is described in this document,\n",
    "but would be glad to provide more information for those interested."
   ]
  },
  {
   "cell_type": "markdown",
   "id": "9ff87be1",
   "metadata": {
    "slideshow": {
     "slide_type": "slide"
    }
   },
   "source": [
    "## Growth of ETFs\n",
    "\n",
    "AUM of mutual funds, CEFs, and ETFs, millions of dollars:\n",
    "\n",
    "![](https://wgjm1986.github.io/Investments/Module%201/Week%202%20-%20Fund%20structures%20and%20performance%20measures/OEF_CEF_ETF_AUM.png)"
   ]
  },
  {
   "cell_type": "markdown",
   "id": "a40ba454",
   "metadata": {
    "slideshow": {
     "slide_type": "slide"
    }
   },
   "source": [
    "## ETF structure: Basics\n",
    "\n",
    "To the investor, an ETF resembles a closed-end fund:\n",
    "- Shares in the ETF are traded on an exchange.\n",
    "- Investors enter or leave the fund by trading those shares, not by interacting with the fund itself.  \n",
    "\n",
    "Many people mistakenly believe an ETF is an example of a CEF.\n",
    "\n",
    "But unlike a closed-end fund, an ETF can grow and shrink.\n",
    "- Shares can be issued if investor demand grows,\n",
    "- and they can be redeemed back if demand falls.\n",
    "\n",
    "The details of this process are the key to the ETF structure."
   ]
  },
  {
   "cell_type": "markdown",
   "id": "5f49129e",
   "metadata": {
    "slideshow": {
     "slide_type": "slide"
    }
   },
   "source": [
    "### Share issuance/redemption: Authorized participants\n",
    "\n",
    "The ETF designates certain “authorized participants” (APs).\n",
    "- Usually banks, broker-dealers, and other financial institutions.\n",
    "- APs can obtain new fund shares (“creation” or “issuance”), or can return existing shares back to the fund (“redemption”).\n",
    "- This is how the fund grows and shrinks in response to demand.\n",
    "\n",
    "For APs, unlike other investors, the ETF resembles an open-end fund."
   ]
  },
  {
   "cell_type": "markdown",
   "id": "9087a24a",
   "metadata": {
    "slideshow": {
     "slide_type": "slide"
    }
   },
   "source": [
    "## Share issuance/redemption: In-kind transactions\n",
    "\n",
    "Critically, share issuance and redemption are in-kind, not in cash.\n",
    "- With an open-end fund, a new investor exchanges cash for fund shares, then the fund invests that cash in securities.\n",
    "- To create ETF shares, the AP assembles securities on their own, then gives them directly to the ETF in exchange for new shares.\n",
    "- When redeeming shares, the AP receives securities, not cash.\n",
    "\n",
    "To facilitate this, the ETF continually announces its holdings.\n",
    "- This way, APs always know the ingredients of a “creation unit.”\n",
    "- This is why ETFs are best for transparent investment strategies."
   ]
  },
  {
   "cell_type": "markdown",
   "id": "8f218958",
   "metadata": {
    "slideshow": {
     "slide_type": "slide"
    }
   },
   "source": [
    "## Share issuance and redemption\n",
    "\n",
    "![](https://wgjm1986.github.io/Investments/Module%201/Week%202%20-%20Fund%20structures%20and%20performance%20measures/issuance_redemption.png)"
   ]
  },
  {
   "cell_type": "markdown",
   "id": "221e4970",
   "metadata": {
    "slideshow": {
     "slide_type": "slide"
    }
   },
   "source": [
    "### Issuance and redemption prevent large tracking errors\n",
    "\n",
    "\n",
    "The issuance/redemption process keeps the ETF’s share price close to the fair value of the securities that it holds:\n",
    "- If investor demand starts to push the ETF share price upward, APs respond by buying the underlying securities, obtaining new ETF shares, and selling those shares to investors.\n",
    "- If investors lose interest in the fund, the share price falls. APs buy ETF shares for cheap and exchange them for securities. \n",
    "- In either case, the share price will not go far from fair value. Instead, this pressure is absorbed by the fund changing size.\n",
    "\n",
    "These actions generate profits for APs, so we can expect that they will play along, without concerns about commitment or enforcement."
   ]
  },
  {
   "cell_type": "markdown",
   "id": "172771cf",
   "metadata": {
    "slideshow": {
     "slide_type": "slide"
    }
   },
   "source": [
    "## Premiums and discounts to NAV\n",
    "\n",
    "![](https://wgjm1986.github.io/Investments/Module%201/Week%202%20-%20Fund%20structures%20and%20performance%20measures/HDV_discount.png)"
   ]
  },
  {
   "cell_type": "markdown",
   "id": "803d5480",
   "metadata": {
    "slideshow": {
     "slide_type": "slide"
    }
   },
   "source": [
    "### ETFs are often more liquid than their underlying assets\n",
    "\n",
    "<center>\n",
    "    <img src=\"https://wgjm1986.github.io/Investments/Module%201/Week%202%20-%20Fund%20structures%20and%20performance%20measures/ETF_bid_ask.png\" width=\"500px\" />\n",
    "</center>"
   ]
  },
  {
   "cell_type": "markdown",
   "id": "ef5b0089",
   "metadata": {
    "slideshow": {
     "slide_type": "slide"
    }
   },
   "source": [
    "## ETF advantages: Costs\n",
    "\n",
    "In-kind redemption/creation also allows an ETF to operate at lower costs than a mutual fund following the same strategy.\n",
    "- If a mutual fund investor wants to get out, they redeem their shares back to the fund itself. The fund must hold cash on hand to meet redemptions. If new issuance does not replenish that cash, they must sell securities to do so. All of this takes attention and effort, generating costs.\n",
    "- If an ETF investor wants to get out, they just sell their shares on the exchange. If enough investors do so, this puts downward pressure on the price, and the AP will start redeeming shares. But those transactions do not involve cash, so they are easier to manage from the fund’s perspective."
   ]
  },
  {
   "cell_type": "markdown",
   "id": "b543ff17",
   "metadata": {
    "slideshow": {
     "slide_type": "slide"
    }
   },
   "source": [
    "## ETF expense ratios\n",
    "\n",
    "![](https://wgjm1986.github.io/Investments/Module%201/Week%202%20-%20Fund%20structures%20and%20performance%20measures/ETF_expense_ratio_objective.png)"
   ]
  },
  {
   "cell_type": "markdown",
   "id": "10dfaa80",
   "metadata": {
    "slideshow": {
     "slide_type": "slide"
    }
   },
   "source": [
    "## Other “exchange-traded” products\n",
    "\n",
    "I will always use “ETF” to mean the structure described above.\n",
    "\n",
    "- This is the most common meaning of the term, and it applies to the best-known examples, such as equity or bond index ETFs.\n",
    "\n",
    "But the general label “exchange-traded product” (ETP) has also been applied to other structures that do not fit this description.\n",
    "\n",
    "- For example, exchange-traded notes (ETN) are essentially derivative contracts (technically unsecured debt) issued by investment banks. Although these are exchange-traded, they have nothing in common with an ETF.\n",
    "\n",
    "So be careful about the meaning of these labels outside class!"
   ]
  },
  {
   "cell_type": "markdown",
   "id": "b3c0eec0",
   "metadata": {
    "slideshow": {
     "slide_type": "skip"
    }
   },
   "source": [
    "## Extra information about ETFs\n",
    "\n",
    "Everything after this point is not testable and is only for those interested in further information."
   ]
  },
  {
   "cell_type": "markdown",
   "id": "8c89ec24",
   "metadata": {
    "slideshow": {
     "slide_type": "skip"
    }
   },
   "source": [
    "## ETF advantage: Flexibility in tax timing\n",
    "\n",
    "- In-kind redemption of fund shares does not trigger cap gains.\n",
    "    - IRS rule 852(b)6, enacted in 1969 for the mutual fund industry.\n",
    "- Mutual funds rarely exploit this loophole, because their investors\n",
    "want cash. \n",
    "- But ETF APs are glad to accept securities. This allows ETFs to shrink or rebalance, without cap gain events.\n",
    "    - A mutual fund meets redemptions by selling securities. Cap gains are distributed to all shareholders (and NAV falls).\n",
    "    - An ETF just gives securities directly to the AP. No cap gains are realized (and share price does not fall).\n",
    "- While useful, this feature only **defers** investors’ capital gains, and does not completely avoid them:\n",
    "    - The share price of the ETF ends up higher then the NAV of the mutual fund after the transaction, so the ETF shareholders will still eventually realize the capital, gain when they sell out of the fund. \n",
    "- Also, ETF investors still owe taxes on dividends and coupons received during the year, just like mutual fund investors do."
   ]
  },
  {
   "cell_type": "markdown",
   "id": "6437f9bc",
   "metadata": {
    "slideshow": {
     "slide_type": "skip"
    }
   },
   "source": [
    "## \"Heartbeats\" are an extreme illustration of this strategy"
   ]
  },
  {
   "cell_type": "markdown",
   "id": "aea1f467",
   "metadata": {
    "slideshow": {
     "slide_type": "skip"
    }
   },
   "source": [
    "![](https://wgjm1986.github.io/Investments/Module%201/Week%202%20-%20Fund%20structures%20and%20performance%20measures/ETF_heartbeat.png)"
   ]
  },
  {
   "cell_type": "markdown",
   "id": "97c701d0",
   "metadata": {
    "slideshow": {
     "slide_type": "skip"
    }
   },
   "source": [
    "![](https://wgjm1986.github.io/Investments/Module%201/Week%202%20-%20Fund%20structures%20and%20performance%20measures/ETF_heartbeat_2.png)"
   ]
  },
  {
   "cell_type": "markdown",
   "id": "d5ae9614",
   "metadata": {
    "slideshow": {
     "slide_type": "skip"
    }
   },
   "source": [
    "## ETF advantage: Stability with illiquid assets (in theory)\n",
    "\n",
    "- Funds can create liquidity, by holding a portfolio of illiquid assets and allowing investors trade the fund’s shares.\n",
    "- But an open-end fund holding illiquid assets is fragile when prices fall: the fund has a standing promise to redeem shares at NAV, but this NAV may not represent market prices actually available.\n",
    "- A wave of redemptions can force the sale of securities below NAV, which imposes losses on the investors who do not redeem.\n",
    "- This creates a self-fulfilling incentive to exit the fund quickly, which can lead to a sudden collapse in times of market stress. The situation is exactly like a classic bank run.\n",
    "- Case study: Third Avenue bond fund collapse.\n",
    "- The problem is the OEF’s standing promise to redeem at NAV, which may not accurate reflect the value of its holdings.\n",
    "- By contrast, the ETF reports a NAV, but makes no promises based on it:\n",
    "    - Investors can only trade shares for the price on the exchange.\n",
    "    - APs cannot trade shares for cash, only for underlying securities.\n",
    "- In times of stress, share prices of ETFs with illiquid holdings may fall below NAV, but no one has an incentive to exit the fund.\n",
    "    - The share price reflects market value better than the NAV.\n",
    "    - This makes the ETF better from the perspective of stability, and also for price discovery of the underlying assets.\n",
    "- Case study: Bond ETFs survived the recent market turmoil.\n",
    "    - However, this is not a perfect demonstration for several reasons.\n",
    "    - Still waiting for clear evidence whether ETFs are less fragile.\n",
    "\n",
    "Unfortunately, many market participants do not fully understand this and view it as a weakness, rather than a strength, that ETF prices can depart from NAV during times of illiquidity and stale pricing."
   ]
  },
  {
   "cell_type": "markdown",
   "id": "4768991f",
   "metadata": {
    "slideshow": {
     "slide_type": "skip"
    }
   },
   "source": [
    "## Active, non-transparent ETFs (ANTs)\n",
    "\n",
    "- *Transparent* active strategies are perfectly feasible in a traditional ETF.  \n",
    "Examples include equal-weighted indexing, and some active ETFs such as Catherine Wood’s ARK funds.\n",
    "- The challenge is implementing a *non-transparent* active strategy:  \n",
    "How will your AP know which securities to trade with you?\n",
    "- Recently the SEC approved several different approaches to this, leading to the birth of active non-transparent (ANT) ETFs.\n",
    "- Some ANTs disclose their holdings confidentially to the AP.  \n",
    "Others disclose a different but closely-correlated portfolio.  \n",
    "Fidelity now offers a Magellan ETF taking the second approach.\n",
    "- These are still very new, so their long-term trend is unclear."
   ]
  },
  {
   "cell_type": "markdown",
   "id": "3a4bce98",
   "metadata": {
    "slideshow": {
     "slide_type": "skip"
    }
   },
   "source": [
    "## Commodity ETFs\n",
    "\n",
    "How to manage an ETF that tracks real assets like commodities?\n",
    "- The exact procedures vary with the asset and the fund.\n",
    "- Gold ETFs typically store gold in a vault (example: IAU).\n",
    "- Oil ETFs instead hold oil futures contracts and roll them over\n",
    "regularly (example: USO). This approach is cheaper but riskier!"
   ]
  },
  {
   "cell_type": "markdown",
   "id": "5d059f02",
   "metadata": {
    "slideshow": {
     "slide_type": "slide"
    }
   },
   "source": [
    "### Examples of calculating fund performance measures\n",
    "\n",
    "The rest of these slides illustrate performance measures that you will need to calculate in Homework 1.\n",
    "\n",
    "We will examine two prominent mutual funds: \n",
    "- VFINX: A famous Vanguard index fund that simply tries to track the S&P 500 index.\n",
    "- FMAGX: A famous active equity mutual fund, which delivered outstanding returns during the 1980s under Peter Lynch.\n",
    "\n",
    "We will also add in the S&P 500 index for comparison.\n",
    "\n",
    "We will start our analysis in 1991, shortly after Lynch left Magellan.\n",
    "\n",
    "(Note: I have already downloaded all the data. See notebook online for the code if you are interested. I end the data in 2017 to avoid a minor complication due to Magellan's 10-for-1 split in 2018.)"
   ]
  },
  {
   "cell_type": "code",
   "execution_count": 1,
   "id": "a962bc1a",
   "metadata": {
    "slideshow": {
     "slide_type": "skip"
    }
   },
   "outputs": [
    {
     "name": "stdout",
     "output_type": "stream",
     "text": [
      "Loading library list...\n",
      "Done\n"
     ]
    }
   ],
   "source": [
    "# Import packages and data\n",
    "\n",
    "import pandas as pd\n",
    "pd.options.mode.chained_assignment = None  # default='warn'\n",
    "import os\n",
    "import wrds\n",
    "import fredapi\n",
    "import math\n",
    "import numpy as np\n",
    "import statsmodels.formula.api\n",
    "from matplotlib import pyplot as plt\n",
    "plt.rcParams['figure.figsize'] = [16.0, 8.0]\n",
    "# Initiate WRDS connection\n",
    "conn = wrds.Connection(wrds_username='wmann')"
   ]
  },
  {
   "cell_type": "code",
   "execution_count": 2,
   "id": "1279de1c",
   "metadata": {
    "slideshow": {
     "slide_type": "skip"
    }
   },
   "outputs": [],
   "source": [
    "# Retrieve one-month risk-free returns\n",
    "FF3F = conn.get_table(library='ff_all',table='factors_monthly')\n",
    "FF3F['month'] = pd.to_datetime(FF3F['date']).dt.to_period('M')\n",
    "FF3F = FF3F.drop('date',axis=1).drop('dateff',axis=1).set_index('month')\n",
    "FF3F = FF3F.astype('float64')\n",
    "riskfree = FF3F.rf\n",
    "riskfree = riskfree['1991':'2017']"
   ]
  },
  {
   "cell_type": "code",
   "execution_count": 3,
   "id": "bf978c68",
   "metadata": {
    "slideshow": {
     "slide_type": "skip"
    }
   },
   "outputs": [],
   "source": [
    "# Calculate S&P 500 index returns\n",
    "SP500 = conn.raw_sql(\"select caldt, vwretd, vwretx from crsp_a_indexes.msp500\")\n",
    "SP500['month'] = pd.to_datetime(SP500['caldt']).dt.to_period('M')\n",
    "SP500 = SP500.drop(columns=['caldt']).set_index(['month'])\n",
    "SP500 = SP500['1991':'2017']"
   ]
  },
  {
   "cell_type": "code",
   "execution_count": 4,
   "id": "71b3d57c",
   "metadata": {
    "slideshow": {
     "slide_type": "skip"
    }
   },
   "outputs": [],
   "source": [
    "# Retrieve mutual fund NAVs and distributions from WRDS.\n",
    "# We have to merge together three different tables: fund_hdr, monthly_nav, dividends\n",
    "\n",
    "# The fund_hdr table tells us, for each ticker, \n",
    "# the internal identifier(s) *crsp_fundno* that the database uses for the corresponding fund.\n",
    "tickers = ('VFINX','FMAGX')\n",
    "identifiers = conn.raw_sql( \"select crsp_fundno, ticker from crsp_q_mutualfunds.fund_hdr \" \\\n",
    "\t+ \"where ticker in \" + \"('\" + \"','\".join(tickers) + \"')\").set_index('crsp_fundno')\n",
    "\n",
    "# The monthly_nav table tells us the fund's NAVs at the end of the month \n",
    "# (notice we are now filtering not by ticker but by crsp_fundno.\n",
    "NAVs = conn.raw_sql( \"select crsp_fundno, caldt, mnav from crsp_q_mutualfunds.monthly_nav \" \\\n",
    "\t+ \"where crsp_fundno in \" + \"('\" + \"','\".join( str(int(identifier)) for identifier in identifiers.index.values ) + \"')\")\n",
    "NAVs['month'] = pd.to_datetime(NAVs['caldt']).dt.to_period('M')\n",
    "NAVs = NAVs.drop('caldt',axis=1).set_index(['crsp_fundno','month'])\n",
    "\n",
    "# The dividends table tells us the distributions paid by each fund during the month.\n",
    "dividends = conn.raw_sql( \"select crsp_fundno, caldt, dis_amt from crsp_q_mutualfunds.dividends \" \\\n",
    "\t+ \"where crsp_fundno in \" + \"('\" + \"','\".join( str(int(identifier)) for identifier in identifiers.index.values) + \"')\") \n",
    "dividends['month'] = pd.to_datetime(dividends['caldt']).dt.to_period('M')\n",
    "dividends = dividends.drop('caldt',axis=1).set_index(['crsp_fundno','month'])\n",
    "dividends = dividends.groupby(['crsp_fundno','month']).sum()\n",
    "\n",
    "# Now join the three mutual fund tables (identifiers, NAVs, dividends).\n",
    "Funds = identifiers.join( NAVs.join(dividends) ) \n",
    "# Reset the dataframe to index by ticker instead of by the crsp_fundno identifier\n",
    "Funds = Funds.reset_index().set_index(['ticker','month'])\n",
    "# The join command creates \"NaN\" entries for distributions in each month where there was not a distribution, \n",
    "# so replace these with zero using the fillna function.\n",
    "Funds['dis_amt'] = Funds['dis_amt'].fillna(0)\n",
    "\n",
    "# We will want to calculate returns starting in 1991. \n",
    "# This will require us to get December 1990 so that we have one month-end NAV value before 1991 starts.\n",
    "# See later.\n",
    "FMAGX = Funds.loc(axis=0)['FMAGX']['12/1990':'2017']\n",
    "VFINX = Funds.loc(axis=0)['VFINX']['12/1990':'2017']"
   ]
  },
  {
   "cell_type": "code",
   "execution_count": 5,
   "id": "0930b5e7",
   "metadata": {
    "slideshow": {
     "slide_type": "skip"
    }
   },
   "outputs": [],
   "source": [
    "# # Uncomment this code block to save to Excel:\n",
    "\n",
    "# try: os.remove(\"FMAGX example.xlsx\")\n",
    "# except OSError: pass\n",
    "\n",
    "# # set up custom ExcelWriter engine to get the date format correct in the output file\n",
    "# writer = pd.ExcelWriter('FMAGX example.xlsx', engine='xlsxwriter', datetime_format= \"yyyy-mm\")\n",
    "\n",
    "# riskfree.to_excel(writer,sheet_name='Risk-free',index_label='Month',header=['One-month risk-free return'])\n",
    "# SP500.to_excel(writer,sheet_name='SP500',index_label='Month',columns=['vwretx','vwretd'],header=['S&P 500 index return','S&P 500 total return'])\n",
    "# VFINX.to_excel(writer,sheet_name='VFINX',index_label='Month',columns=['dis_amt','mnav'],header=['VFINX distributions during month','VFINX NAV at end of month'])\n",
    "# FMAGX.to_excel(writer,sheet_name='FMAGX',index_label='Month',columns=['dis_amt','mnav'],header=['FMAGX distributions during month','FMAGX NAV at end of month'])\n",
    "\n",
    "# writer.close()"
   ]
  },
  {
   "cell_type": "markdown",
   "id": "62853cc1",
   "metadata": {
    "slideshow": {
     "slide_type": "slide"
    }
   },
   "source": [
    "## Calculating fund returns\n",
    "\n",
    "I have already loaded each fund's monthly NAVs and distributions into a Python data frame with its name. Now let's use the formulas from class to calculate each fund's monthly return:"
   ]
  },
  {
   "cell_type": "code",
   "execution_count": 1,
   "id": "ba256070",
   "metadata": {
    "slideshow": {
     "slide_type": "-"
    }
   },
   "outputs": [
    {
     "ename": "NameError",
     "evalue": "name 'FMAGX' is not defined",
     "output_type": "error",
     "traceback": [
      "\u001b[0;31m---------------------------------------------------------------------------\u001b[0m",
      "\u001b[0;31mNameError\u001b[0m                                 Traceback (most recent call last)",
      "\u001b[0;32m/tmp/ipykernel_92570/128973292.py\u001b[0m in \u001b[0;36m<module>\u001b[0;34m\u001b[0m\n\u001b[0;32m----> 1\u001b[0;31m \u001b[0mFMAGX\u001b[0m\u001b[0;34m[\u001b[0m\u001b[0;34m'returns'\u001b[0m\u001b[0;34m]\u001b[0m \u001b[0;34m=\u001b[0m \u001b[0;34m(\u001b[0m\u001b[0mFMAGX\u001b[0m\u001b[0;34m[\u001b[0m\u001b[0;34m'mnav'\u001b[0m\u001b[0;34m]\u001b[0m \u001b[0;34m+\u001b[0m \u001b[0mFMAGX\u001b[0m\u001b[0;34m[\u001b[0m\u001b[0;34m'dis_amt'\u001b[0m\u001b[0;34m]\u001b[0m\u001b[0;34m)\u001b[0m\u001b[0;34m/\u001b[0m\u001b[0mFMAGX\u001b[0m\u001b[0;34m[\u001b[0m\u001b[0;34m'mnav'\u001b[0m\u001b[0;34m]\u001b[0m\u001b[0;34m.\u001b[0m\u001b[0mshift\u001b[0m\u001b[0;34m(\u001b[0m\u001b[0;34m)\u001b[0m \u001b[0;34m-\u001b[0m \u001b[0;36m1\u001b[0m\u001b[0;34m\u001b[0m\u001b[0;34m\u001b[0m\u001b[0m\n\u001b[0m\u001b[1;32m      2\u001b[0m \u001b[0mVFINX\u001b[0m\u001b[0;34m[\u001b[0m\u001b[0;34m'returns'\u001b[0m\u001b[0;34m]\u001b[0m \u001b[0;34m=\u001b[0m \u001b[0;34m(\u001b[0m\u001b[0mVFINX\u001b[0m\u001b[0;34m[\u001b[0m\u001b[0;34m'mnav'\u001b[0m\u001b[0;34m]\u001b[0m \u001b[0;34m+\u001b[0m \u001b[0mVFINX\u001b[0m\u001b[0;34m[\u001b[0m\u001b[0;34m'dis_amt'\u001b[0m\u001b[0;34m]\u001b[0m\u001b[0;34m)\u001b[0m\u001b[0;34m/\u001b[0m\u001b[0mVFINX\u001b[0m\u001b[0;34m[\u001b[0m\u001b[0;34m'mnav'\u001b[0m\u001b[0;34m]\u001b[0m\u001b[0;34m.\u001b[0m\u001b[0mshift\u001b[0m\u001b[0;34m(\u001b[0m\u001b[0;34m)\u001b[0m \u001b[0;34m-\u001b[0m \u001b[0;36m1\u001b[0m\u001b[0;34m\u001b[0m\u001b[0;34m\u001b[0m\u001b[0m\n",
      "\u001b[0;31mNameError\u001b[0m: name 'FMAGX' is not defined"
     ]
    }
   ],
   "source": [
    "FMAGX['returns'] = ( \n",
    "    (FMAGX['mnav'] + FMAGX['dis_amt']) / FMAGX['mnav'].shift() - 1 \n",
    ")\n",
    "VFINX['returns'] = (\n",
    "    (VFINX['mnav'] + VFINX['dis_amt']) / VFINX['mnav'].shift() - 1\n",
    ")"
   ]
  },
  {
   "cell_type": "markdown",
   "id": "4d3bedff",
   "metadata": {
    "slideshow": {
     "slide_type": "-"
    }
   },
   "source": [
    "- In each of the frames VFINX and FMAGX, there are columns called 'mnav' and 'dis_amt' for the month-end NAV and the during-month distribution. We access each column by putting its name in brackets.\n",
    "- Python understands that when we put a column name in a formula, it means \"apply this formula to every row in the column\".\n",
    "- The shift() says to move back in time by one step."
   ]
  },
  {
   "cell_type": "markdown",
   "id": "fffc11f5",
   "metadata": {
    "slideshow": {
     "slide_type": "slide"
    }
   },
   "source": [
    "Here are the returns for the first six months. (NaN means \"Not a Number\".)"
   ]
  },
  {
   "cell_type": "code",
   "execution_count": 7,
   "id": "ac385d58",
   "metadata": {
    "slideshow": {
     "slide_type": "-"
    }
   },
   "outputs": [
    {
     "name": "stdout",
     "output_type": "stream",
     "text": [
      "          mnav  dis_amt   returns\n",
      "month                            \n",
      "1990-12  53.93     1.02       NaN\n",
      "1991-01  57.70     0.00  0.069905\n",
      "1991-02  62.71     0.00  0.086828\n",
      "1991-03  64.84     0.00  0.033966\n",
      "1991-04  65.08     0.00  0.003701\n",
      "1991-05  66.71     2.01  0.055931\n"
     ]
    }
   ],
   "source": [
    "print( FMAGX[['mnav','dis_amt','returns']][0:6] )"
   ]
  },
  {
   "cell_type": "code",
   "execution_count": 8,
   "id": "236ffaa5",
   "metadata": {
    "slideshow": {
     "slide_type": "-"
    }
   },
   "outputs": [
    {
     "name": "stdout",
     "output_type": "stream",
     "text": [
      "          mnav  dis_amt   returns\n",
      "month                            \n",
      "1990-12  31.24     0.68       NaN\n",
      "1991-01  32.59     0.00  0.043214\n",
      "1991-02  34.92     0.00  0.071494\n",
      "1991-03  35.51     0.25  0.024055\n",
      "1991-04  35.58     0.00  0.001971\n",
      "1991-05  37.10     0.00  0.042721\n"
     ]
    }
   ],
   "source": [
    "print( VFINX[['mnav','dis_amt','returns']][0:6] )"
   ]
  },
  {
   "cell_type": "markdown",
   "id": "220f821f",
   "metadata": {
    "slideshow": {
     "slide_type": "-"
    }
   },
   "source": [
    "In Python, a number in brackets gets an item from a list. Two numbers mean, get the whole range. You count from 0, not 1, and the last number in a range is left out. So [0:6] means \"get \\#0 through \\#5\", that is, the first 6 rows."
   ]
  },
  {
   "cell_type": "markdown",
   "id": "665c6162",
   "metadata": {
    "slideshow": {
     "slide_type": "slide"
    }
   },
   "source": [
    "## Cumulative investment returns over time:\n",
    "\n",
    "We can calculate the cumulative return of any investment up to any date $t$ as follows:\n",
    "- calculate the *gross* return each month, which is just 1 plus the *net* return.  \n",
    "(When not specified, \"return\" typically means net return.)\n",
    "- multiply together all the gross returns up to date $t$.  \n",
    "In Python we can use the function cumprod() which means \"cumulative product\".  \n",
    "In Excel, we can use the product() function.\n",
    "\n",
    "This calculation will tell us the value at date $t$ of a single dollar invested at the first date of our data, assuming that we reinvest all distributions, dividends, or coupon payments."
   ]
  },
  {
   "cell_type": "markdown",
   "id": "4fb12b67",
   "metadata": {
    "slideshow": {
     "slide_type": "slide"
    }
   },
   "source": [
    "Let's first apply that calculation to the two funds in our data:"
   ]
  },
  {
   "cell_type": "code",
   "execution_count": 9,
   "id": "020fbd10",
   "metadata": {
    "slideshow": {
     "slide_type": "-"
    }
   },
   "outputs": [],
   "source": [
    "FMAGX['cumulative return'] = (1+FMAGX['returns']).cumprod()\n",
    "VFINX['cumulative return'] = (1+VFINX['returns']).cumprod()"
   ]
  },
  {
   "cell_type": "code",
   "execution_count": 10,
   "id": "0b84c3ad",
   "metadata": {
    "slideshow": {
     "slide_type": "-"
    }
   },
   "outputs": [
    {
     "name": "stdout",
     "output_type": "stream",
     "text": [
      "          returns  cumulative return\n",
      "month                               \n",
      "1990-12       NaN                NaN\n",
      "1991-01  0.043214           1.043214\n",
      "1991-02  0.071494           1.117798\n",
      "1991-03  0.024055           1.144686\n",
      "1991-04  0.001971           1.146943\n",
      "1991-05  0.042721           1.195941\n"
     ]
    }
   ],
   "source": [
    "print(VFINX[['returns','cumulative return']][0:6])"
   ]
  },
  {
   "cell_type": "code",
   "execution_count": 11,
   "id": "97cfa6b4",
   "metadata": {
    "slideshow": {
     "slide_type": "-"
    }
   },
   "outputs": [
    {
     "name": "stdout",
     "output_type": "stream",
     "text": [
      "          returns  cumulative return\n",
      "month                               \n",
      "1990-12       NaN                NaN\n",
      "1991-01  0.069905           1.069905\n",
      "1991-02  0.086828           1.162804\n",
      "1991-03  0.033966           1.202299\n",
      "1991-04  0.003701           1.206749\n",
      "1991-05  0.055931           1.274244\n"
     ]
    }
   ],
   "source": [
    "print(FMAGX[['returns','cumulative return']][0:6])"
   ]
  },
  {
   "cell_type": "markdown",
   "id": "833eb0f4",
   "metadata": {
    "slideshow": {
     "slide_type": "slide"
    }
   },
   "source": [
    "Now do the same for the S&P 500:"
   ]
  },
  {
   "cell_type": "code",
   "execution_count": 12,
   "id": "9ebd6c80",
   "metadata": {
    "slideshow": {
     "slide_type": "-"
    }
   },
   "outputs": [
    {
     "name": "stdout",
     "output_type": "stream",
     "text": [
      "           vwretd  cumulative return\n",
      "month                               \n",
      "1991-01  0.045001           1.045001\n",
      "1991-02  0.071565           1.119786\n",
      "1991-03  0.024355           1.147059\n",
      "1991-04  0.002268           1.149660\n",
      "1991-05  0.042930           1.199015\n",
      "1991-06 -0.045357           1.144632\n"
     ]
    }
   ],
   "source": [
    "SP500['cumulative return'] = (1+SP500['vwretd']).cumprod()\n",
    "print(SP500[['vwretd','cumulative return']][0:6])"
   ]
  },
  {
   "cell_type": "markdown",
   "id": "5c281adf",
   "metadata": {
    "slideshow": {
     "slide_type": "-"
    }
   },
   "source": [
    "\n",
    "The column we used in the calculation above is called 'vwretd'. This column was pre-calculated for us in the dataset I downloaded earlier. \n",
    "\n",
    "It records for each month the *total* return (including dividend payments) on the value-weighted portfolio of S&P 500 stocks. (Remember this is more than the growth of the S&P 500 index for that month!) "
   ]
  },
  {
   "cell_type": "markdown",
   "id": "b261be25",
   "metadata": {
    "slideshow": {
     "slide_type": "slide"
    }
   },
   "source": [
    "## Cumulative returns of all three series over time:"
   ]
  },
  {
   "cell_type": "code",
   "execution_count": 13,
   "id": "a5ea6e7a",
   "metadata": {
    "slideshow": {
     "slide_type": "skip"
    }
   },
   "outputs": [],
   "source": [
    "%%capture\n",
    "cumulative_returns_figure,ax = plt.subplots()\n",
    "VFINX['cumulative return'].plot(label=\"VFINX\",legend=True);\n",
    "FMAGX['cumulative return'].plot(label=\"FMAGX\",legend=True);\n",
    "SP500['cumulative return'].plot(label=\"S&P 500\",legend=True);\n",
    "ax.set_ylabel(\"Cumulative value of $1 invested initially\")"
   ]
  },
  {
   "cell_type": "code",
   "execution_count": 14,
   "id": "93c1bb1d",
   "metadata": {
    "slideshow": {
     "slide_type": "-"
    }
   },
   "outputs": [
    {
     "data": {
      "image/png": "[encoded data removed]",
      "text/plain": [
       "<Figure size 1152x576 with 1 Axes>"
      ]
     },
     "execution_count": 14,
     "metadata": {},
     "output_type": "execute_result"
    }
   ],
   "source": [
    "cumulative_returns_figure"
   ]
  },
  {
   "cell_type": "markdown",
   "id": "3bc52240",
   "metadata": {
    "slideshow": {
     "slide_type": "-"
    }
   },
   "source": [
    "Which fund would investors have preferred to be in during this time?  \n",
    "Why does VFINX seem to underperform the S&P 500 index?"
   ]
  },
  {
   "cell_type": "markdown",
   "id": "bfffd769",
   "metadata": {
    "slideshow": {
     "slide_type": "slide"
    }
   },
   "source": [
    "## Cumulative value of \\\\$1 invested:"
   ]
  },
  {
   "cell_type": "markdown",
   "id": "ad75bb68",
   "metadata": {
    "slideshow": {
     "slide_type": "-"
    }
   },
   "source": [
    "The last number in the \"cumulative return\" column represents the total return on $1 invested at the beginning of our data, and held until the end, while reinvesting all dividends or other distributions."
   ]
  },
  {
   "cell_type": "code",
   "execution_count": 15,
   "id": "9aef3dd4",
   "metadata": {
    "scrolled": true,
    "slideshow": {
     "slide_type": "-"
    }
   },
   "outputs": [
    {
     "name": "stdout",
     "output_type": "stream",
     "text": [
      "Cumulative value of $1 invested from 1991 through 2017:\n",
      "  VFINX: $13.77\n",
      "  FMAGX: $11.74\n"
     ]
    }
   ],
   "source": [
    "print(\"Cumulative value of $1 invested from 1991 through 2017:\")\n",
    "print(f\"  VFINX: ${VFINX['cumulative return'][-1] :.2f}\")\n",
    "print(f\"  FMAGX: ${FMAGX['cumulative return'][-1] :.2f}\")"
   ]
  },
  {
   "cell_type": "markdown",
   "id": "25b922f6",
   "metadata": {},
   "source": [
    "Both funds would have multiplied your money many times over.  \n",
    "But as we saw in the figure, FMAGX significantly underperformed VFINX."
   ]
  },
  {
   "cell_type": "markdown",
   "id": "f8d52580",
   "metadata": {
    "slideshow": {
     "slide_type": "-"
    }
   },
   "source": [
    "(In Python the [-1] means \"get the last number in the list\". In our case, December 2017.)"
   ]
  },
  {
   "cell_type": "markdown",
   "id": "7bac4ef4",
   "metadata": {
    "slideshow": {
     "slide_type": "slide"
    }
   },
   "source": [
    "## Arithmetic average returns:"
   ]
  },
  {
   "cell_type": "markdown",
   "id": "29dedf94",
   "metadata": {
    "slideshow": {
     "slide_type": "-"
    }
   },
   "source": [
    "The *arithmetic average return* on an investment is just the usual meaning of average.  \n",
    "We represent it with $\\mu = \\frac{r_1 + r_2 + \\dots + r_T}{T}$.  \n",
    "In Python, use mean(). In Excel, use AVERAGE().\n",
    "\n",
    "We sometimes need to be clear that we are talking about the arithmetic average, because next we will see the *geometric* average, which is different.  \n",
    "But if I just say \"average\", I am talking about arithmetic average. "
   ]
  },
  {
   "cell_type": "code",
   "execution_count": 2,
   "id": "97537c32",
   "metadata": {
    "slideshow": {
     "slide_type": "-"
    }
   },
   "outputs": [
    {
     "name": "stdout",
     "output_type": "stream",
     "text": [
      "Arithmetic average monthly returns:\n"
     ]
    },
    {
     "ename": "NameError",
     "evalue": "name 'VFINX' is not defined",
     "output_type": "error",
     "traceback": [
      "\u001b[0;31m---------------------------------------------------------------------------\u001b[0m",
      "\u001b[0;31mNameError\u001b[0m                                 Traceback (most recent call last)",
      "\u001b[0;32m/tmp/ipykernel_92570/1191910817.py\u001b[0m in \u001b[0;36m<module>\u001b[0;34m\u001b[0m\n\u001b[1;32m      1\u001b[0m \u001b[0mprint\u001b[0m\u001b[0;34m(\u001b[0m\u001b[0;34m\"Arithmetic average monthly returns:\"\u001b[0m\u001b[0;34m)\u001b[0m\u001b[0;34m\u001b[0m\u001b[0;34m\u001b[0m\u001b[0m\n\u001b[0;32m----> 2\u001b[0;31m \u001b[0mprint\u001b[0m\u001b[0;34m(\u001b[0m\u001b[0;34mf\"VFINX:   {100*VFINX['returns'].mean() :.2f}%\"\u001b[0m \u001b[0;34m)\u001b[0m\u001b[0;34m\u001b[0m\u001b[0;34m\u001b[0m\u001b[0m\n\u001b[0m\u001b[1;32m      3\u001b[0m \u001b[0mprint\u001b[0m\u001b[0;34m(\u001b[0m\u001b[0;34mf\"FMAGX:   {100*FMAGX['returns'].mean() :.2f}%\"\u001b[0m \u001b[0;34m)\u001b[0m\u001b[0;34m\u001b[0m\u001b[0;34m\u001b[0m\u001b[0m\n\u001b[1;32m      4\u001b[0m \u001b[0mprint\u001b[0m\u001b[0;34m(\u001b[0m\u001b[0;34mf\"S&P 500: {100*SP500['vwretd'].mean() :.2f}%\"\u001b[0m\u001b[0;34m)\u001b[0m\u001b[0;34m\u001b[0m\u001b[0;34m\u001b[0m\u001b[0m\n",
      "\u001b[0;31mNameError\u001b[0m: name 'VFINX' is not defined"
     ]
    }
   ],
   "source": [
    "print(\"Arithmetic average monthly returns:\")\n",
    "print(f\"VFINX:   {100*VFINX['returns'].mean() :.2f}%\" )\n",
    "print(f\"FMAGX:   {100*FMAGX['returns'].mean() :.2f}%\" )\n",
    "print(f\"S&P 500: {100*SP500['vwretd'].mean() :.2f}%\")"
   ]
  },
  {
   "cell_type": "markdown",
   "id": "5a7d745b",
   "metadata": {
    "slideshow": {
     "slide_type": "-"
    }
   },
   "source": [
    "Notice that the arithmetic average of FMAGX is almost the same as that of VFINX.  \n",
    "Yet, we saw that it had a much lower cumulative return. This tells us that arithmetic averages can be misleading. We will come back to this."
   ]
  },
  {
   "cell_type": "markdown",
   "id": "32727b4c",
   "metadata": {
    "slideshow": {
     "slide_type": "slide"
    }
   },
   "source": [
    "## Geometric average returns:\n",
    "\n",
    "The *geometric average return* on an investment is the cumulative return, raised to the power $\\frac{1}{T}$, minus 1.\n",
    "\n",
    "We label it with GM, so $GM = [(1+r_1)\\times(1+r_2)\\times\\dots\\times(1+r_T)]^{1/T} - 1$."
   ]
  },
  {
   "cell_type": "code",
   "execution_count": 17,
   "id": "a2a5b2f7",
   "metadata": {
    "slideshow": {
     "slide_type": "-"
    }
   },
   "outputs": [
    {
     "name": "stdout",
     "output_type": "stream",
     "text": [
      "Geometric average monthly returns:\n",
      "VFINX:   0.81%\n",
      "FMAGX:   0.76%\n"
     ]
    }
   ],
   "source": [
    "T = len(VFINX)\n",
    "VFINX_GM = VFINX['cumulative return'][-1] ** (1/T) - 1\n",
    "FMAGX_GM = FMAGX['cumulative return'][-1] ** (1/T) - 1\n",
    "\n",
    "print(\"Geometric average monthly returns:\")\n",
    "print(f\"VFINX:   {100*VFINX_GM :.2f}%\")\n",
    "print(f\"FMAGX:   {100*FMAGX_GM :.2f}%\")"
   ]
  },
  {
   "cell_type": "markdown",
   "id": "e41ccc3a",
   "metadata": {
    "slideshow": {
     "slide_type": "-"
    }
   },
   "source": [
    "- In Python, ```x**y``` means $x^y$. The ```len()``` function gets the length of a list.\n",
    "- Both funds have a lower geometric than arithmetic average. \n",
    "- The geometric average is a better measure of performance, because it is directly based on cumulative returns. We will say more about this in Module 2."
   ]
  },
  {
   "cell_type": "markdown",
   "id": "0a2f14ed",
   "metadata": {
    "slideshow": {
     "slide_type": "slide"
    }
   },
   "source": [
    "## Volatility of monthly returns:\n",
    "\n",
    "The volatility of a return is another name for the standard deviation of returns.\n",
    "\n",
    "In Python we can use the std() function. In Excel, STDEV().\n",
    "\n",
    "FMAGX had more volatility, for about the same (arithmetic) average return."
   ]
  },
  {
   "cell_type": "code",
   "execution_count": 18,
   "id": "7b4c274d",
   "metadata": {
    "slideshow": {
     "slide_type": "-"
    }
   },
   "outputs": [
    {
     "name": "stdout",
     "output_type": "stream",
     "text": [
      "Monthly return volatilities:\n",
      "  VFINX: 4.05%\n",
      "  FMAGX: 4.63%\n"
     ]
    }
   ],
   "source": [
    "print(\"Monthly return volatilities:\")\n",
    "print(f\"  VFINX: {100*VFINX['returns'].std() :.2f}%\")\n",
    "print(f\"  FMAGX: {100*FMAGX['returns'].std() :.2f}%\")"
   ]
  },
  {
   "cell_type": "markdown",
   "id": "2853043d",
   "metadata": {
    "slideshow": {
     "slide_type": "-"
    }
   },
   "source": [
    "In Module 2, we will see that volatility causes true performance (geometric average)  \n",
    "to be lower than what you would expect based on the arithmetic average return.\n",
    "\n",
    "That is, volatility hurts performance."
   ]
  },
  {
   "cell_type": "markdown",
   "id": "594b1bf4",
   "metadata": {
    "slideshow": {
     "slide_type": "slide"
    }
   },
   "source": [
    "## Sharpe ratios:\n",
    "\n",
    "The Sharpe ratio is the average of excess return, divided by its volatility.  \n",
    "We can write this as $SR = \\frac{\\mu}{\\sigma}$.  \n",
    "Remember that both the numerator and denominator should use excess returns!"
   ]
  },
  {
   "cell_type": "code",
   "execution_count": 20,
   "id": "e7487223",
   "metadata": {
    "slideshow": {
     "slide_type": "-"
    }
   },
   "outputs": [
    {
     "name": "stdout",
     "output_type": "stream",
     "text": [
      "Sharpe ratios:\n",
      "  VFINX: 0.16847\n",
      "  FMAGX: 0.14241\n"
     ]
    }
   ],
   "source": [
    "FMAGX['excess'] = FMAGX['returns'] - riskfree\n",
    "VFINX['excess'] = VFINX['returns'] - riskfree\n",
    "    \n",
    "VFINX_Sharpe = VFINX['excess'].mean() / VFINX['excess'].std()\n",
    "FMAGX_Sharpe = FMAGX['excess'].mean() / FMAGX['excess'].std()\n",
    "\n",
    "print(\"Sharpe ratios:\")\n",
    "print(f\"  VFINX: { VFINX_Sharpe :.5f}\")\n",
    "print(f\"  FMAGX: { FMAGX_Sharpe :.5f}\")"
   ]
  },
  {
   "cell_type": "markdown",
   "id": "d2de29db",
   "metadata": {
    "slideshow": {
     "slide_type": "-"
    }
   },
   "source": [
    "In Module 2 we will be precise about exactly what the Sharpe ratio means.\n",
    "\n",
    "A detail: In practice you should specify what frequency returns you used to calculate the Sharpe ratio. \n",
    "The numbers above are *monthly* Sharpe ratios."
   ]
  }
 ],
 "metadata": {
  "celltoolbar": "Slideshow",
  "kernelspec": {
   "display_name": "Python 3 (ipykernel)",
   "language": "python",
   "name": "python3"
  },
  "language_info": {
   "codemirror_mode": {
    "name": "ipython",
    "version": 3
   },
   "file_extension": ".py",
   "mimetype": "text/x-python",
   "name": "python",
   "nbconvert_exporter": "python",
   "pygments_lexer": "ipython3",
   "version": "3.10.12"
  }
 },
 "nbformat": 4,
 "nbformat_minor": 5
}
