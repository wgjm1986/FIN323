{
 "cells": [
  {
   "cell_type": "markdown",
   "id": "83be360c",
   "metadata": {
    "slideshow": {
     "slide_type": "slide"
    }
   },
   "source": [
    "# Fund structures"
   ]
  },
  {
   "cell_type": "markdown",
   "id": "e51704e6",
   "metadata": {
    "slideshow": {
     "slide_type": "-"
    }
   },
   "source": [
    "William Mann"
   ]
  },
  {
   "cell_type": "markdown",
   "id": "b2dc8c64",
   "metadata": {
    "slideshow": {
     "slide_type": "-"
    }
   },
   "source": [
    "![MyImage](Emory_small.png)"
   ]
  },
  {
   "cell_type": "markdown",
   "id": "c587891a",
   "metadata": {
    "slideshow": {
     "slide_type": "slide"
    }
   },
   "source": [
    "## Fund balance sheet and net asset value\n",
    "\n",
    "Funds have a relatively simple balance sheet:\n",
    "\n",
    "- Assets: Investments, and cash needed for operations.\n",
    "    - Most commonly, other companies’ liabilities or equity.\n",
    "    - Total amount is called assets under management (AUM).\n",
    "    - Most companies report asset values based on cost, but funds attempt to report market values. See next slide.\n",
    "- Liabilities: Accrued expenses, and possibly borrowing.\n",
    "- Equity: Shares sold to investors.\n",
    "\n",
    "The fund’s equity value is called its net asset value or NAV.\n",
    "The equity value per share can be called \"NAV per share,\" or can also just be called \"NAV.\"\n",
    "\n",
    "$$\n",
    "\\text{NAV per share} = \\frac{ \\text{Assets} − \\text{Liabilities} }{ \\text{Shares outstanding} }\n",
    "$$\n",
    "\n",
    "You can usually tell from context whether NAV refers to a whole-fund measure or a per-share measure. I will always try to be clear about this."
   ]
  },
  {
   "cell_type": "markdown",
   "id": "c2066bb3",
   "metadata": {
    "slideshow": {
     "slide_type": "slide"
    }
   },
   "source": [
    "## Asset values and marking to market\n",
    "\n",
    "- Most companies follow cost accounting: The book value of an asset is the price that was paid to acquire it.\n",
    "- But funds attempt to report their assets at market value, which they recalculate every day based on recent sale prices.\n",
    "- The goal is for NAV to reflect a fair selling price for one share.\n",
    "- For very liquid assets like public stocks, this is straightforward. For funds holding these assets, NAV closely tracks market value.\n",
    "- For illiquid assets like corporate bonds and real estate, it is much more difficult to say what the true market value is, and there is no guarantee that NAV is close to that value."
   ]
  },
  {
   "cell_type": "markdown",
   "id": "1b92b990",
   "metadata": {
    "slideshow": {
     "slide_type": "slide"
    }
   },
   "source": [
    "## Investment returns and distributions\n",
    "\n",
    "- Many funds are technically corporations, but can avoid taxes, as long as they “pass through” all income from investments.\n",
    "- This income includes, stock dividends, bond coupons, and also capital gains realized from the sale of securities.\n",
    "- Any such income must be distributed equally to all shareholders in the fund, at regular intervals.\n",
    "- Many investors elect to receive these distributions in the form of more shares, effectively reinvesting them back into the fund.\n",
    "- But the distribution is still taxable! This can create unwanted and inconvenient tax events for the investor."
   ]
  },
  {
   "cell_type": "markdown",
   "id": "192ab6d5",
   "metadata": {
    "slideshow": {
     "slide_type": "slide"
    }
   },
   "source": [
    "## Structure of a closed-end fund\n",
    "\n",
    "- A closed-end fund sells shares when it initially opens, and uses the proceeds to form its investment portfolio.\n",
    "- At some future date the fund will liquidate and close (though this date is not necessarily fixed in advance).\n",
    "- Until then, the number of shares generally does not change. The only way to invest is to buy shares from an existing investor. The only way to divest is to sell to another investor.\n",
    "- Investor demand affects the share price but not the fund’s AUM.\n",
    "\n",
    "Closed-end funds are often exchange-traded, but are not ETFs."
   ]
  },
  {
   "cell_type": "markdown",
   "id": "0d7c4e32",
   "metadata": {
    "slideshow": {
     "slide_type": "slide"
    }
   },
   "source": [
    "## Closed-end funds are a relatively small market\n",
    "AUM of closed-end funds, year-end, billions of dollars (source: ICI factbook):\n",
    "\n",
    "![MyImage](CEF_AUM.png)"
   ]
  },
  {
   "cell_type": "markdown",
   "id": "6f7e6230",
   "metadata": {
    "slideshow": {
     "slide_type": "slide"
    }
   },
   "source": [
    "## Return to investing in a CEF\n",
    "\n",
    "You buy and sell CEF shares at market prices, so the return to\n",
    "investing is calculated the same way as with a company’s stock:\n",
    "\n",
    "$$\n",
    "\\text{CEF return}\n",
    "=\n",
    "\\frac{ P_1 + \\text{Distributions} }{ P_0 } - 1\n",
    "$$\n",
    "\n",
    "The share price is often quite different from the fund’s NAV.\n",
    "- Usually shares trade at a discount to NAV. (See next slide.)\n",
    "- The exact reason for this is not universally agreed.\n",
    "- Presents a problem for a CEF that attempts to index."
   ]
  },
  {
   "cell_type": "markdown",
   "id": "3cd8d95f",
   "metadata": {
    "slideshow": {
     "slide_type": "slide"
    }
   },
   "source": [
    "## CEF premiums and discounts of share price to NAV (%)\n",
    "\n",
    "![MyImage](CEF_discount.png)"
   ]
  },
  {
   "cell_type": "markdown",
   "id": "a16227b4",
   "metadata": {
    "slideshow": {
     "slide_type": "slide"
    }
   },
   "source": [
    "## Structure of a mutual fund (open-end fund)\n",
    "\n",
    "We will use “mutual fund” and “open-end fund” interchangeably.  \n",
    "(This is almost a universal standard, at least in the United States.)\n",
    "\n",
    "In a mutual fund:\n",
    "- Investors do not trade shares with each other.\n",
    "- Instead, the fund sponsor sells (issues) shares directly to investors, and repurchases (redeems) them directly from investors.\n",
    "- These trades are processed after markets close each day, at the new NAV calculated based on closing prices that day.\n",
    "- The fund keeps some cash on hand to meet redemptions. Cash is replenished by share issuance to new investors, or else by selling securities and shrinking the fund."
   ]
  },
  {
   "cell_type": "markdown",
   "id": "919df590",
   "metadata": {
    "slideshow": {
     "slide_type": "slide"
    }
   },
   "source": [
    "## Most investment is through mutual funds\n",
    "\n",
    "AUM of mutual funds and closed-end funds, millions of dollars (source: ICI factbook):"
   ]
  },
  {
   "cell_type": "markdown",
   "id": "45944207",
   "metadata": {
    "slideshow": {
     "slide_type": "-"
    }
   },
   "source": [
    "![MyImage <](OEF_CEF_AUM.png)"
   ]
  },
  {
   "cell_type": "markdown",
   "id": "3bc952ec",
   "metadata": {
    "slideshow": {
     "slide_type": "slide"
    }
   },
   "source": [
    "## Mutual fund fees and investment returns\n",
    "\n",
    "Types of fees:\n",
    "- Loads: Commission on initial investment (“front-end load”), and fees for existing the investment (“back-end load”).\n",
    "- Operating expenses and “12b-1 charges”: Cover the ongoing costs of running the fund, including commissions, salaries, marketing and distribution costs. These are deducted from NAV.\n",
    "\n",
    "Because you trade at NAV, the return to investing, ignoring loads, is\n",
    "\n",
    "$$\n",
    "\\text{Mutual fund return}\n",
    "=\n",
    "\\frac{ NAV_1 + \\text{Distributions} }{ NAV_0 } − 1\n",
    "$$\n",
    "\n",
    "All categories of fees have fallen over time."
   ]
  },
  {
   "cell_type": "markdown",
   "id": "03fc156b",
   "metadata": {
    "slideshow": {
     "slide_type": "slide"
    }
   },
   "source": [
    "## Weaknesses of closed-end and mutual fund structures\n",
    "\n",
    "CEF and mutual fund structures each have important weaknesses:\n",
    "- CEF: Cannot grow, and cannot reliably track an index.\n",
    "- Mutual fund: Cannot offer intraday exchange-based trading, and require cash management which contributes to fund costs.\n",
    "\n",
    "For this course, you should understand the above issues, and how the ETF structure solves them.\n",
    "\n",
    "In fact, the ETF structure also solves several other important issues.\n",
    "Some of these are discussed at the end of this file, but this information is not testable."
   ]
  },
  {
   "cell_type": "markdown",
   "id": "9ff87be1",
   "metadata": {
    "slideshow": {
     "slide_type": "slide"
    }
   },
   "source": [
    "## Growth of ETFs\n",
    "\n",
    "AUM of mutual funds, CEFs, and ETFs, millions of dollars:\n",
    "\n",
    "![MyImage](OEF_CEF_ETF_AUM.png)"
   ]
  },
  {
   "cell_type": "markdown",
   "id": "a40ba454",
   "metadata": {
    "slideshow": {
     "slide_type": "slide"
    }
   },
   "source": [
    "## ETF structure: Basics\n",
    "\n",
    "To the investor, an ETF resembles a closed-end fund:\n",
    "- Shares in the ETF are traded on an exchange.\n",
    "- Investors enter or leave the fund by trading those shares, not by interacting with the fund itself.  \n",
    "\n",
    "Many people mistakenly believe an ETF is an example of a CEF.\n",
    "\n",
    "But unlike a closed-end fund, an ETF can grow and shrink.\n",
    "- Shares can be issued if investor demand grows,\n",
    "- and they can be redeemed back if demand falls.\n",
    "\n",
    "The details of this process are the key to the ETF structure."
   ]
  },
  {
   "cell_type": "markdown",
   "id": "5f49129e",
   "metadata": {
    "slideshow": {
     "slide_type": "slide"
    }
   },
   "source": [
    "## Share issuance/redemption: Authorized participants\n",
    "\n",
    "The ETF designates certain “authorized participants” (APs).\n",
    "- Usually banks, broker-dealers, and other financial institutions.\n",
    "- APs can obtain new fund shares (“creation” or “issuance”), or can return existing shares back to the fund (“redemption”).\n",
    "- This is how the fund grows and shrinks in response to demand.\n",
    "\n",
    "For APs, unlike other investors, the ETF resembles an open-end fund."
   ]
  },
  {
   "cell_type": "markdown",
   "id": "9087a24a",
   "metadata": {
    "slideshow": {
     "slide_type": "slide"
    }
   },
   "source": [
    "## Share issuance/redemption: In-kind transactions\n",
    "\n",
    "Critically, share issuance and redemption are in-kind, not in cash.\n",
    "- With an open-end fund, a new investor exchanges cash for fund shares, then the fund invests that cash in securities.\n",
    "- To create ETF shares, the AP assembles securities on their own, then gives them directly to the ETF in exchange for new shares.\n",
    "- When redeeming shares, the AP receives securities, not cash.\n",
    "\n",
    "To facilitate this, the ETF continually announces its holdings.\n",
    "- This way, APs always know the ingredients of a “creation unit.”\n",
    "- This is why ETFs are best for transparent investment strategies."
   ]
  },
  {
   "cell_type": "markdown",
   "id": "8f218958",
   "metadata": {
    "slideshow": {
     "slide_type": "slide"
    }
   },
   "source": [
    "## Share issuance and redemption\n",
    "\n",
    "![MyImage](issuance_redemption.png)"
   ]
  },
  {
   "cell_type": "markdown",
   "id": "221e4970",
   "metadata": {
    "slideshow": {
     "slide_type": "slide"
    }
   },
   "source": [
    "## Issuance and redemption prevent large tracking errors\n",
    "\n",
    "\n",
    "The issuance/redemption process keeps the ETF’s share price close to the fair value of the securities that it holds:\n",
    "- If investor demand starts to push the ETF share price upward, APs respond by buying the underlying securities, obtaining new ETF shares, and selling those shares to investors.\n",
    "- If investors lose interest in the fund, the share price falls. APs buy ETF shares for cheap and exchange them for securities. \n",
    "- In either case, the share price will not go far from fair value. Instead, this pressure is absorbed by the fund changing size.\n",
    "\n",
    "These actions generate profits for APs, so we can expect that they will play along, without concerns about commitment or enforcement."
   ]
  },
  {
   "cell_type": "markdown",
   "id": "172771cf",
   "metadata": {
    "slideshow": {
     "slide_type": "slide"
    }
   },
   "source": [
    "## Premiums and discounts to NAV\n",
    "\n",
    "![MyImage](HDV_discount.png)"
   ]
  },
  {
   "cell_type": "markdown",
   "id": "803d5480",
   "metadata": {
    "slideshow": {
     "slide_type": "slide"
    }
   },
   "source": [
    "## ETFs are often more liquid than their underlying assets\n",
    "\n",
    "![MyImage](ETF_bid_ask.png)"
   ]
  },
  {
   "cell_type": "markdown",
   "id": "ef5b0089",
   "metadata": {
    "slideshow": {
     "slide_type": "slide"
    }
   },
   "source": [
    "## ETF advantages: Costs\n",
    "\n",
    "In-kind redemption/creation also allows an ETF to operate at lower costs than a mutual fund following the same strategy.\n",
    "- If a mutual fund investor wants to get out, they redeem their shares back to the fund itself. The fund must hold cash on hand to meet redemptions. If new issuance does not replenish that cash, they must sell securities to do so. All of this takes attention and effort, generating costs.\n",
    "- If an ETF investor wants to get out, they just sell their shares on the exchange. If enough investors do so, this puts downward pressure on the price, and the AP will start redeeming shares. But those transactions do not involve cash, so they are easier to manage from the fund’s perspective."
   ]
  },
  {
   "cell_type": "markdown",
   "id": "b543ff17",
   "metadata": {
    "slideshow": {
     "slide_type": "slide"
    }
   },
   "source": [
    "## ETF expense ratios\n",
    "\n",
    "![MyImage](ETF_expense_ratio_objective.png)"
   ]
  },
  {
   "cell_type": "markdown",
   "id": "10dfaa80",
   "metadata": {
    "slideshow": {
     "slide_type": "slide"
    }
   },
   "source": [
    "## Other “exchange-traded” products\n",
    "\n",
    "I will always use “ETF” to mean the structure described above.\n",
    "\n",
    "- This is the most common meaning of the term, and it applies to the best-known examples, such as equity or bond index ETFs.\n",
    "\n",
    "But the general label “exchange-traded product” (ETP) has also been applied to other structures that do not fit this description.\n",
    "\n",
    "- For example, exchange-traded notes (ETN) are essentially derivative contracts (technically unsecured debt) issued by investment banks. Although these are exchange-traded, they have nothing in common with an ETF.\n",
    "\n",
    "So be careful about the meaning of these labels outside class!"
   ]
  },
  {
   "cell_type": "markdown",
   "id": "b3c0eec0",
   "metadata": {
    "slideshow": {
     "slide_type": "slide"
    }
   },
   "source": [
    "## Extra information about ETFs\n",
    "\n",
    "Everything after this point is not testable and is only for those interested in further information."
   ]
  },
  {
   "cell_type": "markdown",
   "id": "8c89ec24",
   "metadata": {
    "slideshow": {
     "slide_type": "slide"
    }
   },
   "source": [
    "## ETF advantage: Flexibility in tax timing\n",
    "\n",
    "- In-kind redemption of fund shares does not trigger cap gains.\n",
    "    - IRS rule 852(b)6, enacted in 1969 for the mutual fund industry.\n",
    "- Mutual funds rarely exploit this loophole, because their investors\n",
    "want cash. \n",
    "- But ETF APs are glad to accept securities. This allows ETFs to shrink or rebalance, without cap gain events.\n",
    "    - A mutual fund meets redemptions by selling securities. Cap gains are distributed to all shareholders (and NAV falls).\n",
    "    - An ETF just gives securities directly to the AP. No cap gains are realized (and share price does not fall).\n",
    "- While useful, this feature only **defers** investors’ capital gains, and does not completely avoid them:\n",
    "    - The share price of the ETF ends up higher then the NAV of the mutual fund after the transaction, so the ETF shareholders will still eventually realize the capital, gain when they sell out of the fund. \n",
    "- Also, ETF investors still owe taxes on dividends and coupons received during the year, just like mutual fund investors do."
   ]
  },
  {
   "cell_type": "markdown",
   "id": "6437f9bc",
   "metadata": {
    "slideshow": {
     "slide_type": "slide"
    }
   },
   "source": [
    "## \"Heartbeats\" are an extreme illustration of this strategy"
   ]
  },
  {
   "cell_type": "markdown",
   "id": "aea1f467",
   "metadata": {
    "slideshow": {
     "slide_type": "-"
    }
   },
   "source": [
    "![MyImage](ETF_heartbeat.png)"
   ]
  },
  {
   "cell_type": "markdown",
   "id": "97c701d0",
   "metadata": {
    "slideshow": {
     "slide_type": "skip"
    }
   },
   "source": [
    "![MyImage](ETF_heartbeat_2.png)"
   ]
  },
  {
   "cell_type": "markdown",
   "id": "d5ae9614",
   "metadata": {
    "slideshow": {
     "slide_type": "skip"
    }
   },
   "source": [
    "## ETF advantage: Stability with illiquid assets (in theory)\n",
    "\n",
    "- Funds can create liquidity, by holding a portfolio of illiquid assets and allowing investors trade the fund’s shares.\n",
    "- But an open-end fund holding illiquid assets is fragile when prices fall: the fund has a standing promise to redeem shares at NAV, but this NAV may not represent market prices actually available.\n",
    "- A wave of redemptions can force the sale of securities below NAV, which imposes losses on the investors who do not redeem.\n",
    "- This creates a self-fulfilling incentive to exit the fund quickly, which can lead to a sudden collapse in times of market stress. The situation is exactly like a classic bank run.\n",
    "- Case study: Third Avenue bond fund collapse.\n",
    "- The problem is the OEF’s standing promise to redeem at NAV, which may not accurate reflect the value of its holdings.\n",
    "- By contrast, the ETF reports a NAV, but makes no promises based on it:\n",
    "    - Investors can only trade shares for the price on the exchange.\n",
    "    - APs cannot trade shares for cash, only for underlying securities.\n",
    "- In times of stress, share prices of ETFs with illiquid holdings may fall below NAV, but no one has an incentive to exit the fund.\n",
    "    - The share price reflects market value better than the NAV.\n",
    "    - This makes the ETF better from the perspective of stability, and also for price discovery of the underlying assets.\n",
    "- Case study: Bond ETFs survived the recent market turmoil.\n",
    "    - However, this is not a perfect demonstration for several reasons.\n",
    "    - Still waiting for clear evidence whether ETFs are less fragile.\n",
    "\n",
    "Unfortunately, many market participants do not fully understand this and view it as a weakness, rather than a strength, that ETF prices can depart from NAV during times of illiquidity and stale pricing."
   ]
  },
  {
   "cell_type": "markdown",
   "id": "4768991f",
   "metadata": {
    "slideshow": {
     "slide_type": "slide"
    }
   },
   "source": [
    "## Active, non-transparent ETFs (ANTs)\n",
    "\n",
    "- *Transparent* active strategies are perfectly feasible in a traditional ETF.  \n",
    "Examples include equal-weighted indexing, and some active ETFs such as Catherine Wood’s ARK funds.\n",
    "- The challenge is implementing a *non-transparent* active strategy:  \n",
    "How will your AP know which securities to trade with you?\n",
    "- Recently the SEC approved several different approaches to this, leading to the birth of active non-transparent (ANT) ETFs.\n",
    "- Some ANTs disclose their holdings confidentially to the AP.  \n",
    "Others disclose a different but closely-correlated portfolio.  \n",
    "Fidelity now offers a Magellan ETF taking the second approach.\n",
    "- These are still very new, so their long-term trend is unclear."
   ]
  },
  {
   "cell_type": "markdown",
   "id": "3a4bce98",
   "metadata": {
    "slideshow": {
     "slide_type": "slide"
    }
   },
   "source": [
    "## Commodity ETFs\n",
    "\n",
    "How to manage an ETF that tracks real assets like commodities?\n",
    "- The exact procedures vary with the asset and the fund.\n",
    "- Gold ETFs typically store gold in a vault (example: IAU).\n",
    "- Oil ETFs instead hold oil futures contracts and roll them over\n",
    "regularly (example: USO). This approach is cheaper but riskier!"
   ]
  },
  {
   "cell_type": "markdown",
   "id": "5d059f02",
   "metadata": {
    "slideshow": {
     "slide_type": "skip"
    }
   },
   "source": [
    "# Code examples\n",
    "\n",
    "Note: I end the data in 2017 to avoid a minor complication: The Magellan fund underwent a 10-for-1 split in mid-2018, so all NAV and distribution numbers have to be multiplied by 10 from that point forward to be comparable with the earlier numbers. You have to check for this kind of thing in practice and the adjustment is simple, but I don't want to complicate the code any more than necessary here becuase share splits are fairly unusual for mutual funds."
   ]
  },
  {
   "cell_type": "code",
   "execution_count": 3,
   "id": "a962bc1a",
   "metadata": {
    "slideshow": {
     "slide_type": "skip"
    }
   },
   "outputs": [
    {
     "name": "stdout",
     "output_type": "stream",
     "text": [
      "Loading library list...\n",
      "Done\n"
     ]
    }
   ],
   "source": [
    "# Import packages and data\n",
    "\n",
    "import pandas as pd\n",
    "pd.options.mode.chained_assignment = None  # default='warn'\n",
    "import os\n",
    "import wrds\n",
    "import fredapi\n",
    "import math\n",
    "import numpy\n",
    "import statsmodels.formula.api\n",
    "from matplotlib import pyplot as plt\n",
    "\n",
    "# Initiate WRDS connection\n",
    "conn = wrds.Connection(wrds_username='wmann')"
   ]
  },
  {
   "cell_type": "code",
   "execution_count": 4,
   "id": "1279de1c",
   "metadata": {
    "slideshow": {
     "slide_type": "skip"
    }
   },
   "outputs": [],
   "source": [
    "# Retrieve one-month risk-free returns\n",
    "FF3F = conn.get_table(library='ff_all',table='factors_monthly')\n",
    "FF3F['month'] = pd.to_datetime(FF3F['date']).dt.to_period('M')\n",
    "FF3F = FF3F.drop('date',axis=1).drop('dateff',axis=1).set_index('month')\n",
    "riskfree = FF3F.rf\n",
    "riskfree = riskfree['1991':'2017']"
   ]
  },
  {
   "cell_type": "code",
   "execution_count": 5,
   "id": "bf978c68",
   "metadata": {
    "slideshow": {
     "slide_type": "skip"
    }
   },
   "outputs": [],
   "source": [
    "# Calculate S&P 500 index returns\n",
    "SP500 = conn.raw_sql(\"select caldt, vwretd, vwretx from crsp_a_indexes.msp500\")\n",
    "SP500['month'] = pd.to_datetime(SP500['caldt']).dt.to_period('M')\n",
    "SP500 = SP500.drop(columns=['caldt']).set_index(['month'])\n",
    "SP500 = SP500['1991':'2017']"
   ]
  },
  {
   "cell_type": "code",
   "execution_count": 6,
   "id": "71b3d57c",
   "metadata": {
    "slideshow": {
     "slide_type": "skip"
    }
   },
   "outputs": [],
   "source": [
    "# Retrieve mutual fund NAVs and distributions from WRDS.\n",
    "# We have to merge together three different tables: fund_hdr, monthly_nav, dividends\n",
    "\n",
    "# The fund_hdr table tells us, for each ticker, \n",
    "# the internal identifier(s) *crsp_fundno* that the database uses for the corresponding fund.\n",
    "tickers = ('VFINX','FMAGX')\n",
    "identifiers = conn.raw_sql( \"select crsp_fundno, ticker from crsp_q_mutualfunds.fund_hdr \" \\\n",
    "\t+ \"where ticker in \" + \"('\" + \"','\".join(tickers) + \"')\").set_index('crsp_fundno')\n",
    "\n",
    "# The monthly_nav table tells us the fund's NAVs at the end of the month \n",
    "# (notice we are now filtering not by ticker but by crsp_fundno.\n",
    "NAVs = conn.raw_sql( \"select crsp_fundno, caldt, mnav from crsp_q_mutualfunds.monthly_nav \" \\\n",
    "\t+ \"where crsp_fundno in \" + \"('\" + \"','\".join( str(int(identifier)) for identifier in identifiers.index.values ) + \"')\")\n",
    "NAVs['month'] = pd.to_datetime(NAVs['caldt']).dt.to_period('M')\n",
    "NAVs = NAVs.drop('caldt',axis=1).set_index(['crsp_fundno','month'])\n",
    "\n",
    "# The dividends table tells us the distributions paid by each fund during the month.\n",
    "dividends = conn.raw_sql( \"select crsp_fundno, caldt, dis_amt from crsp_q_mutualfunds.dividends \" \\\n",
    "\t+ \"where crsp_fundno in \" + \"('\" + \"','\".join( str(int(identifier)) for identifier in identifiers.index.values) + \"')\") \n",
    "dividends['month'] = pd.to_datetime(dividends['caldt']).dt.to_period('M')\n",
    "dividends = dividends.drop('caldt',axis=1).set_index(['crsp_fundno','month'])\n",
    "dividends = dividends.groupby(['crsp_fundno','month']).sum()\n",
    "\n",
    "# Now join the three mutual fund tables (identifiers, NAVs, dividends).\n",
    "Funds = identifiers.join( NAVs.join(dividends) ) \n",
    "# Reset the dataframe to index by ticker instead of by the crsp_fundno identifier\n",
    "Funds = Funds.reset_index().set_index(['ticker','month'])\n",
    "# The join command creates \"NaN\" entries for distributions in each month where there was not a distribution, \n",
    "# so replace these with zero using the fillna function.\n",
    "Funds['dis_amt'] = Funds['dis_amt'].fillna(0)\n",
    "\n",
    "FMAGX = Funds.loc(axis=0)['FMAGX']['1991':'2017']\n",
    "VFINX = Funds.loc(axis=0)['VFINX']['1991':'2017']"
   ]
  },
  {
   "cell_type": "code",
   "execution_count": 2,
   "id": "0930b5e7",
   "metadata": {
    "slideshow": {
     "slide_type": "skip"
    }
   },
   "outputs": [],
   "source": [
    "# Uncomment this code block to save to Excel:\n",
    "\n",
    "# try: os.remove(\"FMAGX example.xlsx\")\n",
    "# except OSError: pass\n",
    "\n",
    "# # set up custom ExcelWriter engine to get the date format correct in the output file\n",
    "# writer = pd.ExcelWriter('FMAGX example.xlsx', engine='xlsxwriter', datetime_format= \"yyyy-mm\")\n",
    "\n",
    "# riskfree.to_excel(writer,sheet_name='Risk-free',index_label='Month',header=['One-month risk-free return'])\n",
    "# SP500.to_excel(writer,sheet_name='SP500',index_label='Month',columns=['vwretx','vwretd'],header=['S&P 500 index return','S&P 500 total return'])\n",
    "# VFINX.to_excel(writer,sheet_name='VFINX',index_label='Month',columns=['dis_amt','mnav'],header=['VFINX distributions during month','VFINX NAV at end of month'])\n",
    "# FMAGX.to_excel(writer,sheet_name='FMAGX',index_label='Month',columns=['dis_amt','mnav'],header=['FMAGX distributions during month','FMAGX NAV at end of month'])\n",
    "\n",
    "# writer.close()"
   ]
  },
  {
   "cell_type": "markdown",
   "id": "0ecbb73b",
   "metadata": {
    "slideshow": {
     "slide_type": "skip"
    }
   },
   "source": [
    "### Calculate returns\n",
    "\n",
    "Notice that by doing a monthly calculation, we ignore the precise intra-month timing of when the dividends are distributed. A daily calculation would be slightly better from a thoeretical perspective, but it's a very minor issue."
   ]
  },
  {
   "cell_type": "code",
   "execution_count": 10,
   "id": "ba256070",
   "metadata": {
    "slideshow": {
     "slide_type": "skip"
    }
   },
   "outputs": [],
   "source": [
    "for fund in (FMAGX,VFINX):\n",
    "    fund['returns'] = (( fund.mnav + fund.dis_amt ) / fund.mnav.shift() - 1).dropna()\n",
    "    fund['excess_returns'] = fund['returns'] - riskfree"
   ]
  },
  {
   "cell_type": "markdown",
   "id": "665c6162",
   "metadata": {
    "slideshow": {
     "slide_type": "skip"
    }
   },
   "source": [
    "Plot cumulative returns of VFINX and S&P 500 index over time:"
   ]
  },
  {
   "cell_type": "code",
   "execution_count": 11,
   "id": "d038091f",
   "metadata": {
    "slideshow": {
     "slide_type": "skip"
    }
   },
   "outputs": [
    {
     "data": {
      "image/png": "[encoded data removed]",
      "text/plain": [
       "<Figure size 432x288 with 1 Axes>"
      ]
     },
     "metadata": {
      "needs_background": "light"
     },
     "output_type": "display_data"
    }
   ],
   "source": [
    "# Price-only returns: The usual S&P 500 index, and the growth of VFINX NAV over time.\n",
    "(1+SP500.vwretx).cumprod().plot(label=\"SP500 index\",legend=True);\n",
    "(VFINX.mnav / VFINX.mnav.shift()).cumprod().plot(label=\"VFINX NAV\",legend=True);\n",
    "# Total returns: The S&P 500 \"total return\" index, and VFINX returns including distributions\n",
    "(1+VFINX.returns).cumprod().plot(label=\"VFINX\",legend=True);\n",
    "(1+SP500.vwretd).cumprod().plot(label=\"SP500 total return\",legend=True);"
   ]
  },
  {
   "cell_type": "markdown",
   "id": "b261be25",
   "metadata": {
    "slideshow": {
     "slide_type": "skip"
    }
   },
   "source": [
    "Plot cumulative returns of VFINX and FMAGX over time:"
   ]
  },
  {
   "cell_type": "code",
   "execution_count": 12,
   "id": "a5ea6e7a",
   "metadata": {
    "slideshow": {
     "slide_type": "skip"
    }
   },
   "outputs": [
    {
     "data": {
      "image/png": "[encoded data removed]",
      "text/plain": [
       "<Figure size 432x288 with 1 Axes>"
      ]
     },
     "metadata": {
      "needs_background": "light"
     },
     "output_type": "display_data"
    }
   ],
   "source": [
    "(1+VFINX.returns).cumprod().plot(label=\"VFINX\",legend=True);\n",
    "(1+FMAGX.returns).cumprod().plot(label=\"FMAGX\",legend=True);"
   ]
  },
  {
   "cell_type": "markdown",
   "id": "5a7d745b",
   "metadata": {
    "slideshow": {
     "slide_type": "skip"
    }
   },
   "source": [
    "Arithmetic average monthly return:\n",
    "\n",
    "Notice that the arithmetic average of FMAGX is almost the same as that of VFINX.\n",
    "Yet it had a much lower cumulative return above.\n",
    "This is due to volatility drag as we will illustrate below and discuss in class."
   ]
  },
  {
   "cell_type": "code",
   "execution_count": 13,
   "id": "97537c32",
   "metadata": {
    "slideshow": {
     "slide_type": "skip"
    }
   },
   "outputs": [
    {
     "name": "stdout",
     "output_type": "stream",
     "text": [
      "Average arithmetic monthly return of VFINX: 0.88%\n",
      "Average arithmetic monthly return of FMAGX: 0.85%\n"
     ]
    }
   ],
   "source": [
    "print(\"Average arithmetic monthly return of VFINX: \" + '%4.2f' % (100*VFINX.returns.mean()) + \"%\" )\n",
    "print(\"Average arithmetic monthly return of FMAGX: \" + '%4.2f' % (100*FMAGX.returns.mean()) + \"%\" )"
   ]
  },
  {
   "cell_type": "markdown",
   "id": "2853043d",
   "metadata": {
    "slideshow": {
     "slide_type": "skip"
    }
   },
   "source": [
    "Volatility of monthly return:\n",
    "\n",
    "FMAGX exhibited a lot more volatility than VFINX with about the same *arithmetic* average return.\n",
    "This is why it ultimately achieved a lower *cumulative* return."
   ]
  },
  {
   "cell_type": "code",
   "execution_count": 14,
   "id": "7b4c274d",
   "metadata": {
    "slideshow": {
     "slide_type": "skip"
    }
   },
   "outputs": [
    {
     "name": "stdout",
     "output_type": "stream",
     "text": [
      "Volatility of monthly return of VFINX: 4.06%\n",
      "Volatility of monthly return of FMAGX: 4.63%\n"
     ]
    }
   ],
   "source": [
    "print(\"Volatility of monthly return of VFINX: \" + '%4.2f' % (100*VFINX.returns.std()) + \"%\")\n",
    "print(\"Volatility of monthly return of FMAGX: \" + '%4.2f' % (100*FMAGX.returns.std()) + \"%\")"
   ]
  },
  {
   "cell_type": "markdown",
   "id": "594b1bf4",
   "metadata": {
    "slideshow": {
     "slide_type": "skip"
    }
   },
   "source": [
    "Sharpe ratios:"
   ]
  },
  {
   "cell_type": "code",
   "execution_count": 15,
   "id": "e7487223",
   "metadata": {
    "slideshow": {
     "slide_type": "skip"
    }
   },
   "outputs": [
    {
     "name": "stdout",
     "output_type": "stream",
     "text": [
      "Sharpe ratio of VFINX (monthly): 0.166\n",
      "Sharpe ratio of FMAGX (monthly): 0.139\n"
     ]
    }
   ],
   "source": [
    "VFINX_Sharpe = VFINX.excess_returns.mean() / VFINX.excess_returns.std()\n",
    "print(\"Sharpe ratio of VFINX (monthly): \" + '%4.3f' % VFINX_Sharpe )\n",
    "FMAGX_Sharpe = FMAGX.excess_returns.mean() / FMAGX.excess_returns.std()\n",
    "print(\"Sharpe ratio of FMAGX (monthly): \" + '%4.3f' % FMAGX_Sharpe )"
   ]
  },
  {
   "cell_type": "markdown",
   "id": "bfffd769",
   "metadata": {
    "slideshow": {
     "slide_type": "skip"
    }
   },
   "source": [
    "Cumulative value of $1 invested:"
   ]
  },
  {
   "cell_type": "code",
   "execution_count": 16,
   "id": "9aef3dd4",
   "metadata": {
    "slideshow": {
     "slide_type": "skip"
    }
   },
   "outputs": [
    {
     "name": "stdout",
     "output_type": "stream",
     "text": [
      "Cumulative value of $1 invested in VFINX: $13.20\n",
      "Cumulative value of $1 invested in FMAGX: $10.97\n"
     ]
    }
   ],
   "source": [
    "VFINX_cumulative = (1+VFINX.returns).cumprod()[-1]\n",
    "print(\"Cumulative value of $1 invested in VFINX: $\" + '%4.2f' % VFINX_cumulative )\n",
    "\n",
    "FMAGX_cumulative = (1+FMAGX.returns).cumprod()[-1]\n",
    "print(\"Cumulative value of $1 invested in FMAGX: $\" + '%4.2f' % FMAGX_cumulative )"
   ]
  },
  {
   "cell_type": "markdown",
   "id": "dbc6d87b",
   "metadata": {
    "slideshow": {
     "slide_type": "skip"
    }
   },
   "source": [
    "Geometric average return:"
   ]
  },
  {
   "cell_type": "code",
   "execution_count": 17,
   "id": "eee992a3",
   "metadata": {
    "slideshow": {
     "slide_type": "skip"
    }
   },
   "outputs": [
    {
     "name": "stdout",
     "output_type": "stream",
     "text": [
      "Geometric average monthly return on VFINX: 0.802%\n",
      "Geometric average monthly return on FMAGX: 0.744%\n"
     ]
    }
   ],
   "source": [
    "N = len(VFINX.returns)-1\n",
    "\n",
    "VFINX_geometric = VFINX_cumulative**(1/N) - 1\n",
    "print(\"Geometric average monthly return on VFINX: \" + '%4.3f' % (100*VFINX_geometric) + \"%\")\n",
    "\n",
    "FMAGX_geometric = FMAGX_cumulative**(1/N) - 1\n",
    "print(\"Geometric average monthly return on FMAGX: \" + '%4.3f' % (100*FMAGX_geometric) + \"%\")"
   ]
  },
  {
   "cell_type": "markdown",
   "id": "928d5c6e",
   "metadata": {
    "slideshow": {
     "slide_type": "skip"
    }
   },
   "source": [
    "Compare the above calculations with approximation formula for the geometric average:\n",
    "\n",
    "Note how this formula penalizes the funds for their volatility."
   ]
  },
  {
   "cell_type": "code",
   "execution_count": 18,
   "id": "45043517",
   "metadata": {
    "slideshow": {
     "slide_type": "skip"
    }
   },
   "outputs": [
    {
     "name": "stdout",
     "output_type": "stream",
     "text": [
      "Approximate geometric return of VFINX: 0.803%\n",
      "Approximate geometric return of FMAGX: 0.746%\n"
     ]
    }
   ],
   "source": [
    "VFINX_geometric_approximation = VFINX.returns.mean() - 0.5*VFINX.returns.var()\n",
    "print(\"Approximate geometric return of VFINX: \" + '%4.3f' % (100*VFINX_geometric_approximation) + \"%\")\n",
    "FMAGX_geometric_approximation = FMAGX.returns.mean() - 0.5*FMAGX.returns.var()\n",
    "print(\"Approximate geometric return of FMAGX: \" + '%4.3f' % (100*FMAGX_geometric_approximation) + \"%\")"
   ]
  }
 ],
 "metadata": {
  "celltoolbar": "Slideshow",
  "kernelspec": {
   "display_name": "Python 3 (ipykernel)",
   "language": "python",
   "name": "python3"
  },
  "language_info": {
   "codemirror_mode": {
    "name": "ipython",
    "version": 3
   },
   "file_extension": ".py",
   "mimetype": "text/x-python",
   "name": "python",
   "nbconvert_exporter": "python",
   "pygments_lexer": "ipython3",
   "version": "3.10.12"
  }
 },
 "nbformat": 4,
 "nbformat_minor": 5
}
