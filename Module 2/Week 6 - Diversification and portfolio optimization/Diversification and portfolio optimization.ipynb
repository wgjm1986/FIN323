{
 "cells": [
  {
   "cell_type": "markdown",
   "id": "a975b22a",
   "metadata": {
    "slideshow": {
     "slide_type": "slide"
    }
   },
   "source": [
    "<center> <h1>Diversification and portfolio optimization</h1> </center>"
   ]
  },
  {
   "cell_type": "markdown",
   "id": "eeaa104b",
   "metadata": {
    "slideshow": {
     "slide_type": "-"
    }
   },
   "source": [
    "<center>William Mann</center>"
   ]
  },
  {
   "cell_type": "markdown",
   "id": "3aed49aa",
   "metadata": {
    "slideshow": {
     "slide_type": "-"
    }
   },
   "source": [
    "<center>\n",
    "<img src=\"https://wgjm1986.github.io/Investments/Emory_small.png\" height=\"200px\" width=\"300px\" />\n",
    "</center>                                                                                            "
   ]
  },
  {
   "cell_type": "markdown",
   "id": "683fadc5",
   "metadata": {
    "slideshow": {
     "slide_type": "slide"
    }
   },
   "source": [
    "## Risk and return\n",
    "\n",
    "The major questions for the rest of the course are:\n",
    "- How we should define and measure investment risk?\n",
    "- What kind of return do we have to forecast on an investment, in order for it to be worthwhile given its risk?\n",
    "\n",
    "These are difficult questions, and we will not claim to “answer” them.\n",
    "\n",
    "We will simply explore the way people have thought about them."
   ]
  },
  {
   "cell_type": "markdown",
   "id": "16285c8f",
   "metadata": {
    "slideshow": {
     "slide_type": "slide"
    }
   },
   "source": [
    "## The approach of modern portfolio theory (MPT)\n",
    "\n",
    "1. **What goal is an investor trying to accomplish?** Roughly speaking, maximize the <u>average return</u> on her wealth, minus a penalty for the <u>variance</u> of this return.  \n",
    "\n",
    "2. **Then, what risky portfolio does she want to hold?** The one with the <u>highest possible Sharpe ratio</u>.  \n",
    "\n",
    "3. **Then, how will she assess an individual investment?** Based on its <u>alpha</u> (α) compared to her current portfolio. If α > 0, she wants to hold more of it. If α < 0, less.  \n",
    "\n",
    "4. **Then, how will the <u>average</u> investor think?** The average investor must hold the market portfolio. Then the most natural “equilibrium” is given by the CAPM: All α values are zero, when compared with the market portfolio."
   ]
  },
  {
   "cell_type": "markdown",
   "id": "026c1388",
   "metadata": {
    "slideshow": {
     "slide_type": "slide"
    }
   },
   "source": [
    "## Useful approximation of geometric mean\n",
    "\n",
    "- Geometric average return is the true measure of performance, because you can convert it directly to a cumulative return.\n",
    "    - Geometric average is always less than arithmetic average, except in the special case that the return is constant over time.\n",
    "    - A high arithmetic average return can be misleading!\n",
    "- The geometric average return of a portfolio is hard to forecast, but we can apply a useful approximation:\n",
    "\n",
    "$$\n",
    "\\text{Geometric mean return} \\approx \\mu - \\frac{1}{2}\\sigma^2\n",
    "$$\n",
    "(textbook formula 5.15)\n",
    "\n",
    "Here σ is the volatility (standard deviation) of the return."
   ]
  },
  {
   "cell_type": "markdown",
   "id": "2d82644b",
   "metadata": {
    "slideshow": {
     "slide_type": "slide"
    }
   },
   "source": [
    "## Volatility drag\n",
    "\n",
    "- From $\\mu - \\frac{1}{2}\\sigma^2$ we see that **volatility hurts performance.**\n",
    "    - This effect is often called “volatility drag” or the “volatility tax”.\n",
    "- Diversification offers one way to lower the σ of a portfolio, and this can sometimes be worthwhile even if it lowers µ.\n",
    "- This is true even for a patient and long-term investor!"
   ]
  },
  {
   "cell_type": "markdown",
   "id": "18b44d1d",
   "metadata": {
    "slideshow": {
     "slide_type": "slide"
    }
   },
   "source": [
    "## Possible investor objectives\n",
    "\n",
    "A **growth-optimal strategy** seeks to maximize average growth rate, so their \"objective function\" is\n",
    "$$\n",
    "\\mu - \\frac{1}{2}\\sigma^2\n",
    "$$\n",
    "This approach is also called the “log-optimal strategy\" or the “Kelly criterion.”\n",
    "\n",
    "A more flexible objective is a *mean-variance utility function,*\n",
    "$$\n",
    "\\mu - A \\frac{1}{2}\\sigma^2\n",
    "$$\n",
    "where A > 0 is potentially different for every individual.\n",
    "With $A=1$ this is the growth-optimal strategy from above.\n",
    "\n",
    "In principle, one could imagine many other objectives as well."
   ]
  },
  {
   "cell_type": "markdown",
   "id": "88192aa7",
   "metadata": {
    "slideshow": {
     "slide_type": "slide"
    }
   },
   "source": [
    "## What we will assume\n",
    "\n",
    "We will usually only assume that investors are **risk-averse:**  \n",
    "For a given level of µ, they prefer portfolios with lower σ.\n",
    "- This assumption was true for both of the objectives above.\n",
    "- Again, it seems reasonable even for a patient long-term investor.\n",
    "\n",
    "We will also assume that σ is the investor’s *only* risk measure.\n",
    "- This may be simplistic, compared to how investors *think*. But it seems to capture most of how they *behave*.\n",
    "- To be clear, we are assuming that investors measure the risk of their *entire wealth portfolio* only through its volatility. This does not mean that they evaluate individual investments based on volatility. In fact, we will see that they should not."
   ]
  },
  {
   "cell_type": "markdown",
   "id": "7ed7172a",
   "metadata": {
    "slideshow": {
     "slide_type": "slide"
    }
   },
   "source": [
    "## µ and σ for a portfolio of two investments\n",
    "\n",
    "A portfolio’s return is the weighted average of its ingredients’ returns.\n",
    "\n",
    "For example, with just two investments A and B,\n",
    "$$ r_{pt} = w_A \\times r_{At} + w_B \\times r_{Bt} $$\n",
    "\n",
    "The weights $w_A$ and $w_B$ are the percentage of the portfolio's dollar allocated to A and B.\n",
    "\n",
    "The portfolio's arithmetic average return µ works in the same way:\n",
    "$$ \\mu_p = w_A \\times \\mu_A + w_B \\times \\mu_B $$\n",
    "\n",
    "The portfolio's return volatility is more complicated (textbook formula 7.7):\n",
    "$\\sigma_p = \\sqrt{\\sigma_p^2}$, where\n",
    "\n",
    "$$\n",
    "\\sigma_p^2 = w_A^2 \\times \\sigma_A^2 + w_B^2 \\times \\sigma_B^2 + 2 \\times w_A \\times w_B \\times \\sigma_{AB}\n",
    "$$\n",
    "\n",
    "$$\n",
    "\\sigma_{AB} \\equiv \\sigma_A \\times \\sigma_B \\times \\rho_{AB}\n",
    "$$\n",
    "\n",
    "(These formulas all work with either raw returns or excess returns.)"
   ]
  },
  {
   "cell_type": "markdown",
   "id": "f3692f75",
   "metadata": {
    "slideshow": {
     "slide_type": "slide"
    }
   },
   "source": [
    "## µ and σ for with many investments\n",
    "\n",
    "Matrix formulas are cleaner, and work for any number of portfolio ingredients.\n",
    "\n",
    "Suppose we have $N$ investments and write out their returns as\n",
    "$$\n",
    "r_t \\equiv \\left[\\begin{matrix} r_{1t} \\\\ r_{2t} \\\\ \\vdots \\\\ r_{Nt} \\end{matrix}\\right]\n",
    "\\quad , \\quad\n",
    "\\mu \\equiv \\left[\\begin{matrix} \\mu_1 \\\\ \\mu_2 \\\\ \\vdots \\\\ \\mu_N \\end{matrix}\\right]\n",
    "\\quad , \\quad\n",
    "\\Sigma \\equiv \\left[\\begin{matrix} \\sigma_1^2 & \\sigma_{12} & \\dots & \\sigma_{1N} \\\\ \\sigma_{12} & \\sigma_2^2 & \\dots & \\sigma_{2N} \\\\ \\vdots & \\vdots & \\ddots & \\vdots \\\\ \\sigma_{1N} & \\sigma_{2N} & \\dots & \\sigma_N^2 \\end{matrix}\\right]\n",
    "$$\n",
    "\n",
    "If we build a portfolio with weights $w = [w_1,w_2,\\dots,w_N]$ then\n",
    "$$\n",
    "\\mu_p = w' \\mu \\quad , \\quad \\sigma_p^2 = w' \\Sigma w\n",
    "$$\n",
    "\n",
    "You can check that $N=2$ gives the formulas on the previous slide.\n",
    "\n",
    "I will not test you on these formulas, but will use them at times."
   ]
  },
  {
   "cell_type": "code",
   "execution_count": 1,
   "id": "bb2de4a2",
   "metadata": {
    "slideshow": {
     "slide_type": "skip"
    }
   },
   "outputs": [
    {
     "name": "stdout",
     "output_type": "stream",
     "text": [
      "Loading library list...\n",
      "Done\n"
     ]
    }
   ],
   "source": [
    "import wrds\n",
    "import fredapi\n",
    "import pandas as pd\n",
    "import math\n",
    "import numpy as np\n",
    "import os\n",
    "pd.options.mode.chained_assignment = None  # default='warn'\n",
    "from matplotlib import pyplot as plt\n",
    "plt.rcParams['figure.figsize'] = [14.0, 7.0]\n",
    "import matplotlib.ticker as mtick\n",
    "\n",
    "conn = wrds.Connection(wrds_username='wmann')\n",
    "\n",
    "# One-month risk-free rates\n",
    "FF3F = conn.get_table(library='ff_all',table='factors_monthly')\n",
    "FF3F['month'] = pd.to_datetime(FF3F['date']).dt.to_period('M')\n",
    "FF3F = FF3F.drop('date',axis=1).drop('dateff',axis=1).set_index('month')\n",
    "riskfree = FF3F.rf.astype(float)\n",
    "riskfree = riskfree['2004':'2023']\n",
    "\n",
    "# Mutual fund NAVs and distributions from WRDS: We have to merge three different tables, *fund_hdr*, *dividends*, and *monthly_nav*.\n",
    "# The fund_hdr table tells us, for each ticker, the internal identifier *crsp_fundno* that the database uses for the corresponding fund.\n",
    "tickers = ('VFINX','FKUTX','FBDIX')\n",
    "identifiers = conn.raw_sql( \"select crsp_fundno, ticker from crsp_q_mutualfunds.fund_hdr \" \\\n",
    "\t+ \"where ticker in \" + \"('\" + \"','\".join(tickers) + \"')\").set_index('crsp_fundno')\n",
    "# The *monthly_nav* table tells us the fund's NAVs at the end of the month (notice we are now looking them up the internal identifier *crsp_fundno*).\n",
    "NAVs = conn.raw_sql( \"select crsp_fundno, caldt, mnav from crsp_q_mutualfunds.monthly_nav \" \\\n",
    "\t+ \"where crsp_fundno in \" + \"('\" + \"','\".join( str(int(identifier)) for identifier in identifiers.index.values ) + \"')\")\n",
    "NAVs['month'] = pd.to_datetime(NAVs['caldt']).dt.to_period('M')\n",
    "NAVs = NAVs.drop('caldt',axis=1).set_index(['crsp_fundno','month'])\n",
    "# The *dividends* table tells us the distributions that each fund paid in each month.\n",
    "dividends = conn.raw_sql( \"select crsp_fundno, caldt, dis_amt from crsp_q_mutualfunds.dividends \" \\\n",
    "\t+ \"where crsp_fundno in \" + \"('\" + \"','\".join( str(int(identifier)) for identifier in identifiers.index.values) + \"')\") \n",
    "dividends['month'] = pd.to_datetime(dividends['caldt']).dt.to_period('M')\n",
    "dividends = dividends.drop('caldt',axis=1).set_index(['crsp_fundno','month'])\n",
    "dividends = dividends.groupby(['crsp_fundno','month']).sum()\n",
    "# Join the three mutual fund tables (identifiers, NAVs, dividends) and format the data as desired\n",
    "Funds = identifiers.join( NAVs.join(dividends) ) \n",
    "# Drop the internal fund identifier that CRSP uses,\n",
    "# reset the dataframe to index by ticker instead\n",
    "Funds = Funds.reset_index().drop('crsp_fundno',axis=1).set_index(['ticker','month'])\n",
    "# Dividends are recorded as NaN in any month between dividend dates,\n",
    "# so replace these with zero using the fillna function\n",
    "Funds['dis_amt'] = Funds['dis_amt'].fillna(0)\n",
    "# Convert the Funds dataframe to a dictionary, which will be easier to loop over\n",
    "Funds = {ticker: Funds.loc[ticker] for ticker in tickers}\n",
    "# Keep just the dates I want\n",
    "Funds = {ticker: fund['12-2003':'2023'] for ticker,fund in Funds.items()}"
   ]
  },
  {
   "cell_type": "code",
   "execution_count": 2,
   "id": "17bad8b4",
   "metadata": {
    "slideshow": {
     "slide_type": "skip"
    }
   },
   "outputs": [],
   "source": [
    "# Uncomment this block to save to Excel if desired\n",
    "\n",
    "try: os.remove(\"Homework 1 example.xlsx\")\n",
    "except OSError: pass\n",
    "\n",
    "# set up custom ExcelWriter engine to get the date format correct in the output file\n",
    "writer = pd.ExcelWriter('Homework 1 example.xlsx', engine='xlsxwriter', datetime_format= \"yyyy-mm\")\n",
    "\n",
    "riskfree.to_excel(writer,sheet_name=\"Risk-free\")\n",
    "\n",
    "for ticker in tickers:\n",
    "    Funds[ticker].to_excel(writer,sheet_name=ticker)\n",
    "\n",
    "writer.close()"
   ]
  },
  {
   "cell_type": "code",
   "execution_count": 3,
   "id": "bd9d7134",
   "metadata": {
    "slideshow": {
     "slide_type": "skip"
    }
   },
   "outputs": [],
   "source": [
    "# Calculate returns\n",
    "Returns = {ticker: (fund.mnav + fund.dis_amt)/fund.mnav.shift() - 1 for ticker,fund in Funds.items()}\n",
    "# Calculate excess returns\n",
    "Excess_Returns = {ticker: fund - riskfree for ticker,fund in Returns.items()}\n",
    "# Drop missing return observation in the first month for each fund\n",
    "Excess_Returns = {ticker: fund.dropna() for ticker,fund in Excess_Returns.items()}"
   ]
  },
  {
   "cell_type": "code",
   "execution_count": 4,
   "id": "b70a48f5",
   "metadata": {
    "slideshow": {
     "slide_type": "skip"
    }
   },
   "outputs": [],
   "source": [
    "# Generic function for the figures I want to include in the slides\n",
    "def base_figure(fig,ax):\n",
    "    plt.scatter(0,0,color='blue',s=15)\n",
    "    plt.annotate('Rf',[0.001,0.0002])\n",
    "    for ticker,fund in Excess_Returns.items():\n",
    "        plt.scatter(fund.std(),fund.mean(),color='blue',s=15)\n",
    "        plt.annotate(ticker,[fund.std()+.0005,fund.mean()+.0001])\n",
    "    plt.xlim(-0.01,0.07)\n",
    "    plt.ylim(-.001,0.01)\n",
    "    plt.xlabel(\"Volatility of portfolio excess return\")\n",
    "    plt.ylabel(\"Average portfolio excess return\")\n",
    "    plt.axhline(0,color='lightgrey',zorder=0)\n",
    "    plt.axvline(0,color='lightgrey',zorder=0)\n",
    "    ax.yaxis.set_major_formatter(mtick.PercentFormatter(1.0))\n",
    "    ax.xaxis.set_major_formatter(mtick.PercentFormatter(1.0))"
   ]
  },
  {
   "cell_type": "markdown",
   "id": "98c124d1",
   "metadata": {
    "slideshow": {
     "slide_type": "slide"
    }
   },
   "source": [
    "## Finding the optimal risky portfolio.\n",
    "\n",
    "Suppose the investor has just three of the funds from HW1, plus a risk-free investment.  \n",
    "Let's plot the average and volatility of excess returns of each available investment."
   ]
  },
  {
   "cell_type": "code",
   "execution_count": 5,
   "id": "cc95a72d",
   "metadata": {
    "slideshow": {
     "slide_type": "-"
    }
   },
   "outputs": [
    {
     "data": {
      "image/png": "[encoded data removed]",
      "text/plain": [
       "<Figure size 1008x504 with 1 Axes>"
      ]
     },
     "metadata": {
      "needs_background": "light"
     },
     "output_type": "display_data"
    }
   ],
   "source": [
    "fig,ax = plt.subplots()\n",
    "base_figure( fig, ax )"
   ]
  },
  {
   "cell_type": "markdown",
   "id": "fa518723",
   "metadata": {
    "slideshow": {
     "slide_type": "slide"
    }
   },
   "source": [
    "## Allocation between risk-free and risky\n",
    "\n",
    "We separate the investor’s decision into two questions:\n",
    "- Which portfolio of risky investments to hold?\n",
    "- How much to invest in it, and how much to save risk-free?\n",
    "\n",
    "To understand the first question, we think ahead to the second.\n",
    "\n",
    "- Suppose an investor allocates weight w to a risky portfolio p,  \n",
    "that has average excess return $\\mu_p$ with volatility $\\sigma_p$,  \n",
    "and allocates the rest $1-w$ to the risk-free investment.\n",
    "- A risk-free investment has zero excess return and volatility.  \n",
    "That makes the earlier formulas much simpler:  \n",
    "The average excess return is $w \\times \\mu_p$, with volatility $w \\times \\sigma_p$.\n",
    "In the figure, different choices of $w$ trace out a straight line."
   ]
  },
  {
   "cell_type": "markdown",
   "id": "f22c0a7d",
   "metadata": {
    "slideshow": {
     "slide_type": "slide"
    }
   },
   "source": [
    "## Allocation between risk-free and VFINX"
   ]
  },
  {
   "cell_type": "code",
   "execution_count": 6,
   "id": "02d3c170",
   "metadata": {
    "slideshow": {
     "slide_type": "skip"
    }
   },
   "outputs": [],
   "source": [
    "%%capture\n",
    "VFINX_figure,ax = plt.subplots()\n",
    "base_figure(VFINX_figure, ax)\n",
    "plt.plot([0,1.5*Excess_Returns['VFINX'].std()],[0,1.5*Excess_Returns['VFINX'].mean()],color='red',zorder=0);"
   ]
  },
  {
   "cell_type": "code",
   "execution_count": 7,
   "id": "c09964fc",
   "metadata": {
    "slideshow": {
     "slide_type": "-"
    }
   },
   "outputs": [
    {
     "data": {
      "image/png": "[encoded data removed]",
      "text/plain": [
       "<Figure size 1008x504 with 1 Axes>"
      ]
     },
     "execution_count": 7,
     "metadata": {},
     "output_type": "execute_result"
    }
   ],
   "source": [
    "VFINX_figure"
   ]
  },
  {
   "cell_type": "markdown",
   "id": "21f267d0",
   "metadata": {
    "slideshow": {
     "slide_type": "slide"
    }
   },
   "source": [
    "## Allocation between risk-free and FBDIX"
   ]
  },
  {
   "cell_type": "code",
   "execution_count": 8,
   "id": "624e0942",
   "metadata": {
    "slideshow": {
     "slide_type": "skip"
    }
   },
   "outputs": [],
   "source": [
    "%%capture\n",
    "FBDIX_figure,ax = plt.subplots()\n",
    "base_figure(FBDIX_figure,ax)\n",
    "plt.plot([0,1.5*Excess_Returns['FBDIX'].std()],[0,1.5*Excess_Returns['FBDIX'].mean()],color='red',zorder=0);"
   ]
  },
  {
   "cell_type": "code",
   "execution_count": 9,
   "id": "13f4fc85",
   "metadata": {
    "slideshow": {
     "slide_type": "-"
    }
   },
   "outputs": [
    {
     "data": {
      "image/png": "[encoded data removed]",
      "text/plain": [
       "<Figure size 1008x504 with 1 Axes>"
      ]
     },
     "execution_count": 9,
     "metadata": {},
     "output_type": "execute_result"
    }
   ],
   "source": [
    "FBDIX_figure"
   ]
  },
  {
   "cell_type": "markdown",
   "id": "61012f54",
   "metadata": {
    "slideshow": {
     "slide_type": "slide"
    }
   },
   "source": [
    "## Allocation between risk-free and FKUTX"
   ]
  },
  {
   "cell_type": "code",
   "execution_count": 10,
   "id": "b0331bc1",
   "metadata": {
    "slideshow": {
     "slide_type": "skip"
    }
   },
   "outputs": [],
   "source": [
    "%%capture\n",
    "FKUTX_figure,ax = plt.subplots()\n",
    "base_figure(FKUTX_figure,ax)\n",
    "plt.plot([0,1.5*Excess_Returns['FKUTX'].std()],[0,1.5*Excess_Returns['FKUTX'].mean()],color='red',zorder=0);"
   ]
  },
  {
   "cell_type": "code",
   "execution_count": 11,
   "id": "9a29c333",
   "metadata": {
    "slideshow": {
     "slide_type": "-"
    }
   },
   "outputs": [
    {
     "data": {
      "image/png": "[encoded data removed]",
      "text/plain": [
       "<Figure size 1008x504 with 1 Axes>"
      ]
     },
     "execution_count": 11,
     "metadata": {},
     "output_type": "execute_result"
    }
   ],
   "source": [
    "FKUTX_figure"
   ]
  },
  {
   "cell_type": "markdown",
   "id": "2b4f3f3b",
   "metadata": {
    "slideshow": {
     "slide_type": "slide"
    }
   },
   "source": [
    "### The investor wants the highest possible Sharpe ratio\n",
    "\n",
    "- In the figure, a straight line from the risk-free investment to any risky investment is called a **capital allocation line (CAL).**\n",
    "- Along the line, there is a tradeoff between σ and µ. The steeper is the line, the better is the reward (higher µ) that we get for accepting higher volatility (higher σ).\n",
    "- The exact formula for the line is \n",
    "$$\n",
    "\\mu_{\\text{portfolio}} = \\frac{\\mu_{\\text{risky}}}{\\sigma_{\\text{risky}}} \\times \\sigma_{\\text{portfolio}}\n",
    "$$\n",
    "This is the average return we can get for any choice of volatility.\n",
    "- Notice that $\\frac{\\mu_{\\text{risky}}}{\\sigma_{\\text{risky}}}$ is exactly the Sharpe ratio of the risky investment. So the investor wants to find the risky investment with <u>the highest Sharpe ratio</u> (the steepest CAL).\n",
    "- This means that if they had to choose <u>one</u> fund, they would choose FKUTX."
   ]
  },
  {
   "cell_type": "markdown",
   "id": "6fb64c94",
   "metadata": {
    "slideshow": {
     "slide_type": "slide"
    }
   },
   "source": [
    "## But what is the highest possible Sharpe ratio?\n",
    "\n",
    "- To repeat carefully the above conclusion: FKUTX would be the best of the three funds, if the investor had to allocate their non-risk-free investing <u>entirely to one of them.</u>\n",
    "- But of course the investor doesn’t have to do that. They are free to allocate their money across all three funds.\n",
    "- And it turns out that this might attain a higher Sharpe ratio than any of the three funds attains on its own.\n",
    "- For example, suppose the investor allocates their risky investing to a portfolio that is 60\\% FKUTX, 20\\% VFINX, 20\\% FBDIX..."
   ]
  },
  {
   "cell_type": "markdown",
   "id": "f1755ff8",
   "metadata": {
    "slideshow": {
     "slide_type": "slide"
    }
   },
   "source": [
    "### Allocations between risk-free and a 60/20/20 portfolio"
   ]
  },
  {
   "cell_type": "code",
   "execution_count": 12,
   "id": "30a5f46b",
   "metadata": {
    "slideshow": {
     "slide_type": "skip"
    }
   },
   "outputs": [],
   "source": [
    "%%capture\n",
    "superior_allocation_figure,ax = plt.subplots()\n",
    "base_figure(superior_allocation_figure,ax)\n",
    "high_SR_weights = np.array([0.2,0.6,0.2])\n",
    "high_SR_mu =  high_SR_weights @ [fund.mean() for ticker,fund in Excess_Returns.items()]\n",
    "high_SR_vol = np.sqrt( high_SR_weights @ ( np.cov([fund for ticker,fund in Excess_Returns.items()]) @ high_SR_weights ) )\n",
    "plt.scatter(high_SR_vol,high_SR_mu,color='red',s=15)\n",
    "plt.plot([0,1.5*high_SR_vol],[0,1.5*high_SR_mu],color='red',zorder=0)"
   ]
  },
  {
   "cell_type": "code",
   "execution_count": 13,
   "id": "8fea2718",
   "metadata": {
    "slideshow": {
     "slide_type": "-"
    }
   },
   "outputs": [
    {
     "data": {
      "image/png": "[encoded data removed]",
      "text/plain": [
       "<Figure size 1008x504 with 1 Axes>"
      ]
     },
     "execution_count": 13,
     "metadata": {},
     "output_type": "execute_result"
    }
   ],
   "source": [
    "superior_allocation_figure"
   ]
  },
  {
   "cell_type": "markdown",
   "id": "cac773cc",
   "metadata": {
    "slideshow": {
     "slide_type": "slide"
    }
   },
   "source": [
    "### How can the Sharpe ratio be higher for the portfolio than for any individual investment?\n",
    "\n",
    "Math reasoning: Because volatilities do not average like returns.\n",
    "- Imagine any portfolio you could form of the three funds.\n",
    "- Unlike the average return, the volatility of the portfolio is not just a simple average of the individual funds’ volatilities. In fact it is always less than that average.\n",
    "- When σ falls faster than µ, the ratio µ/σ increases.\n",
    "\n",
    "Economic reasoning: Diversification.\n",
    "- The funds’ returns are all risky, but not perfectly correlated.\n",
    "- When combined together, the correlations partially offset, giving us average returns at below-average volatility.\n",
    "- Harry Markowitz called this “the only free lunch in investing.”"
   ]
  },
  {
   "cell_type": "markdown",
   "id": "a9789bfd",
   "metadata": {
    "slideshow": {
     "slide_type": "slide"
    }
   },
   "source": [
    "## Illustrating diversification: Perfect positive correlation\n",
    "\n",
    "Suppose two investments have perfect positive correlation, $\\rho_{AB}=1$.\n",
    "\n",
    "In this extreme case, portfolio volatility *is* just a weighted average.\n",
    "\n",
    "To see this, substitute $\\rho=1$ into formula (7.7) and simplify:\n",
    "$$\n",
    "\\sigma_p^2 = (w_A \\sigma_A + w_B \\sigma_B)^2\n",
    "$$\n",
    "\n",
    "When we take the square root of both sides,\n",
    "$$\n",
    "\\sigma_p = w_A \\sigma_A + w_B \\sigma_B\n",
    "$$"
   ]
  },
  {
   "cell_type": "markdown",
   "id": "2484a2d5",
   "metadata": {
    "slideshow": {
     "slide_type": "slide"
    }
   },
   "source": [
    "## Illustrating diversification: Zero correlation\n",
    "\n",
    "Suppose two investments have zero correlation, $\\rho_{AB}=0$.\n",
    "Then formula (7.7) becomes:\n",
    "\n",
    "$$\n",
    "\\sigma_p^2 = w_A^2 \\sigma_A^2 + w_B^2 \\sigma_B^2\n",
    "$$\n",
    "\n",
    "When we take the square root of both sides,\n",
    "$$\n",
    "\\sigma_p = \\sqrt{ w_A^2 \\sigma_A^2 + w_B^2 \\sigma_B^2 }\n",
    "$$\n",
    "\n",
    "This is *less* than the weighted average $w_A \\times \\sigma_A + w_B \\times \\sigma_B$.\n",
    "\n",
    "In general, volatility is less than a weighted average whenever ρ < 1.\n",
    "This effect gets more powerful as ρ gets smaller.\n",
    "\n",
    "Visually, it causes the curves in the figures to bend leftward."
   ]
  },
  {
   "cell_type": "markdown",
   "id": "7adbb533",
   "metadata": {
    "slideshow": {
     "slide_type": "slide"
    }
   },
   "source": [
    "## Figure 7.6: Two risky investments in a portfolio\n",
    "\n",
    "The solid black line traces out possible σ and µ values when $\\rho_{AB}=1$.  \n",
    "The dashed blue line traces out possible σ and µ values when $\\rho_{AB}=0$.\n",
    "\n",
    "<center>\n",
    "<img src=\"https://wgjm1986.github.io/Investments/Module%202/Week%206%20-%20Diversification%20and%20portfolio%20optimization/Fig7_6.png\" width=\"500px\" />\n",
    "</center>"
   ]
  },
  {
   "cell_type": "markdown",
   "id": "61b3bfbe",
   "metadata": {
    "slideshow": {
     "slide_type": "slide"
    }
   },
   "source": [
    "## Possible portfolios using just two of the funds"
   ]
  },
  {
   "cell_type": "markdown",
   "id": "66d2af9e",
   "metadata": {
    "slideshow": {
     "slide_type": "-"
    }
   },
   "source": [
    "In our data, the correlation between FKUTX and FBDIX is about 0.24."
   ]
  },
  {
   "cell_type": "code",
   "execution_count": 14,
   "id": "aaaeef82",
   "metadata": {
    "slideshow": {
     "slide_type": "skip"
    }
   },
   "outputs": [],
   "source": [
    "%%capture\n",
    "FKUTX_FBDIX_figure,ax = plt.subplots()\n",
    "base_figure(FKUTX_FBDIX_figure,ax)\n",
    "mu = [Excess_Returns['FKUTX'].mean(), Excess_Returns['FBDIX'].mean()]\n",
    "Sigma = np.cov([Excess_Returns['FKUTX'],Excess_Returns['FBDIX']])\n",
    "for FKUTX_weight in np.linspace(0,1,101):\n",
    "    weights = np.array([FKUTX_weight, 1-FKUTX_weight])\n",
    "    portfolio_avg = weights @ mu\n",
    "    portfolio_vol = np.sqrt( weights @ (Sigma @ weights) )\n",
    "    plt.scatter(portfolio_vol,portfolio_avg,color='lightsteelblue',s=10,zorder=0)"
   ]
  },
  {
   "cell_type": "code",
   "execution_count": 15,
   "id": "f7d1a541",
   "metadata": {
    "slideshow": {
     "slide_type": "-"
    }
   },
   "outputs": [
    {
     "data": {
      "image/png": "[encoded data removed]",
      "text/plain": [
       "<Figure size 1008x504 with 1 Axes>"
      ]
     },
     "execution_count": 15,
     "metadata": {},
     "output_type": "execute_result"
    }
   ],
   "source": [
    "FKUTX_FBDIX_figure"
   ]
  },
  {
   "cell_type": "markdown",
   "id": "1996a701",
   "metadata": {
    "slideshow": {
     "slide_type": "slide"
    }
   },
   "source": [
    "## Steepest CAL using just two of the three funds"
   ]
  },
  {
   "cell_type": "markdown",
   "id": "26c5eec2",
   "metadata": {
    "slideshow": {
     "slide_type": "-"
    }
   },
   "source": [
    "This is the steepest CAL we can find using just FKUTX and FBDIX:"
   ]
  },
  {
   "cell_type": "code",
   "execution_count": 16,
   "id": "b82419ee",
   "metadata": {
    "slideshow": {
     "slide_type": "skip"
    }
   },
   "outputs": [
    {
     "name": "stdout",
     "output_type": "stream",
     "text": [
      "Optimal weights: 71.46% on FKUTX, 28.54% on FBDIX\n",
      "Sharpe ratio achieved: 0.1986\n"
     ]
    }
   ],
   "source": [
    "mu = [ Excess_Returns['FKUTX'].mean() , Excess_Returns['FBDIX'].mean() ]\n",
    "Sigma = np.cov([ Excess_Returns['FKUTX'], Excess_Returns['FBDIX'] ])\n",
    "\n",
    "optimal_weights_unscaled = np.linalg.inv(Sigma) @ mu\n",
    "optimal_weights = optimal_weights_unscaled / sum(optimal_weights_unscaled)\n",
    "\n",
    "optimal_SR = (optimal_weights @ mu) / np.sqrt( optimal_weights @ (Sigma @ optimal_weights) )\n",
    "\n",
    "print(\"Optimal weights: \" + '%4.2f' % (100*optimal_weights[0]) + \"% on FKUTX, \"\n",
    "     + '%4.2f' % (100*optimal_weights[1]) + \"% on FBDIX\")\n",
    "print(\"Sharpe ratio achieved: \" + '%5.4f' % optimal_SR)"
   ]
  },
  {
   "cell_type": "code",
   "execution_count": 17,
   "id": "aaae1924",
   "metadata": {
    "slideshow": {
     "slide_type": "skip"
    }
   },
   "outputs": [],
   "source": [
    "%%capture\n",
    "FKUTX_FBDIX_CAL_figure,ax = plt.subplots()\n",
    "base_figure( FKUTX_FBDIX_CAL_figure,ax )\n",
    "\n",
    "mu_grid = [ optimal_weights @ mu ]\n",
    "v_grid = [ np.sqrt( optimal_weights @ (Sigma @ optimal_weights ) ) ]\n",
    "\n",
    "for i in np.linspace(0,1,101):\n",
    "    weights = np.array([i,1-i])\n",
    "    mu_grid.append(weights @ mu)\n",
    "    v_grid.append( np.sqrt( weights @ (Sigma @ weights) ) )\n",
    "Figure = plt.scatter(v_grid,mu_grid,color='lightsteelblue',s=10,zorder=0)\n",
    "plt.scatter(v_grid[0],mu_grid[0],color='red',s=15)\n",
    "plt.plot([0, v_grid[0], 1.5*v_grid[0] ] , [0, mu_grid[0], 1.5*mu_grid[0]], color='red');"
   ]
  },
  {
   "cell_type": "code",
   "execution_count": 18,
   "id": "1678805e",
   "metadata": {
    "slideshow": {
     "slide_type": "-"
    }
   },
   "outputs": [
    {
     "data": {
      "image/png": "[encoded data removed]",
      "text/plain": [
       "<Figure size 1008x504 with 1 Axes>"
      ]
     },
     "execution_count": 18,
     "metadata": {},
     "output_type": "execute_result"
    }
   ],
   "source": [
    "FKUTX_FBDIX_CAL_figure"
   ]
  },
  {
   "cell_type": "markdown",
   "id": "02f1f68f",
   "metadata": {
    "slideshow": {
     "slide_type": "slide"
    }
   },
   "source": [
    "## Figure 7.10: Many risky investments in a portfolio\n",
    "\n",
    "<center>\n",
    "<img src=\"https://wgjm1986.github.io/Investments/Module%202/Week%206%20-%20Diversification%20and%20portfolio%20optimization/Fig7_10.png\" height=\"800px\" />\n",
    "</center>"
   ]
  },
  {
   "cell_type": "markdown",
   "id": "91a1c922",
   "metadata": {
    "slideshow": {
     "slide_type": "slide"
    }
   },
   "source": [
    "## Possible portfolios using all three funds"
   ]
  },
  {
   "cell_type": "code",
   "execution_count": 19,
   "id": "3298c750",
   "metadata": {
    "slideshow": {
     "slide_type": "skip"
    }
   },
   "outputs": [],
   "source": [
    "%%capture\n",
    "all_funds_figure,ax = plt.subplots()\n",
    "base_figure( all_funds_figure,ax )\n",
    "\n",
    "mu_grid = []\n",
    "v_grid = []\n",
    "\n",
    "mu = [fund.mean() for ticker,fund in Excess_Returns.items()]\n",
    "Sigma = np.cov([fund for ticker,fund in Excess_Returns.items()])\n",
    "\n",
    "for i in np.linspace(-0.1,1.1,101):\n",
    "    for j in np.linspace(-0.1,1.1,101):\n",
    "        weights = np.array([i,j,1-i-j])\n",
    "        mu_grid.append(weights @ mu)\n",
    "        v_grid.append( np.sqrt( weights @ (Sigma @ weights) ) )\n",
    "Figure = plt.scatter(v_grid,mu_grid,color='lightsteelblue',s=1,zorder=0)"
   ]
  },
  {
   "cell_type": "code",
   "execution_count": 20,
   "id": "bb187aef",
   "metadata": {
    "slideshow": {
     "slide_type": "-"
    }
   },
   "outputs": [
    {
     "data": {
      "image/png": "[encoded data removed]",
      "text/plain": [
       "<Figure size 1008x504 with 1 Axes>"
      ]
     },
     "execution_count": 20,
     "metadata": {},
     "output_type": "execute_result"
    }
   ],
   "source": [
    "all_funds_figure"
   ]
  },
  {
   "cell_type": "markdown",
   "id": "6b97e8fb",
   "metadata": {
    "slideshow": {
     "slide_type": "slide"
    }
   },
   "source": [
    "## Portfolio with the highest SR, steepest CAL"
   ]
  },
  {
   "cell_type": "code",
   "execution_count": 21,
   "id": "de01df3c",
   "metadata": {
    "slideshow": {
     "slide_type": "skip"
    }
   },
   "outputs": [],
   "source": [
    "%%capture\n",
    "mu = [fund.mean() for ticker,fund in Excess_Returns.items()]\n",
    "Sigma = np.cov([fund for ticker,fund in Excess_Returns.items()])\n",
    "optimal_weights_unscaled = np.linalg.inv( Sigma ) @ mu\n",
    "optimal_weights = optimal_weights_unscaled / sum(optimal_weights_unscaled)\n",
    "\n",
    "(optimal_weights @ mu) / np.sqrt( optimal_weights @ (Sigma @ optimal_weights ) )\n",
    "\n",
    "all_funds_figure,ax = plt.subplots()\n",
    "base_figure(all_funds_figure,ax)\n",
    "\n",
    "mu_grid = [ optimal_weights @ mu ]\n",
    "v_grid = [ np.sqrt( optimal_weights @ (Sigma @ optimal_weights ) ) ]\n",
    "\n",
    "mu = [fund.mean() for ticker,fund in Excess_Returns.items()]\n",
    "Sigma = np.cov([fund for ticker,fund in Excess_Returns.items()])\n",
    "\n",
    "for i in np.linspace(-0.1,1.1,101):\n",
    "    for j in np.linspace(-0.1,1.1,101):\n",
    "        weights = np.array([i,j,1-i-j])\n",
    "        mu_grid.append(weights @ mu)\n",
    "        v_grid.append( np.sqrt( weights @ (Sigma @ weights) ) )\n",
    "plt.scatter(v_grid,mu_grid,color='lightsteelblue',s=1,zorder=0)\n",
    "plt.scatter(v_grid[0],mu_grid[0],color='red',s=15)\n",
    "plt.plot([0, v_grid[0], 1.5*v_grid[0] ] , [0, mu_grid[0], 1.5*mu_grid[0]], color='red');"
   ]
  },
  {
   "cell_type": "code",
   "execution_count": 22,
   "id": "5947860c",
   "metadata": {
    "slideshow": {
     "slide_type": "-"
    }
   },
   "outputs": [
    {
     "data": {
      "image/png": "[encoded data removed]",
      "text/plain": [
       "<Figure size 1008x504 with 1 Axes>"
      ]
     },
     "execution_count": 22,
     "metadata": {},
     "output_type": "execute_result"
    }
   ],
   "source": [
    "all_funds_figure"
   ]
  },
  {
   "cell_type": "code",
   "execution_count": 23,
   "id": "58bf3f4a",
   "metadata": {
    "slideshow": {
     "slide_type": "slide"
    }
   },
   "outputs": [
    {
     "name": "stdout",
     "output_type": "stream",
     "text": [
      "The weights in the previous figure are roughly 25.59% VFINX, 55.62% FKUTX, 18.78% FBDIX.\n"
     ]
    }
   ],
   "source": [
    "print(\"The weights in the previous figure are roughly \"\n",
    "      f\"{100*optimal_weights[0]:.2f}% VFINX, \"\n",
    "      f\"{100*optimal_weights[1]:.2f}% FKUTX, \"\n",
    "      f\"{100*optimal_weights[2]:.2f}% FBDIX.\")"
   ]
  },
  {
   "cell_type": "markdown",
   "id": "a89b9de4",
   "metadata": {
    "slideshow": {
     "slide_type": "slide"
    }
   },
   "source": [
    "### How to find the portfolio with the highest Sharpe ratio?\n",
    "\n",
    "Some possible approaches are as follows:\n",
    "\n",
    "- Manual trial-and-error: Create a large list of portfolio weights.\n",
    "Calculate each Sharpe ratio and select the highest one.\n",
    "\n",
    "- Automated: Use an optimizer to search out the best weights.\n",
    "This is logically similar to the trial-and-error approach, but obviously faster and more reliable.\n",
    "\n",
    "- Explicit formula: Calculate a set of unscaled weights equal to $\\Sigma^{-1}\\mu$. Then divide each weight by their sum, so they add up to 100%. (With just two assets, this is textbook formula 7.13.)\n",
    "\n",
    "We will see more approaches next week."
   ]
  },
  {
   "cell_type": "markdown",
   "id": "fddc2753",
   "metadata": {
    "slideshow": {
     "slide_type": "slide"
    }
   },
   "source": [
    "### Constraints on the allowable portfolio: \n",
    "\n",
    "The formula $\\Sigma^{-1}\\mu$ places no constraints on the positions you are willing to take. It assumes you are willing to engage in heavy short-selling, or very lopsided allocations across investment categories, if that is the answer that comes out of the problem. \n",
    "\n",
    "In practice you often want to impose some kind of constraint on the portfolio you are willing to accept, such as avoiding short sales, not allocating too heavily to small-cap stocks, etc.\n",
    "\n",
    "In some cases there may be a modified version of the above formula that can capture these constraints, but typically not. Instead, you will almost always resort to the \"optimization\" approach from the prior slide. \n",
    "\n",
    "Fortunately it is straightforward to add constraints into the optimization. However, we probably won't have time to show any examples of this."
   ]
  },
  {
   "cell_type": "code",
   "execution_count": 24,
   "id": "f7137bfb",
   "metadata": {
    "slideshow": {
     "slide_type": "skip"
    }
   },
   "outputs": [],
   "source": [
    "# Let's pull back up our answer from the two-investment example so we can finish that case.\n",
    "\n",
    "mu = [ Excess_Returns['FKUTX'].mean() , Excess_Returns['FBDIX'].mean() ]\n",
    "Sigma = np.cov([ Excess_Returns['FKUTX'], Excess_Returns['FBDIX'] ])\n",
    "\n",
    "optimal_weights_unscaled = np.linalg.inv(Sigma) @ mu\n",
    "optimal_weights = optimal_weights_unscaled / sum(optimal_weights_unscaled)\n",
    "\n",
    "optimal_SR = (optimal_weights @ mu) / np.sqrt( optimal_weights @ (Sigma @ optimal_weights) )"
   ]
  },
  {
   "cell_type": "markdown",
   "id": "1f8adbfb",
   "metadata": {
    "slideshow": {
     "slide_type": "slide"
    }
   },
   "source": [
    "### Finishing the two-investment example: Find the investor's optimal risky allocation\n",
    "\n",
    "We have found the risky portfolio with the highest Sharpe ratio. Now, let's complete the problem by figuring out how much the investor will allocate to that portfolio vs risk-free saving.\n",
    "\n",
    "To answer this question, we must make some kind of assumption about how the investor trades off risk and return. \n",
    "\n",
    "To put some numbers on it, imagine a specific utility function that takes a measure of risk and return and gives us a score, and then choose the portfolio with the highest score.\n",
    "\n",
    "Of course things aren't so mechanical in real life. You can imagine this standing in for a more holistic conversation with a financial advisor."
   ]
  },
  {
   "cell_type": "markdown",
   "id": "efb1eee0",
   "metadata": {
    "slideshow": {
     "slide_type": "slide"
    }
   },
   "source": [
    "### Optimal allocation to risky portfolio with mean-variance utility\n",
    "\n",
    "Specifically, suppose the investor has mean-variance utility.\n",
    "\n",
    "Remember, this means they rank portfolios according to how they score in the formula:\n",
    "$$\n",
    "µ - \\frac{1}{2} A \\sigma^2\n",
    "$$\n",
    "where A is a number that is chosen to measure their risk aversion. \n",
    "\n",
    "So we reward portfolios for having higher (arithemetic) average return, and penalize them for having more volatility. Remember this is motivated by the fact that $A=1$ would be maximizing the average (geometric) rate of return.\n",
    "\n",
    "Let's suppose that $A=8$ and finish the example we've been doing."
   ]
  },
  {
   "cell_type": "markdown",
   "id": "1bf34b59",
   "metadata": {
    "slideshow": {
     "slide_type": "slide"
    }
   },
   "source": [
    "### Finding the optimal allocation to risky portfolio\n",
    "\n",
    "Trial and error approach 1: Just list out possible portfolios and search on a grid.\n",
    "\n",
    "We make a list of possible weights $w$. Then for each weight, we will calculate the average excess return $\\mu = w \\mu_{\\text{risky}}$ and volatility $\\sigma = w \\sigma_{\\text{risky}}$ of a portfolio with weight $w$ on the risky portfolio and the rest on risk-free. Finally we calculate the utility of each portfolio based on mean-variance utility $\\mu - \\frac{1}{2}A \\sigma^2$ with $A=8$. And then we just select the portfolio with the highest score."
   ]
  },
  {
   "cell_type": "markdown",
   "id": "bb797379",
   "metadata": {
    "slideshow": {
     "slide_type": "slide"
    }
   },
   "source": [
    "First we create the weights and calculate the $\\mu$, $\\sigma$, and utility for each weight:"
   ]
  },
  {
   "cell_type": "code",
   "execution_count": 25,
   "id": "3c7e0121",
   "metadata": {
    "slideshow": {
     "slide_type": "-"
    }
   },
   "outputs": [],
   "source": [
    "weights = pd.Series( np.linspace(0,1,51) )\n",
    "mu_list = weights*(optimal_weights @ mu)\n",
    "sigma_list = weights*np.sqrt(optimal_weights @ Sigma @ optimal_weights )\n",
    "A = 8\n",
    "utilities = mu_list - 0.5*A*(sigma_list**2)"
   ]
  },
  {
   "cell_type": "markdown",
   "id": "bd195e28",
   "metadata": {
    "slideshow": {
     "slide_type": "slide"
    }
   },
   "source": [
    "Then combine them into a table, and find and print the row with highest utility:"
   ]
  },
  {
   "cell_type": "code",
   "execution_count": 26,
   "id": "afe1e976",
   "metadata": {
    "slideshow": {
     "slide_type": "-"
    }
   },
   "outputs": [
    {
     "name": "stdout",
     "output_type": "stream",
     "text": [
      "The row with the highest utility score looks as follows:\n",
      "Weight on risky         0.700000\n",
      "Weight on risk-free     0.300000\n",
      "Avg excess return       0.004951\n",
      "Vol of excess return    0.024930\n",
      "Utility                 0.002465\n",
      "Name: 35, dtype: float64\n"
     ]
    }
   ],
   "source": [
    "portfolios = pd.concat(\n",
    "    [weights,1-weights,mu_list,sigma_list,utilities],axis=1\n",
    ")\n",
    "portfolios.columns = [\"Weight on risky\",\n",
    "                      \"Weight on risk-free\",\n",
    "                      \"Avg excess return\",\n",
    "                      \"Vol of excess return\",\n",
    "                      \"Utility\"]\n",
    "print(\"The row with the highest utility score looks as follows:\")\n",
    "print( portfolios.loc[ portfolios['Utility'].idxmax() ] )"
   ]
  },
  {
   "cell_type": "markdown",
   "id": "a1d95929",
   "metadata": {
    "slideshow": {
     "slide_type": "slide"
    }
   },
   "source": [
    "Here are the surrounding rows in the table. \n",
    "\n",
    "The code just above told us that the max utility is in row 35."
   ]
  },
  {
   "cell_type": "code",
   "execution_count": 27,
   "id": "72a5997a",
   "metadata": {
    "slideshow": {
     "slide_type": "-"
    }
   },
   "outputs": [
    {
     "data": {
      "text/html": [
       "<div>\n",
       "<style scoped>\n",
       "    .dataframe tbody tr th:only-of-type {\n",
       "        vertical-align: middle;\n",
       "    }\n",
       "\n",
       "    .dataframe tbody tr th {\n",
       "        vertical-align: top;\n",
       "    }\n",
       "\n",
       "    .dataframe thead th {\n",
       "        text-align: right;\n",
       "    }\n",
       "</style>\n",
       "<table border=\"1\" class=\"dataframe\">\n",
       "  <thead>\n",
       "    <tr style=\"text-align: right;\">\n",
       "      <th></th>\n",
       "      <th>Weight on risky</th>\n",
       "      <th>Weight on risk-free</th>\n",
       "      <th>Avg excess return</th>\n",
       "      <th>Vol of excess return</th>\n",
       "      <th>Utility</th>\n",
       "    </tr>\n",
       "  </thead>\n",
       "  <tbody>\n",
       "    <tr>\n",
       "      <th>30</th>\n",
       "      <td>0.60</td>\n",
       "      <td>0.40</td>\n",
       "      <td>0.004244</td>\n",
       "      <td>0.021369</td>\n",
       "      <td>0.002417</td>\n",
       "    </tr>\n",
       "    <tr>\n",
       "      <th>31</th>\n",
       "      <td>0.62</td>\n",
       "      <td>0.38</td>\n",
       "      <td>0.004385</td>\n",
       "      <td>0.022081</td>\n",
       "      <td>0.002435</td>\n",
       "    </tr>\n",
       "    <tr>\n",
       "      <th>32</th>\n",
       "      <td>0.64</td>\n",
       "      <td>0.36</td>\n",
       "      <td>0.004527</td>\n",
       "      <td>0.022793</td>\n",
       "      <td>0.002449</td>\n",
       "    </tr>\n",
       "    <tr>\n",
       "      <th>33</th>\n",
       "      <td>0.66</td>\n",
       "      <td>0.34</td>\n",
       "      <td>0.004668</td>\n",
       "      <td>0.023505</td>\n",
       "      <td>0.002458</td>\n",
       "    </tr>\n",
       "    <tr>\n",
       "      <th>34</th>\n",
       "      <td>0.68</td>\n",
       "      <td>0.32</td>\n",
       "      <td>0.004810</td>\n",
       "      <td>0.024218</td>\n",
       "      <td>0.002464</td>\n",
       "    </tr>\n",
       "    <tr>\n",
       "      <th>35</th>\n",
       "      <td>0.70</td>\n",
       "      <td>0.30</td>\n",
       "      <td>0.004951</td>\n",
       "      <td>0.024930</td>\n",
       "      <td>0.002465</td>\n",
       "    </tr>\n",
       "    <tr>\n",
       "      <th>36</th>\n",
       "      <td>0.72</td>\n",
       "      <td>0.28</td>\n",
       "      <td>0.005092</td>\n",
       "      <td>0.025642</td>\n",
       "      <td>0.002462</td>\n",
       "    </tr>\n",
       "    <tr>\n",
       "      <th>37</th>\n",
       "      <td>0.74</td>\n",
       "      <td>0.26</td>\n",
       "      <td>0.005234</td>\n",
       "      <td>0.026355</td>\n",
       "      <td>0.002456</td>\n",
       "    </tr>\n",
       "    <tr>\n",
       "      <th>38</th>\n",
       "      <td>0.76</td>\n",
       "      <td>0.24</td>\n",
       "      <td>0.005375</td>\n",
       "      <td>0.027067</td>\n",
       "      <td>0.002445</td>\n",
       "    </tr>\n",
       "    <tr>\n",
       "      <th>39</th>\n",
       "      <td>0.78</td>\n",
       "      <td>0.22</td>\n",
       "      <td>0.005517</td>\n",
       "      <td>0.027779</td>\n",
       "      <td>0.002430</td>\n",
       "    </tr>\n",
       "  </tbody>\n",
       "</table>\n",
       "</div>"
      ],
      "text/plain": [
       "    Weight on risky  Weight on risk-free  Avg excess return  \\\n",
       "30             0.60                 0.40           0.004244   \n",
       "31             0.62                 0.38           0.004385   \n",
       "32             0.64                 0.36           0.004527   \n",
       "33             0.66                 0.34           0.004668   \n",
       "34             0.68                 0.32           0.004810   \n",
       "35             0.70                 0.30           0.004951   \n",
       "36             0.72                 0.28           0.005092   \n",
       "37             0.74                 0.26           0.005234   \n",
       "38             0.76                 0.24           0.005375   \n",
       "39             0.78                 0.22           0.005517   \n",
       "\n",
       "    Vol of excess return   Utility  \n",
       "30              0.021369  0.002417  \n",
       "31              0.022081  0.002435  \n",
       "32              0.022793  0.002449  \n",
       "33              0.023505  0.002458  \n",
       "34              0.024218  0.002464  \n",
       "35              0.024930  0.002465  \n",
       "36              0.025642  0.002462  \n",
       "37              0.026355  0.002456  \n",
       "38              0.027067  0.002445  \n",
       "39              0.027779  0.002430  "
      ]
     },
     "execution_count": 27,
     "metadata": {},
     "output_type": "execute_result"
    }
   ],
   "source": [
    "portfolios[30:40]"
   ]
  },
  {
   "cell_type": "markdown",
   "id": "84d4bb6e",
   "metadata": {
    "slideshow": {
     "slide_type": "slide"
    }
   },
   "source": [
    "### Shortcut: Formula for the optimal allocation the risky portfolio\n",
    "\n",
    "There is a formula to shortcut the above process and give us the exact answer.\n",
    "\n",
    "When the investor has mean-variance utility, the ideal percent of their wealth to allocate to the risky portfolio is given by:\n",
    "$$\n",
    "\\frac{ \\mathbb{E}[r_p] - r_f }{ A \\sigma_p^2 }\n",
    "$$\n",
    "(textbook formula 7.14.)\n",
    "\n",
    "The remaining percentage would be allocated to the risk-free investment.\n",
    "\n",
    "(To derive this formula, just take the derivative of $(w \\mu) - \\frac{1}{2} A (w \\sigma)^2$ with respect to $w$ and set it equal to zero.)"
   ]
  },
  {
   "cell_type": "markdown",
   "id": "7f459e34",
   "metadata": {
    "slideshow": {
     "slide_type": "slide"
    }
   },
   "source": [
    "Applying the formula just above to our problem:"
   ]
  },
  {
   "cell_type": "code",
   "execution_count": 28,
   "id": "6cfd0c0c",
   "metadata": {
    "slideshow": {
     "slide_type": "-"
    }
   },
   "outputs": [
    {
     "name": "stdout",
     "output_type": "stream",
     "text": [
      "Optimal percentage allocated to risky: 69.70%\n"
     ]
    }
   ],
   "source": [
    "A=8\n",
    "optimal_allocation = (\n",
    "    (optimal_weights @ mu) \n",
    "    / \n",
    "    (A * (optimal_weights @ Sigma @ optimal_weights))\n",
    ")\n",
    "print(f\"Optimal percentage allocated to risky: {100*optimal_allocation :.2f}%\")"
   ]
  },
  {
   "cell_type": "markdown",
   "id": "e81905b9",
   "metadata": {
    "slideshow": {
     "slide_type": "slide"
    }
   },
   "source": [
    "## Summary: Portfolio optimization procedure\n",
    "\n",
    "To summarize, we find the investor’s optimal portfolio in two steps:\n",
    "\n",
    "- First, find the portfolio of risky investments with the highest Sharpe ratio.\n",
    "    - Visually, this means finding and draw the steepest possible CAL.\n",
    "    - <u>This step is the same for all investors.</u>\n",
    "- Second, allocate between this portfolio and the risk-free return.\n",
    "    - Visually, this means finding the preferred location on the CAL.\n",
    "    - This step depends on the individual investor (specifically, on their risk aversion, which is measured with the number A in a mean-variance utility function).\n",
    "\n",
    "The entire process is known as *portfolio optimization.*"
   ]
  },
  {
   "cell_type": "markdown",
   "id": "1d10d61a",
   "metadata": {
    "slideshow": {
     "slide_type": "slide"
    }
   },
   "source": [
    "## Separation property\n",
    "\n",
    "The prior slide suggests we could satisfy every investor’s goals,\n",
    "regardless of their risk attitudes, with just two large mutual funds:\n",
    "\n",
    "- a money-market fund offering a risk-free rate of return,\n",
    "- a risky fund with the highest possible Sharpe ratio.\n",
    "\n",
    "Each investor would choose their preferred location on the CAL,\n",
    "by allocating different shares of their wealth to the risky fund.\n",
    "\n",
    "This is called the *separation property* of portfolio optimization,\n",
    "and is sometimes also called the *two-fund separation theorem.*"
   ]
  }
 ],
 "metadata": {
  "celltoolbar": "Slideshow",
  "kernelspec": {
   "display_name": "Python 3 (ipykernel)",
   "language": "python",
   "name": "python3"
  },
  "language_info": {
   "codemirror_mode": {
    "name": "ipython",
    "version": 3
   },
   "file_extension": ".py",
   "mimetype": "text/x-python",
   "name": "python",
   "nbconvert_exporter": "python",
   "pygments_lexer": "ipython3",
   "version": "3.10.12"
  }
 },
 "nbformat": 4,
 "nbformat_minor": 5
}
