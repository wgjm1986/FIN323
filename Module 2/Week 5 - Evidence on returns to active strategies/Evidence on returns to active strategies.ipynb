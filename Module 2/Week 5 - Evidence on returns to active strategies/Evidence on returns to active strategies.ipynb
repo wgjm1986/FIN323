{
 "cells": [
  {
   "cell_type": "markdown",
   "id": "83be360c",
   "metadata": {
    "slideshow": {
     "slide_type": "slide"
    }
   },
   "source": [
    "<center> <h1>Evidence on returns to active strategies</h1> </center>"
   ]
  },
  {
   "cell_type": "markdown",
   "id": "c7765e18",
   "metadata": {
    "slideshow": {
     "slide_type": "-"
    }
   },
   "source": [
    "<center>William Mann</center>"
   ]
  },
  {
   "cell_type": "markdown",
   "id": "e470a873",
   "metadata": {
    "slideshow": {
     "slide_type": "-"
    }
   },
   "source": [
    "<center>\n",
    "<img src=\"https://wgjm1986.github.io/Investments/Emory_small.png\" height=\"200px\" width=\"300px\" />\n",
    "</center>                                                                                            "
   ]
  },
  {
   "cell_type": "markdown",
   "id": "8bca155b",
   "metadata": {
    "slideshow": {
     "slide_type": "slide"
    }
   },
   "source": [
    "## Backtesting an investment strategy\n",
    "\n",
    "Suppose you are considering whether to pursue an active strategy. (Remember, this means any strategy other than \"value-weight all available investments,\" which can also be called \"holding the market portfolio\".)\n",
    "\n",
    "\"Backtesting\" means checking how well you would have done in the past by following that strategy. A natural idea is to compare this past performance with the performance of a passive strategy .\n",
    "\n",
    "Of course, you really want to know how the strategy will do in the *future*, not the past. There is not necessarily any connection between the two. Nevertheless, most people will ask for some kind of historical evidence that a strategy works before investing in it.\n",
    "\n",
    "Backtesting can be a surprisingly tricky thing to do correctly. We will lay out a few concepts today, and build on them as the semester progresses."
   ]
  },
  {
   "cell_type": "markdown",
   "id": "672f424c",
   "metadata": {
    "slideshow": {
     "slide_type": "slide"
    }
   },
   "source": [
    "## Backtesting concept: Build large portfolios\n",
    "\n",
    "Most investment ideas can be summarized in terms of some feature or characteristic that makes a stock attractive.\n",
    "To backtest such an idea, you would like to abstract away from individual stocks or companies, and think more about the characteristic itself.\n",
    "\n",
    "This means we will typically form large, diversified portfolios of stocks that score well on a given characteristics, and large portfolios of stocks that do not score so well.\n",
    "\n",
    "We will track the performance of the \"good\" and \"bad\" portfolios over many historical years in order to get an idea of how they perform on average relative to each other."
   ]
  },
  {
   "cell_type": "markdown",
   "id": "2515c1bc",
   "metadata": {
    "slideshow": {
     "slide_type": "slide"
    }
   },
   "source": [
    "## Backtesting concept: Prevent lookahead bias\n",
    "\n",
    "A basic question about the stock market is: Do small-cap stocks or large-cap stocks have higher returns on average?\n",
    "\n",
    "Suppose you look up the 500 smallest-cap and largest-cap stocks, as of December 2023, and compare their average returns over the prior 5 years. \n",
    "- What will you find?\n",
    "- What is the problem with this analysis?"
   ]
  },
  {
   "cell_type": "code",
   "execution_count": 273,
   "id": "a5798885",
   "metadata": {
    "slideshow": {
     "slide_type": "skip"
    }
   },
   "outputs": [
    {
     "name": "stdout",
     "output_type": "stream",
     "text": [
      "Loading library list...\n",
      "Done\n"
     ]
    }
   ],
   "source": [
    "import wrds\n",
    "import pandas as pd\n",
    "from matplotlib import pyplot as plt\n",
    "\n",
    "conn = wrds.Connection(wrds_username='wmann')\n",
    "monthly_stocks = conn.raw_sql(\"\"\"\n",
    "SELECT \n",
    "    m.permno,\n",
    "    m.date, \n",
    "    n.ticker, \n",
    "    m.prc,\n",
    "    m.ret,\n",
    "    m.shrout\n",
    "FROM \n",
    "    crsp.msf AS m\n",
    "JOIN \n",
    "    crsp.msenames AS n\n",
    "ON \n",
    "    m.permno = n.permno\n",
    "AND \n",
    "    m.date BETWEEN n.namedt AND n.nameendt\n",
    "WHERE \n",
    "    m.date BETWEEN '1930-01-01' AND '2023-12-31'\n",
    "AND\n",
    "    n.shrcd in (10,11)\n",
    "ORDER BY \n",
    "    m.date, n.ticker;\n",
    "    \"\"\", date_cols=['date'])\n",
    "conn.close()\n",
    "\n",
    "monthly_stocks = monthly_stocks.dropna(subset=['ret', 'prc'])\n",
    "monthly_stocks['prc'] = monthly_stocks['prc'].abs()\n",
    "\n",
    "monthly_stocks['mkt_cap'] = monthly_stocks['prc'] * monthly_stocks['shrout']\n",
    "\n",
    "monthly_stocks['date'] = pd.to_datetime(monthly_stocks['date'])\n",
    "monthly_stocks['year'] = monthly_stocks['date'].dt.year\n",
    "monthly_stocks['month'] = monthly_stocks['date'].dt.month"
   ]
  },
  {
   "cell_type": "markdown",
   "id": "c14b8a8c",
   "metadata": {
    "slideshow": {
     "slide_type": "slide"
    }
   },
   "source": [
    "### Biggest 10 stocks by market cap, Dec 2023"
   ]
  },
  {
   "cell_type": "code",
   "execution_count": 286,
   "id": "e1ec4dda",
   "metadata": {
    "slideshow": {
     "slide_type": "-"
    }
   },
   "outputs": [
    {
     "data": {
      "text/html": [
       "<div>\n",
       "<style scoped>\n",
       "    .dataframe tbody tr th:only-of-type {\n",
       "        vertical-align: middle;\n",
       "    }\n",
       "\n",
       "    .dataframe tbody tr th {\n",
       "        vertical-align: top;\n",
       "    }\n",
       "\n",
       "    .dataframe thead th {\n",
       "        text-align: right;\n",
       "    }\n",
       "</style>\n",
       "<table border=\"1\" class=\"dataframe\">\n",
       "  <thead>\n",
       "    <tr style=\"text-align: right;\">\n",
       "      <th></th>\n",
       "      <th>ticker</th>\n",
       "      <th>mkt_cap</th>\n",
       "    </tr>\n",
       "  </thead>\n",
       "  <tbody>\n",
       "    <tr>\n",
       "      <th>288805</th>\n",
       "      <td>AAPL</td>\n",
       "      <td>2.994371e+09</td>\n",
       "    </tr>\n",
       "    <tr>\n",
       "      <th>291206</th>\n",
       "      <td>MSFT</td>\n",
       "      <td>2.794828e+09</td>\n",
       "    </tr>\n",
       "    <tr>\n",
       "      <th>289022</th>\n",
       "      <td>AMZN</td>\n",
       "      <td>1.570153e+09</td>\n",
       "    </tr>\n",
       "    <tr>\n",
       "      <th>291387</th>\n",
       "      <td>NVDA</td>\n",
       "      <td>1.223193e+09</td>\n",
       "    </tr>\n",
       "    <tr>\n",
       "      <th>290386</th>\n",
       "      <td>GOOGL</td>\n",
       "      <td>8.266854e+08</td>\n",
       "    </tr>\n",
       "    <tr>\n",
       "      <th>290385</th>\n",
       "      <td>GOOG</td>\n",
       "      <td>8.068242e+08</td>\n",
       "    </tr>\n",
       "    <tr>\n",
       "      <th>292427</th>\n",
       "      <td>TSLA</td>\n",
       "      <td>7.898983e+08</td>\n",
       "    </tr>\n",
       "    <tr>\n",
       "      <th>291091</th>\n",
       "      <td>META</td>\n",
       "      <td>7.856521e+08</td>\n",
       "    </tr>\n",
       "    <tr>\n",
       "      <th>290931</th>\n",
       "      <td>LLY</td>\n",
       "      <td>5.533700e+08</td>\n",
       "    </tr>\n",
       "    <tr>\n",
       "      <th>290763</th>\n",
       "      <td>JPM</td>\n",
       "      <td>4.917605e+08</td>\n",
       "    </tr>\n",
       "  </tbody>\n",
       "</table>\n",
       "</div>"
      ],
      "text/plain": [
       "       ticker       mkt_cap\n",
       "288805   AAPL  2.994371e+09\n",
       "291206   MSFT  2.794828e+09\n",
       "289022   AMZN  1.570153e+09\n",
       "291387   NVDA  1.223193e+09\n",
       "290386  GOOGL  8.266854e+08\n",
       "290385   GOOG  8.068242e+08\n",
       "292427   TSLA  7.898983e+08\n",
       "291091   META  7.856521e+08\n",
       "290931    LLY  5.533700e+08\n",
       "290763    JPM  4.917605e+08"
      ]
     },
     "execution_count": 286,
     "metadata": {},
     "output_type": "execute_result"
    }
   ],
   "source": [
    "monthly_stocks[(monthly_stocks['year']==2023) & (monthly_stocks['month']==12)].drop_duplicates('ticker',keep='first').nlargest(10,'mkt_cap')[['ticker','mkt_cap']]"
   ]
  },
  {
   "cell_type": "code",
   "execution_count": null,
   "id": "37ccd538",
   "metadata": {
    "slideshow": {
     "slide_type": "skip"
    }
   },
   "outputs": [],
   "source": [
    "return_2023 = monthly_stocks[monthly_stocks['year'] >= 2019].groupby('permno')['ret'].mean().rename('ret_2023')"
   ]
  },
  {
   "cell_type": "code",
   "execution_count": null,
   "id": "2eb074a2",
   "metadata": {
    "slideshow": {
     "slide_type": "skip"
    }
   },
   "outputs": [],
   "source": [
    "Dec_2023_MC_returns = monthly_stocks[(monthly_stocks['year'] == 2023) & (monthly_stocks['month'] == 12)][['permno','ticker','mkt_cap']].set_index('permno').merge(\n",
    "    return_2023,left_index=True,right_index=True)"
   ]
  },
  {
   "cell_type": "markdown",
   "id": "0d5c93b3",
   "metadata": {
    "slideshow": {
     "slide_type": "slide"
    }
   },
   "source": [
    "Average monthly returns from 2019-2023, of the smallest and largest 500 stocks by market cap as of December 2023:"
   ]
  },
  {
   "cell_type": "code",
   "execution_count": 295,
   "id": "ec555a45",
   "metadata": {
    "slideshow": {
     "slide_type": "-"
    }
   },
   "outputs": [
    {
     "name": "stdout",
     "output_type": "stream",
     "text": [
      "Largest 500: 1.76%\n",
      "Smallest 500: -4.01%\n"
     ]
    }
   ],
   "source": [
    "large_cap_avg_return = Dec_2023_MC_returns.nlargest(500,'mkt_cap')['ret_2023'].mean()\n",
    "print(f\"Largest 500: {100*large_cap_avg_return :.2f}%\")\n",
    "small_cap_avg_return = Dec_2023_MC_returns.nsmallest(500,'mkt_cap')['ret_2023'].mean()\n",
    "print(f\"Smallest 500: {100*small_cap_avg_return :.2f}%\")"
   ]
  },
  {
   "cell_type": "markdown",
   "id": "ed311476",
   "metadata": {
    "slideshow": {
     "slide_type": "slide"
    }
   },
   "source": [
    "Average returns from 2019-2023, of the smallest and largest 500 stocks by market cap as of **December 2018**:"
   ]
  },
  {
   "cell_type": "code",
   "execution_count": null,
   "id": "3c5a403c",
   "metadata": {
    "slideshow": {
     "slide_type": "skip"
    }
   },
   "outputs": [],
   "source": [
    "Dec_2018_MC_returns = monthly_stocks[(monthly_stocks['year'] == 2018) & (monthly_stocks['month'] == 12)][['permno','ticker','mkt_cap']].set_index('permno').merge(\n",
    "    return_2023,left_index=True,right_index=True)"
   ]
  },
  {
   "cell_type": "code",
   "execution_count": 296,
   "id": "dac7da2d",
   "metadata": {
    "slideshow": {
     "slide_type": "-"
    }
   },
   "outputs": [
    {
     "name": "stdout",
     "output_type": "stream",
     "text": [
      "Largest 500: 1.53%\n",
      "Smallest 500: 1.96%\n"
     ]
    }
   ],
   "source": [
    "large_cap_avg_return = Dec_2018_MC_returns.nlargest(500,'mkt_cap')['ret_2023'].mean()\n",
    "print(f\"Largest 500: {100*large_cap_avg_return :.2f}%\")\n",
    "small_cap_avg_return = Dec_2018_MC_returns.nsmallest(500,'mkt_cap')['ret_2023'].mean()\n",
    "print(f\"Smallest 500: {100*small_cap_avg_return :.2f}%\")"
   ]
  },
  {
   "cell_type": "markdown",
   "id": "04e15ff1",
   "metadata": {
    "slideshow": {
     "slide_type": "-"
    }
   },
   "source": [
    "- Large-cap stocks *as of December 2023* had higher returns during 2019-2023.\n",
    "- Large-cap stocks *as of December 2018* had lower returns  2019-2023.\n",
    "- Does it make sense why the conclusion reverses? \n",
    "- Which approach is a more correct backtest?"
   ]
  },
  {
   "cell_type": "markdown",
   "id": "e94f3aa3",
   "metadata": {
    "slideshow": {
     "slide_type": "slide"
    }
   },
   "source": [
    "## Let's extend this analysis:\n",
    "\n",
    "Suppose we go back every year to 1931:\n",
    "- Each year we sort stocks into 10 deciles by market cap as of that year.\n",
    "- We get the average return of stocks in each decile in that year. \n",
    "- Repeat for each year.\n",
    "- We now have almost 100 years of data on returns to ten different \"strategies\" (deciles) that position us more or less aggressively towards large-cap or small-cap stocks.\n",
    "- Take the average of the return on each decile from 1931 to the present, and compare these averages to inform us about how small-cap stocks perform compard to large-cap stocks."
   ]
  },
  {
   "cell_type": "markdown",
   "id": "e67643dc",
   "metadata": {
    "slideshow": {
     "slide_type": "slide"
    }
   },
   "source": [
    "## Continuing to illustrate lookahead bias:\n",
    "\n",
    "To remind us of the example we just did, we will compare two approaches:\n",
    "- In year t, sort stocks into deciles by their market cap **at the end of year t**, and calculate the average return of each decile during year t.\n",
    "- In year t, sort stocks into deciles by their market cap **at the end of year t-1**, and calculate the average return of each decile during year t.  \n",
    "\n",
    "What do we expect to see? Which approach is a more convincing backtest of the strategy?"
   ]
  },
  {
   "cell_type": "code",
   "execution_count": 290,
   "id": "65e201d9",
   "metadata": {
    "slideshow": {
     "slide_type": "skip"
    }
   },
   "outputs": [],
   "source": [
    "%%capture\n",
    "\n",
    "q = 10\n",
    "\n",
    "returns = []\n",
    "for year in range(1931,2023):\n",
    "    returns_t = monthly_stocks[monthly_stocks['year'] == year].groupby('permno')['ret'].mean().rename('ret_year')\n",
    "    mc_Dec = monthly_stocks[(monthly_stocks['year']==year) & (monthly_stocks['month']==12)][['permno','mkt_cap']]\n",
    "    mc_Dec['decile']=pd.qcut(mc_Dec['mkt_cap'],q,labels=False,duplicates='drop')\n",
    "    mc_Dec_returns = mc_Dec.set_index('permno').merge(returns_t,left_index=True,right_index=True)\n",
    "    decile_returns = mc_Dec_returns.groupby('decile')['ret_year'].mean()\n",
    "    returns.append(decile_returns)\n",
    "\n",
    "decile_return_averages = [ pd.Series([decile_returns[decile] for decile_returns in returns ]).mean() for decile in range(0,q) ]\n",
    "\n",
    "lookahead_fig,ax = plt.subplots()\n",
    "ax.bar(range(1,q+1),decile_return_averages)\n",
    "ax.set_xticks(range(1,q+1))\n",
    "ax.set_xlabel(r\"Decile of market cap, \\textbf{this} December\",usetex=True)\n",
    "ax.set_ylabel(\"Average return of stocks in this decile, \\n 1931-2023\");"
   ]
  },
  {
   "cell_type": "markdown",
   "id": "cea94387",
   "metadata": {
    "slideshow": {
     "slide_type": "slide"
    }
   },
   "source": [
    "## Results from approach 1:"
   ]
  },
  {
   "cell_type": "code",
   "execution_count": 293,
   "id": "b860fe63",
   "metadata": {
    "slideshow": {
     "slide_type": "-"
    }
   },
   "outputs": [
    {
     "data": {
      "image/png": "[encoded data removed]",
      "text/plain": [
       "<Figure size 432x288 with 1 Axes>"
      ]
     },
     "execution_count": 293,
     "metadata": {},
     "output_type": "execute_result"
    }
   ],
   "source": [
    "lookahead_fig"
   ]
  },
  {
   "cell_type": "markdown",
   "id": "260a9791",
   "metadata": {
    "slideshow": {
     "slide_type": "-"
    }
   },
   "source": [
    "When we sort stocks by market capitalization from the end of the *current* year, we find that large-cap stocks exhibited higher returns during the year."
   ]
  },
  {
   "cell_type": "code",
   "execution_count": 292,
   "id": "51386277",
   "metadata": {
    "slideshow": {
     "slide_type": "skip"
    }
   },
   "outputs": [],
   "source": [
    "%%capture\n",
    "\n",
    "q = 10\n",
    "\n",
    "returns = []\n",
    "for year in range(1931,2023):\n",
    "    returns_t = monthly_stocks[monthly_stocks['year'] == year].groupby('permno')['ret'].mean().rename('ret_year')\n",
    "    mc_Dec = monthly_stocks[(monthly_stocks['year']==year-1) & (monthly_stocks['month']==12)][['permno','mkt_cap']]\n",
    "    mc_Dec['decile']=pd.qcut(mc_Dec['mkt_cap'],q,labels=False,duplicates='drop')\n",
    "    mc_Dec_returns = mc_Dec.set_index('permno').merge(returns_t,left_index=True,right_index=True)\n",
    "    decile_returns = mc_Dec_returns.groupby('decile')['ret_year'].mean()\n",
    "    returns.append(decile_returns)\n",
    "\n",
    "decile_return_averages = [ pd.Series([decile_returns[decile] for decile_returns in returns ]).mean() for decile in range(0,q) ]\n",
    "\n",
    "correct_figure,ax = plt.subplots()\n",
    "ax.bar(range(1,q+1),decile_return_averages)\n",
    "ax.set_xticks(range(1,q+1))\n",
    "ax.set_xlabel(r\"Decile of market cap, \\textbf{previous} December\",usetex=True)\n",
    "ax.set_ylabel(\"Average return of stocks in this decile, \\n 1931-2020\");"
   ]
  },
  {
   "cell_type": "markdown",
   "id": "9afe732f",
   "metadata": {
    "slideshow": {
     "slide_type": "slide"
    }
   },
   "source": [
    "## Results from approach 2:"
   ]
  },
  {
   "cell_type": "code",
   "execution_count": 294,
   "id": "9922600b",
   "metadata": {
    "slideshow": {
     "slide_type": "-"
    }
   },
   "outputs": [
    {
     "data": {
      "image/png": "[encoded data removed]",
      "text/plain": [
       "<Figure size 432x288 with 1 Axes>"
      ]
     },
     "execution_count": 294,
     "metadata": {},
     "output_type": "execute_result"
    }
   ],
   "source": [
    "correct_figure"
   ]
  },
  {
   "cell_type": "markdown",
   "id": "253b846e",
   "metadata": {
    "slideshow": {
     "slide_type": "-"
    }
   },
   "source": [
    "When we sort stocks by market capitalization at the end of the *prior* year, we find that it was *small-cap* stocks that exhibited higher returns.  \n",
    "\n",
    "Why does this make sense? Why is this the correct approach?"
   ]
  },
  {
   "cell_type": "markdown",
   "id": "ff3aa464",
   "metadata": {
    "slideshow": {
     "slide_type": "slide"
    }
   },
   "source": [
    "### Backtesting concept: Value-weighted portfolios\n",
    "\n",
    "If you look at the code up to this point, we're just taking simple averages of all stocks.\n",
    "\n",
    "As we've seen, this corresponds with an equal-weighted strategy, which is actually quite active.\n",
    "\n",
    "That adds a theme to our investment proposal that we don't really want.\n",
    "For this reason it's slightly better to use value-weighted portfolios.\n",
    "\n",
    "This is not universally done in practice, but is standard in academia, and we will mostly take this approach."
   ]
  },
  {
   "cell_type": "markdown",
   "id": "df9a80da",
   "metadata": {
    "slideshow": {
     "slide_type": "slide"
    }
   },
   "source": [
    "## Investment styles: Size, value, and momentum\n",
    "\n",
    "A “style” is a simple characteristic of an investment,\n",
    "that is used to form broad portfolios to (hopefully) beat the market.\n",
    "\n",
    "In the stock market, the best-known styles are:\n",
    "- Size: Another name for market capitalization.\n",
    "- Value: A valuation ratio involving the stock price.\n",
    "- Momentum: The stock’s return over recent months.\n",
    "\n",
    "Today we will look at average returns based on these styles,\n",
    "using evidence from the US stock market from 1926 to the present.\n",
    "\n",
    "(Later in the course we will use “factor” as another name for “style”.)"
   ]
  },
  {
   "cell_type": "markdown",
   "id": "83c75c18",
   "metadata": {
    "slideshow": {
     "slide_type": "slide"
    }
   },
   "source": [
    "## Backtesting a style-based investment strategy\n",
    "\n",
    "1. Give a precise definition of the style you are studying. Examples:\n",
    "    - **Size:** The market capitalization of the stock’s issuer.\n",
    "    - **Value:** The issuer’s book-to-market ratio.\n",
    "    - **Momentum:** The price increase from month t − 13 to t − 1.  \n",
    "\n",
    "(Definitions vary in practice, but we will focus on those listed above.)\n",
    "\n",
    "2. Backtest the performance of portfolios sorted on this basis:  \n",
    "- At the start of each past year in your data, sort stocks into different portfolios based on the characteristic you are studying.\n",
    "- Calculate each portfolio’s value-weighted return for that year.\n",
    "- Repeat for each year in the data.\n",
    "\n",
    "3. Compare each portfolio’s returns with the market.\n",
    "\n",
    "At this point we will download standard data instead of trying to do it ourself!"
   ]
  },
  {
   "cell_type": "code",
   "execution_count": 1,
   "id": "e7f54570",
   "metadata": {
    "slideshow": {
     "slide_type": "skip"
    }
   },
   "outputs": [],
   "source": [
    "import pandas as pd\n",
    "pd.options.mode.chained_assignment = None  # default='warn'\n",
    "\n",
    "import wrds\n",
    "import math\n",
    "import numpy\n",
    "import statsmodels.formula.api\n",
    "import wget, shutil\n",
    "import os\n",
    "\n",
    "from matplotlib import pyplot as plt\n",
    "plt.rcParams['figure.figsize'] = [16.0, 8.0]"
   ]
  },
  {
   "cell_type": "markdown",
   "id": "018e9d3a",
   "metadata": {
    "slideshow": {
     "slide_type": "slide"
    }
   },
   "source": [
    "### Average returns across portfolios formed on market cap\n",
    "\n",
    "Compare textbook figure 11.4. The years are 1926-2021."
   ]
  },
  {
   "cell_type": "code",
   "execution_count": 2,
   "id": "5e9c5fb6",
   "metadata": {
    "slideshow": {
     "slide_type": "skip"
    }
   },
   "outputs": [],
   "source": [
    "%%capture\n",
    "\n",
    "# Download Ken French's historical data on 10 portfolios formed on market capitalization (\"size\")\n",
    "try: os.remove('Portfolios_Formed_on_ME_CSV.zip')\n",
    "except OSError: pass\n",
    "try: os.remove('Portfolios_Formed_on_ME.CSV')\n",
    "except OSError: pass\n",
    "wget.download('https://mba.tuck.dartmouth.edu/pages/faculty/ken.french/ftp/Portfolios_Formed_on_ME_CSV.zip','Portfolios_Formed_on_ME_CSV.zip')\n",
    "shutil.unpack_archive('Portfolios_Formed_on_ME_CSV.zip')\n",
    "\n",
    "# Read the data from the CSV file\n",
    "size_portfolios = pd.read_csv('Portfolios_Formed_on_ME.CSV',skiprows=2372,nrows=97)\n",
    "size_portfolios.columns = ['year','negative','l030','med40','hi30','q1','q2','q3','q4','q5','d1','d2','d3','d4','d5','d6','d7','d8','d9','d10']\n",
    "size_portfolios = size_portfolios[['year','d1','d2','d3','d4','d5','d6','d7','d8','d9','d10']].set_index('year')\n",
    "size_portfolios = size_portfolios/100"
   ]
  },
  {
   "cell_type": "code",
   "execution_count": 3,
   "id": "bf978c68",
   "metadata": {
    "slideshow": {
     "slide_type": "skip"
    }
   },
   "outputs": [
    {
     "data": {
      "image/png": "[encoded data removed]",
      "text/plain": [
       "<Figure size 1152x576 with 1 Axes>"
      ]
     },
     "metadata": {
      "needs_background": "light"
     },
     "output_type": "display_data"
    }
   ],
   "source": [
    "# Build the textbook's figure 11.4. (End in 2021 for consistency with that figure.)\n",
    "size_portfolios = size_portfolios.loc['1926':'2021']\n",
    "size_portfolios_figure = plt.figure();\n",
    "means = [100*size_portfolios['d'+str(n)].mean() for n in range(1,11)];\n",
    "plt.bar(range(1,11),means);\n",
    "plt.xticks(range(1,11),range(1,11));\n",
    "plt.yticks([2*i for i in range(0,11)]);\n",
    "for i in range(1,11):\n",
    "    plt.text(i-0.33,means[i-1]+0.5,\"%3.1f\" % means[i-1]);\n",
    "plt.xlabel(\"Market cap decile (1=small,10=large)\");\n",
    "plt.ylabel(\"Arithmetic average \\n annual return (%)\");"
   ]
  },
  {
   "cell_type": "code",
   "execution_count": 4,
   "id": "f322915c",
   "metadata": {
    "slideshow": {
     "slide_type": "-"
    }
   },
   "outputs": [
    {
     "data": {
      "image/png": "[encoded data removed]",
      "text/plain": [
       "<Figure size 1152x576 with 1 Axes>"
      ]
     },
     "execution_count": 4,
     "metadata": {},
     "output_type": "execute_result"
    }
   ],
   "source": [
    "size_portfolios_figure"
   ]
  },
  {
   "cell_type": "markdown",
   "id": "855d9f7d",
   "metadata": {
    "slideshow": {
     "slide_type": "slide"
    }
   },
   "source": [
    "### Average returns across portfolios formed on book-to-market\n",
    "\n",
    "Compare textbook figure 11.5. The years are 1926-2021."
   ]
  },
  {
   "cell_type": "code",
   "execution_count": 5,
   "id": "e4110d86",
   "metadata": {
    "slideshow": {
     "slide_type": "skip"
    }
   },
   "outputs": [],
   "source": [
    "%%capture\n",
    "\n",
    "# Download Ken French's historical data on 10 portfolios formed on book-to-market ratio (\"value\")\n",
    "try: os.remove('Portfolios_Formed_on_BE-ME_CSV.zip')\n",
    "except OSError: pass\n",
    "try: os.remove('Portfolios_Formed_on_BE-ME.CSV')\n",
    "except OSError: pass\n",
    "wget.download('https://mba.tuck.dartmouth.edu/pages/faculty/ken.french/ftp/Portfolios_Formed_on_BE-ME_CSV.zip','Portfolios_Formed_on_BE-ME_CSV.zip')\n",
    "shutil.unpack_archive('Portfolios_Formed_on_BE-ME_CSV.zip')\n",
    "\n",
    "# Read the data from the CSV file and plot average annual returns across the portfolios, as we did for size above.\n",
    "value_portfolios = pd.read_csv('Portfolios_Formed_on_BE-ME.CSV',skiprows=2383,nrows=97)\n",
    "value_portfolios.columns = ['year','negative','l030','med40','hi30','q1','q2','q3','q4','q5','d1','d2','d3','d4','d5','d6','d7','d8','d9','d10']\n",
    "value_portfolios = value_portfolios[['year','d1','d2','d3','d4','d5','d6','d7','d8','d9','d10']].set_index('year')\n",
    "value_portfolios = value_portfolios/100\n",
    "\n",
    "# Build the figure\n",
    "value_portfolios = value_portfolios.loc['1926':'2021']\n",
    "value_portfolios_figure = plt.figure()\n",
    "means = [100*value_portfolios['d'+str(n)].mean() for n in range(1,11)]\n",
    "plt.bar(range(1,11),means);\n",
    "plt.xticks(range(1,11),range(1,11));\n",
    "plt.yticks([2*i for i in range(0,11)]);\n",
    "for i in range(1,11):\n",
    "    plt.text(i-0.33,means[i-1]+0.5,\"%3.1f\" % means[i-1]);\n",
    "plt.xlabel(\"B/M decile (1=low,10=high)\")\n",
    "plt.ylabel(\"Arithmetic average \\n annual return (%)\");"
   ]
  },
  {
   "cell_type": "code",
   "execution_count": 6,
   "id": "f99e759f",
   "metadata": {
    "slideshow": {
     "slide_type": "-"
    }
   },
   "outputs": [
    {
     "data": {
      "image/png": "[encoded data removed]",
      "text/plain": [
       "<Figure size 1152x576 with 1 Axes>"
      ]
     },
     "execution_count": 6,
     "metadata": {},
     "output_type": "execute_result"
    }
   ],
   "source": [
    "value_portfolios_figure"
   ]
  },
  {
   "cell_type": "markdown",
   "id": "0151ab35",
   "metadata": {
    "slideshow": {
     "slide_type": "slide"
    }
   },
   "source": [
    "### Average returns across portfolios formed on momentum"
   ]
  },
  {
   "cell_type": "code",
   "execution_count": 7,
   "id": "7169c4c0",
   "metadata": {
    "slideshow": {
     "slide_type": "skip"
    }
   },
   "outputs": [],
   "source": [
    "%%capture\n",
    "\n",
    "# Download Ken French's historical data on 10 portfolios formed on recent price increases (\"momentum\")\n",
    "try: os.remove('10_Portfolios_Prior_12_2_CSV.zip')\n",
    "except OSError: pass\n",
    "try: os.remove('10_Portfolios_Prior_12_2.CSV')\n",
    "except OSError: pass\n",
    "wget.download('https://mba.tuck.dartmouth.edu/pages/faculty/ken.french/ftp/10_Portfolios_Prior_12_2_CSV.zip','10_Portfolios_Prior_12_2_CSV.zip')\n",
    "shutil.unpack_archive('10_Portfolios_Prior_12_2_CSV.zip')\n",
    "\n",
    "# Read the data from the CSV file and plot average annual returns across the portfolios, as we did for size and value above.\n",
    "mom_portfolios = pd.read_csv('10_Portfolios_Prior_12_2.CSV',skiprows=2358,nrows=97)\n",
    "mom_portfolios.columns = ['year','d1','d2','d3','d4','d5','d6','d7','d8','d9','d10']\n",
    "mom_portfolios = mom_portfolios.set_index('year')\n",
    "mom_portfolios = mom_portfolios/100\n",
    "mom_portfolios = mom_portfolios.loc['1926':'2021']\n",
    "\n",
    "# Build the figure\n",
    "momentum_portfolios_figure = plt.figure()\n",
    "means = [100*mom_portfolios['d'+str(n)].mean() for n in range(1,11)]\n",
    "plt.bar(range(1,11),means);\n",
    "plt.xticks(range(1,11),range(1,11));\n",
    "plt.yticks([2*i for i in range(0,11)]);\n",
    "for i in range(1,11):\n",
    "    plt.text(i-0.33,means[i-1]+0.5,\"%3.1f\" % means[i-1]);\n",
    "plt.xlabel(\"Momentum decile (1=low,10=large)\");\n",
    "plt.ylabel(\"Arithmetic average \\n annual return (%)\");"
   ]
  },
  {
   "cell_type": "code",
   "execution_count": 8,
   "id": "2768863e",
   "metadata": {
    "slideshow": {
     "slide_type": "-"
    }
   },
   "outputs": [
    {
     "data": {
      "image/png": "[encoded data removed]",
      "text/plain": [
       "<Figure size 1152x576 with 1 Axes>"
      ]
     },
     "execution_count": 8,
     "metadata": {},
     "output_type": "execute_result"
    }
   ],
   "source": [
    "momentum_portfolios_figure"
   ]
  },
  {
   "cell_type": "markdown",
   "id": "72ed350e",
   "metadata": {
    "slideshow": {
     "slide_type": "slide"
    }
   },
   "source": [
    "## What is missing from this evidence?\n",
    "\n",
    "- Past performance does not guarantee future performance.\n",
    "    - As we mentioned earlier, we can’t do much about this.\n",
    "\n",
    "- Transaction costs may be quite large.\n",
    "    - We will spend some time on this issue, but not much.\n",
    "    - In general, it doesn’t change today’s conclusions: Style-based strategies have outperformed the market.\n",
    "\n",
    "- **Risk**: We have only looked at long-run averages (90+ years).\n",
    "    - For any one person, there is no guarantee what the average will be within their investment horizon, or what kind of short-term risk they might have to accept to pursue these strategies.\n",
    "    - How should we measure risk? How much risk is too much? These questions are our main focus after Midterm 1."
   ]
  },
  {
   "cell_type": "markdown",
   "id": "702b7760",
   "metadata": {
    "slideshow": {
     "slide_type": "slide"
    }
   },
   "source": [
    "## Comparison of average return and volatility across portfolios formed on size"
   ]
  },
  {
   "cell_type": "code",
   "execution_count": 11,
   "id": "1f47ddff",
   "metadata": {
    "slideshow": {
     "slide_type": "skip"
    }
   },
   "outputs": [],
   "source": [
    "%%capture\n",
    "size_volatility_figure = plt.figure()\n",
    "means = [100*size_portfolios['d'+str(n)].mean() for n in range(1,11)]\n",
    "vols = [100*size_portfolios['d'+str(n)].std() for n in range(1,11)]\n",
    "plt.scatter(vols,means);\n",
    "for i in range(1,11):\n",
    "    plt.text(vols[i-1]+0.1,means[i-1]-0.1,str(i));\n",
    "plt.xlabel(\"Volatility of annual return\");\n",
    "plt.ylabel(\"Arithmetic average annual return\");"
   ]
  },
  {
   "cell_type": "code",
   "execution_count": 12,
   "id": "39b28172",
   "metadata": {
    "slideshow": {
     "slide_type": "-"
    }
   },
   "outputs": [
    {
     "data": {
      "image/png": "[encoded data removed]",
      "text/plain": [
       "<Figure size 1152x576 with 1 Axes>"
      ]
     },
     "execution_count": 12,
     "metadata": {},
     "output_type": "execute_result"
    }
   ],
   "source": [
    "size_volatility_figure"
   ]
  }
 ],
 "metadata": {
  "celltoolbar": "Slideshow",
  "kernelspec": {
   "display_name": "Python 3 (ipykernel)",
   "language": "python",
   "name": "python3"
  },
  "language_info": {
   "codemirror_mode": {
    "name": "ipython",
    "version": 3
   },
   "file_extension": ".py",
   "mimetype": "text/x-python",
   "name": "python",
   "nbconvert_exporter": "python",
   "pygments_lexer": "ipython3",
   "version": "3.10.12"
  }
 },
 "nbformat": 4,
 "nbformat_minor": 5
}
