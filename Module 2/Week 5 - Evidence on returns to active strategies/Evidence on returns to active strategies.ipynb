{
 "cells": [
  {
   "cell_type": "markdown",
   "id": "83be360c",
   "metadata": {
    "slideshow": {
     "slide_type": "slide"
    }
   },
   "source": [
    "<center> <h1>Evidence on returns to active strategies</h1> </center>"
   ]
  },
  {
   "cell_type": "markdown",
   "id": "c7765e18",
   "metadata": {
    "slideshow": {
     "slide_type": "-"
    }
   },
   "source": [
    "<center>William Mann</center>"
   ]
  },
  {
   "cell_type": "markdown",
   "id": "e470a873",
   "metadata": {
    "slideshow": {
     "slide_type": "-"
    }
   },
   "source": [
    "<center>\n",
    "<img src=\"https://wgjm1986.github.io/Investments/Emory_small.png\" height=\"200px\" width=\"300px\" />\n",
    "</center>                                                                                            "
   ]
  },
  {
   "cell_type": "markdown",
   "id": "8bca155b",
   "metadata": {
    "slideshow": {
     "slide_type": "slide"
    }
   },
   "source": [
    "## Backtesting an investment strategy\n",
    "\n",
    "Make sure to use information that was actually available in real time.\n",
    "\n",
    "Could motivate by imagining buying stocks based on *next* quarter's market capitalization."
   ]
  },
  {
   "cell_type": "markdown",
   "id": "df9a80da",
   "metadata": {
    "slideshow": {
     "slide_type": "slide"
    }
   },
   "source": [
    "## Investment styles: Size, value, and momentum\n",
    "\n",
    "A “style” is a simple characteristic of an investment,\n",
    "that is used to form broad portfolios to (hopefully) beat the market.\n",
    "\n",
    "In the stock market, the best-known styles are:\n",
    "- Size: Another name for market capitalization.\n",
    "- Value: A valuation ratio involving the stock price.\n",
    "- Momentum: The stock’s return over recent months.\n",
    "\n",
    "Today we will look at average returns based on these styles,\n",
    "using evidence from the US stock market from 1926 to the present.\n",
    "\n",
    "(Later in the course we will use “factor” as another name for “style”.)"
   ]
  },
  {
   "cell_type": "markdown",
   "id": "83c75c18",
   "metadata": {
    "slideshow": {
     "slide_type": "slide"
    }
   },
   "source": [
    "## Backtesting a style-based investment strategy\n",
    "\n",
    "1. Give a precise definition of the style you are studying. Examples:\n",
    "    - **Size:** The market capitalization of the stock’s issuer.\n",
    "    - **Value:** The issuer’s book-to-market ratio.\n",
    "    - **Momentum:** The price increase from month t − 13 to t − 1.  \n",
    "\n",
    "(Definitions vary in practice, but we will focus on those listed above.)\n",
    "\n",
    "2. Backtest the performance of portfolios sorted on this basis:  \n",
    "- At the start of each past year in your data, sort stocks into different portfolios based on the characteristic you are studying.\n",
    "- Calculate each portfolio’s value-weighted return for that year.\n",
    "- Repeat for each year in the data.\n",
    "\n",
    "3. Compare each portfolio’s returns with the market."
   ]
  },
  {
   "cell_type": "code",
   "execution_count": 1,
   "id": "e7f54570",
   "metadata": {
    "slideshow": {
     "slide_type": "skip"
    }
   },
   "outputs": [],
   "source": [
    "import pandas as pd\n",
    "pd.options.mode.chained_assignment = None  # default='warn'\n",
    "\n",
    "import wrds\n",
    "import math\n",
    "import numpy\n",
    "import statsmodels.formula.api\n",
    "import wget, shutil\n",
    "import os\n",
    "\n",
    "from matplotlib import pyplot as plt\n",
    "plt.rcParams['figure.figsize'] = [16.0, 8.0]"
   ]
  },
  {
   "cell_type": "markdown",
   "id": "018e9d3a",
   "metadata": {
    "slideshow": {
     "slide_type": "slide"
    }
   },
   "source": [
    "### Average returns across portfolios formed on size (market capitalization)"
   ]
  },
  {
   "cell_type": "code",
   "execution_count": null,
   "id": "5e9c5fb6",
   "metadata": {
    "slideshow": {
     "slide_type": "skip"
    }
   },
   "outputs": [],
   "source": [
    "%%capture\n",
    "\n",
    "# Download Ken French's historical data on 10 portfolios formed on market capitalization (\"size\")\n",
    "try: os.remove('Portfolios_Formed_on_ME_CSV.zip')\n",
    "except OSError: pass\n",
    "try: os.remove('Portfolios_Formed_on_ME.CSV')\n",
    "except OSError: pass\n",
    "wget.download('https://mba.tuck.dartmouth.edu/pages/faculty/ken.french/ftp/Portfolios_Formed_on_ME_CSV.zip','Portfolios_Formed_on_ME_CSV.zip')\n",
    "shutil.unpack_archive('Portfolios_Formed_on_ME_CSV.zip')\n",
    "\n",
    "# Read the data from the CSV file\n",
    "size_portfolios = pd.read_csv('Portfolios_Formed_on_ME.CSV',skiprows=2372,nrows=97)\n",
    "size_portfolios.columns = ['year','negative','l030','med40','hi30','q1','q2','q3','q4','q5','d1','d2','d3','d4','d5','d6','d7','d8','d9','d10']\n",
    "size_portfolios = size_portfolios[['year','d1','d2','d3','d4','d5','d6','d7','d8','d9','d10']].set_index('year')\n",
    "size_portfolios = size_portfolios/100"
   ]
  },
  {
   "cell_type": "code",
   "execution_count": 2,
   "id": "bf978c68",
   "metadata": {
    "slideshow": {
     "slide_type": "skip"
    }
   },
   "outputs": [],
   "source": [
    "# Build the textbook's figure 11.4. (End in 2021 for consistency with that figure.)\n",
    "size_portfolios = size_portfolios.loc['1926':'2021']\n",
    "size_portfolios_figure = plt.figure();\n",
    "means = [100*size_portfolios['d'+str(n)].mean() for n in range(1,11)];\n",
    "plt.bar(range(1,11),means);\n",
    "plt.xticks(range(1,11),range(1,11));\n",
    "plt.yticks([2*i for i in range(0,11)]);\n",
    "for i in range(1,11):\n",
    "    plt.text(i-0.33,means[i-1]+0.5,\"%3.1f\" % means[i-1]);\n",
    "plt.xlabel(\"Market cap decile (1=small,10=large)\");\n",
    "plt.ylabel(\"Arithmetic average \\n annual return (%)\");"
   ]
  },
  {
   "cell_type": "code",
   "execution_count": 3,
   "id": "f322915c",
   "metadata": {
    "slideshow": {
     "slide_type": "-"
    }
   },
   "outputs": [
    {
     "data": {
      "image/png": "[encoded data removed]",
      "text/plain": [
       "<Figure size 1152x576 with 1 Axes>"
      ]
     },
     "execution_count": 3,
     "metadata": {},
     "output_type": "execute_result"
    }
   ],
   "source": [
    "size_portfolios_figure"
   ]
  },
  {
   "cell_type": "markdown",
   "id": "855d9f7d",
   "metadata": {
    "slideshow": {
     "slide_type": "slide"
    }
   },
   "source": [
    "## Average returns across portfolios formed on value"
   ]
  },
  {
   "cell_type": "code",
   "execution_count": 4,
   "id": "e4110d86",
   "metadata": {
    "slideshow": {
     "slide_type": "skip"
    }
   },
   "outputs": [],
   "source": [
    "%%capture\n",
    "\n",
    "# Download Ken French's historical data on 10 portfolios formed on book-to-market ratio (\"value\")\n",
    "try: os.remove('Portfolios_Formed_on_BE-ME_CSV.zip')\n",
    "except OSError: pass\n",
    "try: os.remove('Portfolios_Formed_on_BE-ME.CSV')\n",
    "except OSError: pass\n",
    "wget.download('https://mba.tuck.dartmouth.edu/pages/faculty/ken.french/ftp/Portfolios_Formed_on_BE-ME_CSV.zip','Portfolios_Formed_on_BE-ME_CSV.zip')\n",
    "shutil.unpack_archive('Portfolios_Formed_on_BE-ME_CSV.zip')\n",
    "\n",
    "# Read the data from the CSV file and plot average annual returns across the portfolios, as we did for size above.\n",
    "value_portfolios = pd.read_csv('Portfolios_Formed_on_BE-ME.CSV',skiprows=2383,nrows=97)\n",
    "value_portfolios.columns = ['year','negative','l030','med40','hi30','q1','q2','q3','q4','q5','d1','d2','d3','d4','d5','d6','d7','d8','d9','d10']\n",
    "value_portfolios = value_portfolios[['year','d1','d2','d3','d4','d5','d6','d7','d8','d9','d10']].set_index('year')\n",
    "value_portfolios = value_portfolios/100\n",
    "\n",
    "# Build the figure\n",
    "value_portfolios = value_portfolios.loc['1926':'2021']\n",
    "value_portfolios_figure = plt.figure()\n",
    "means = [100*value_portfolios['d'+str(n)].mean() for n in range(1,11)]\n",
    "plt.bar(range(1,11),means);\n",
    "plt.xticks(range(1,11),range(1,11));\n",
    "plt.yticks([2*i for i in range(0,11)]);\n",
    "for i in range(1,11):\n",
    "    plt.text(i-0.33,means[i-1]+0.5,\"%3.1f\" % means[i-1]);\n",
    "plt.xlabel(\"B/M decile (1=low,10=high)\")\n",
    "plt.ylabel(\"Arithmetic average \\n annual return (%)\");"
   ]
  },
  {
   "cell_type": "code",
   "execution_count": 5,
   "id": "f99e759f",
   "metadata": {
    "slideshow": {
     "slide_type": "-"
    }
   },
   "outputs": [
    {
     "data": {
      "image/png": "[encoded data removed]",
      "text/plain": [
       "<Figure size 1152x576 with 1 Axes>"
      ]
     },
     "execution_count": 5,
     "metadata": {},
     "output_type": "execute_result"
    }
   ],
   "source": [
    "value_portfolios_figure"
   ]
  },
  {
   "cell_type": "markdown",
   "id": "0151ab35",
   "metadata": {
    "slideshow": {
     "slide_type": "slide"
    }
   },
   "source": [
    "## Average returns across portfolios formed on momentum"
   ]
  },
  {
   "cell_type": "code",
   "execution_count": 6,
   "id": "7169c4c0",
   "metadata": {
    "slideshow": {
     "slide_type": "skip"
    }
   },
   "outputs": [],
   "source": [
    "%%capture\n",
    "\n",
    "# Download Ken French's historical data on 10 portfolios formed on recent price increases (\"momentum\")\n",
    "try: os.remove('10_Portfolios_Prior_12_2_CSV.zip')\n",
    "except OSError: pass\n",
    "try: os.remove('10_Portfolios_Prior_12_2.CSV')\n",
    "except OSError: pass\n",
    "wget.download('https://mba.tuck.dartmouth.edu/pages/faculty/ken.french/ftp/10_Portfolios_Prior_12_2_CSV.zip','10_Portfolios_Prior_12_2_CSV.zip')\n",
    "shutil.unpack_archive('10_Portfolios_Prior_12_2_CSV.zip')\n",
    "\n",
    "# Read the data from the CSV file and plot average annual returns across the portfolios, as we did for size and value above.\n",
    "mom_portfolios = pd.read_csv('10_Portfolios_Prior_12_2.CSV',skiprows=2358,nrows=97)\n",
    "mom_portfolios.columns = ['year','d1','d2','d3','d4','d5','d6','d7','d8','d9','d10']\n",
    "mom_portfolios = mom_portfolios.set_index('year')\n",
    "mom_portfolios = mom_portfolios/100\n",
    "mom_portfolios = mom_portfolios.loc['1926':'2021']\n",
    "\n",
    "# Build the figure\n",
    "momentum_portfolios_figure = plt.figure()\n",
    "means = [100*mom_portfolios['d'+str(n)].mean() for n in range(1,11)]\n",
    "plt.bar(range(1,11),means);\n",
    "plt.xticks(range(1,11),range(1,11));\n",
    "plt.yticks([2*i for i in range(0,11)]);\n",
    "for i in range(1,11):\n",
    "    plt.text(i-0.33,means[i-1]+0.5,\"%3.1f\" % means[i-1]);\n",
    "plt.xlabel(\"Momentum decile (1=low,10=large)\");\n",
    "plt.ylabel(\"Arithmetic average \\n annual return (%)\");"
   ]
  },
  {
   "cell_type": "code",
   "execution_count": 7,
   "id": "2768863e",
   "metadata": {
    "slideshow": {
     "slide_type": "-"
    }
   },
   "outputs": [
    {
     "data": {
      "image/png": "[encoded data removed]",
      "text/plain": [
       "<Figure size 1152x576 with 1 Axes>"
      ]
     },
     "execution_count": 7,
     "metadata": {},
     "output_type": "execute_result"
    }
   ],
   "source": [
    "momentum_portfolios_figure"
   ]
  },
  {
   "cell_type": "markdown",
   "id": "72ed350e",
   "metadata": {
    "slideshow": {
     "slide_type": "slide"
    }
   },
   "source": [
    "## What is missing from this evidence?\n",
    "\n",
    "- Past performance does not guarantee future performance.\n",
    "    - As we mentioned earlier, we can’t do much about this.\n",
    "\n",
    "- Transaction costs may be quite large.\n",
    "    - We will spend some time on this issue, but not much.\n",
    "    - In general, it doesn’t change today’s conclusions: Style-based strategies have outperformed the market.\n",
    "\n",
    "- **Risk**: We have only looked at long-run averages (90+ years).\n",
    "    - For any one person, there is no guarantee what the average will be within their investment horizon, or what kind of short-term risk they might have to accept to pursue these strategies.\n",
    "    - How should we measure risk? How much risk is too much? These questions are our main focus after Midterm 1."
   ]
  },
  {
   "cell_type": "markdown",
   "id": "702b7760",
   "metadata": {
    "slideshow": {
     "slide_type": "slide"
    }
   },
   "source": [
    "## Comparison of average return and volatility across portfolios formed on size"
   ]
  },
  {
   "cell_type": "code",
   "execution_count": 8,
   "id": "1f47ddff",
   "metadata": {
    "slideshow": {
     "slide_type": "skip"
    }
   },
   "outputs": [],
   "source": [
    "%%capture\n",
    "size_volatility_figure = plt.figure()\n",
    "means = [100*size_portfolios['d'+str(n)].mean() for n in range(1,11)]\n",
    "vols = [100*size_portfolios['d'+str(n)].std() for n in range(1,11)]\n",
    "plt.scatter(vols,means);\n",
    "for i in range(1,11):\n",
    "    plt.text(vols[i-1]+0.3,means[i-1]-0.3,str(i));\n",
    "plt.xlabel(\"Volatility of annual return\");\n",
    "plt.ylabel(\"Arithmetic average annual return\");"
   ]
  },
  {
   "cell_type": "code",
   "execution_count": 9,
   "id": "39b28172",
   "metadata": {
    "slideshow": {
     "slide_type": "-"
    }
   },
   "outputs": [
    {
     "data": {
      "image/png": "[encoded data removed]",
      "text/plain": [
       "<Figure size 1152x576 with 1 Axes>"
      ]
     },
     "execution_count": 9,
     "metadata": {},
     "output_type": "execute_result"
    }
   ],
   "source": [
    "size_volatility_figure"
   ]
  }
 ],
 "metadata": {
  "celltoolbar": "Slideshow",
  "kernelspec": {
   "display_name": "Python 3 (ipykernel)",
   "language": "python",
   "name": "python3"
  },
  "language_info": {
   "codemirror_mode": {
    "name": "ipython",
    "version": 3
   },
   "file_extension": ".py",
   "mimetype": "text/x-python",
   "name": "python",
   "nbconvert_exporter": "python",
   "pygments_lexer": "ipython3",
   "version": "3.10.12"
  }
 },
 "nbformat": 4,
 "nbformat_minor": 5
}
