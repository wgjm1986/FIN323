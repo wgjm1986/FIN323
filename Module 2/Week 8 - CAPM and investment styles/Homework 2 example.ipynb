{
 "cells": [
  {
   "cell_type": "markdown",
   "id": "581acc1c",
   "metadata": {
    "slideshow": {
     "slide_type": "slide"
    }
   },
   "source": [
    "<center> <h1>Illustrating alpha and information ratio in Homework 2</h1> </center>"
   ]
  },
  {
   "cell_type": "markdown",
   "id": "13896239",
   "metadata": {
    "slideshow": {
     "slide_type": "-"
    }
   },
   "source": [
    "<center>William Mann</center>"
   ]
  },
  {
   "cell_type": "markdown",
   "id": "2d2205de",
   "metadata": {
    "slideshow": {
     "slide_type": "-"
    }
   },
   "source": [
    "<center>\n",
    "<img src=\"https://wgjm1986.github.io/FIN323/Emory_small.png\" height=\"200px\" width=\"300px\" />\n",
    "</center>                                                                                            "
   ]
  },
  {
   "cell_type": "code",
   "execution_count": 1,
   "id": "3353693d-ea62-45f3-b5d8-7cc4486414de",
   "metadata": {
    "slideshow": {
     "slide_type": "skip"
    }
   },
   "outputs": [],
   "source": [
    "%%capture\n",
    "\n",
    "import pandas as pd\n",
    "pd.options.mode.chained_assignment = None  # default='warn'\n",
    "\n",
    "import os\n",
    "import wrds\n",
    "import fredapi\n",
    "import math\n",
    "import numpy as np\n",
    "\n",
    "import statsmodels.api as sm"
   ]
  },
  {
   "cell_type": "markdown",
   "id": "84ac9acc-591f-4071-89be-454da57e814d",
   "metadata": {
    "slideshow": {
     "slide_type": "slide"
    }
   },
   "source": [
    "## Application: The analysis of Homework 2\n",
    "\n",
    "We will reproduce the results of that assignment, and then see how the formulas from this week are another path to the same answers."
   ]
  },
  {
   "cell_type": "code",
   "execution_count": 2,
   "id": "5991db60-bfeb-4a84-b644-da4a1df194b0",
   "metadata": {},
   "outputs": [
    {
     "name": "stdout",
     "output_type": "stream",
     "text": [
      "Loading library list...\n",
      "Done\n"
     ]
    }
   ],
   "source": [
    "conn = wrds.Connection(wrds_username='wmann')"
   ]
  },
  {
   "cell_type": "code",
   "execution_count": 3,
   "id": "db9752f3",
   "metadata": {
    "slideshow": {
     "slide_type": "skip"
    }
   },
   "outputs": [],
   "source": [
    "# Risk-free rate from the Fama and French data\n",
    "FF3F = conn.get_table(library='ff_all',table='factors_monthly')\n",
    "FF3F['month'] = pd.to_datetime(FF3F['date']).dt.to_period('M')\n",
    "FF3F = FF3F.drop('date',axis=1).drop('dateff',axis=1).set_index('month')\n",
    "riskfree = FF3F.rf.astype('float64')\n",
    "riskfree = riskfree['2008':'2024']"
   ]
  },
  {
   "cell_type": "code",
   "execution_count": 4,
   "id": "bedcfba2",
   "metadata": {
    "slideshow": {
     "slide_type": "skip"
    }
   },
   "outputs": [],
   "source": [
    "Gold = conn.raw_sql(\"\"\"select comcode, of, date_ from trdstrm.wrds_cmdy_data \n",
    "    where comcode = '1865' and of is not null and of <> 5\"\"\")\n",
    "Gold['date_'] = pd.to_datetime(Gold['date_'])\n",
    "Gold = Gold.sort_values(by='date_')\n",
    "Gold = Gold.reset_index().resample('ME',on='date_').agg(['last'])\n",
    "Gold['month'] = Gold.index.to_period('M')\n",
    "Gold['ret'] = (Gold['of']/Gold['of'].shift())-1\n",
    "Gold = Gold.set_index('month')\n",
    "Gold = Gold['ret']\n",
    "Gold = round(Gold,6)\n",
    "Gold = Gold['2008':'2024']"
   ]
  },
  {
   "cell_type": "code",
   "execution_count": 5,
   "id": "b52746db",
   "metadata": {
    "slideshow": {
     "slide_type": "skip"
    }
   },
   "outputs": [],
   "source": [
    "# VFINX returns from WRDS\n",
    "VFINX_crsp_fundno = conn.raw_sql(\"select crsp_fundno, ticker from crsp_q_mutualfunds.fund_hdr where ticker = 'VFINX'\").reset_index().crsp_fundno[0]\n",
    "VFINX = conn.raw_sql(\"select caldt, mret from crsp_q_mutualfunds.monthly_returns where crsp_fundno = \" + str(VFINX_crsp_fundno))\n",
    "# Convert string date to datetime\n",
    "VFINX = VFINX.set_index( pd.to_datetime(VFINX.set_index('caldt').index) ).drop('caldt',axis=1)\n",
    "# Aggregate to monthly level\n",
    "VFINX['month'] = VFINX.index.to_period('M')\n",
    "VFINX = (VFINX.set_index('month') + 1).groupby('month').prod() - 1\n",
    "VFINX.columns = ['VFINX']\n",
    "VFINX = VFINX['2008':'2024']\n",
    "VFINX = VFINX['VFINX']"
   ]
  },
  {
   "cell_type": "code",
   "execution_count": 6,
   "id": "b308ac9f-8ab9-4dfd-b990-1fafeab0c7e1",
   "metadata": {},
   "outputs": [],
   "source": [
    "conn.close()"
   ]
  },
  {
   "cell_type": "code",
   "execution_count": 7,
   "id": "a10d124b",
   "metadata": {
    "slideshow": {
     "slide_type": "skip"
    }
   },
   "outputs": [],
   "source": [
    "# Optional: Write data to file for in-class Excel example\n",
    "\n",
    "# try: os.remove(\"Homework 2 example.xlsx\")\n",
    "# except OSError: pass\n",
    "\n",
    "# # Combine all datasets together\n",
    "# HWdata = pd.concat([VFINX.to_frame(name='VFINX'), Gold.to_frame(name='Gold'), riskfree.to_frame(name='rf')],axis=1)\n",
    "\n",
    "# # set up custom ExcelWriter engine to get the date format correct in the output file\n",
    "# writer = pd.ExcelWriter('Homework 2 example.xlsx', engine='xlsxwriter', datetime_format= \"yyyy-mm\")\n",
    "\n",
    "# HWdata.to_excel(writer,sheet_name='Data')\n",
    "\n",
    "# writer.close()"
   ]
  },
  {
   "attachments": {},
   "cell_type": "markdown",
   "id": "24b6b495-73c1-44ea-873b-113ee755e74c",
   "metadata": {
    "slideshow": {
     "slide_type": "slide"
    }
   },
   "source": [
    "I have already downloaded the data on VFINX, gold, and risk-free returns.\n",
    "\n",
    "In the homework we found the portfolio with the highest Sharpe ratio. \n",
    "Let's quickly calculate that answer again, using the matrix formulas form last week:"
   ]
  },
  {
   "cell_type": "code",
   "execution_count": 8,
   "id": "6bd12f01-08e9-4d49-a853-a66f7da7defa",
   "metadata": {},
   "outputs": [],
   "source": [
    "Gold_excess = Gold - riskfree\n",
    "Gold_excess.name = 'Gold excess return'\n",
    "VFINX_excess = VFINX - riskfree\n",
    "VFINX_excess.name = 'VFINX excess return'"
   ]
  },
  {
   "cell_type": "code",
   "execution_count": 9,
   "id": "26515264",
   "metadata": {
    "slideshow": {
     "slide_type": "-"
    }
   },
   "outputs": [
    {
     "name": "stdout",
     "output_type": "stream",
     "text": [
      "The portfolio with the highest Sharpe ratio is:\n",
      " 36.687% Gold,\n",
      " 63.313% VFINX.\n",
      "It has a Sharpe ratio of 0.21513.\n"
     ]
    }
   ],
   "source": [
    "Sigma = np.cov([ Gold_excess , VFINX_excess ])\n",
    "mu = [ Gold_excess.mean() , VFINX_excess.mean() ]\n",
    "Optimal_weights_unscaled = np.linalg.inv(Sigma) @ mu\n",
    "Optimal_weights = (\n",
    "    Optimal_weights_unscaled / Optimal_weights_unscaled.sum()\n",
    "    )\n",
    "Optimal_Gold_weight, Optimal_VFINX_weight = Optimal_weights\n",
    "\n",
    "print(\"The portfolio with the highest Sharpe ratio is:\")\n",
    "print(f\" {100*Optimal_Gold_weight :.3f}% Gold,\")\n",
    "print(f\" {100*Optimal_VFINX_weight :.3f}% VFINX.\")\n",
    "\n",
    "Optimal_mu = Optimal_weights @ mu\n",
    "Optimal_sigma = np.sqrt( Optimal_weights @ (Sigma @ Optimal_weights) )\n",
    "Optimal_SR = Optimal_mu / Optimal_sigma\n",
    "\n",
    "print(f\"It has a Sharpe ratio of {Optimal_SR :.5f}.\")"
   ]
  },
  {
   "cell_type": "markdown",
   "id": "fb8dd3b5-db72-48a8-ac00-ef667efc714d",
   "metadata": {
    "slideshow": {
     "slide_type": "slide"
    }
   },
   "source": [
    "### Using the Sharpe ratio formula from above\n",
    "\n",
    "Now let's look at the first formula from this week. It say that we want to increase allocation to any investment $i$ as long as $SR_i > \\rho_{ip} \\times SR_p$, where $p$ is the portfolio we currently hold.\n",
    "\n",
    "Let's apply this formula to the homework analysis, with gold playing the role of investment $i$ and VFINX the portfolio $p$."
   ]
  },
  {
   "cell_type": "markdown",
   "id": "e4795734-5972-4929-8373-38053c3a3dbe",
   "metadata": {
    "slideshow": {
     "slide_type": "slide"
    }
   },
   "source": [
    "First we calculate the Sharpe ratio of gold:"
   ]
  },
  {
   "cell_type": "code",
   "execution_count": 10,
   "id": "7517299d",
   "metadata": {
    "slideshow": {
     "slide_type": "-"
    }
   },
   "outputs": [
    {
     "name": "stdout",
     "output_type": "stream",
     "text": [
      "Sharpe ratio of gold: 0.12038\n"
     ]
    }
   ],
   "source": [
    "Gold_SR = Gold_excess.mean() / Gold_excess.std()\n",
    "print(f\"Sharpe ratio of gold: {Gold_SR :.5f}\")"
   ]
  },
  {
   "cell_type": "markdown",
   "id": "e95ffc33-0d01-47f0-812b-2b41478b3338",
   "metadata": {
    "slideshow": {
     "slide_type": "slide"
    }
   },
   "source": [
    "Now imagine we start off holding just VFINX, and are considering whether to allocate some to gold.\n",
    "Calculate the Sharpe ratio of VFINX by itself, and the correlation of gold with VFINX."
   ]
  },
  {
   "cell_type": "code",
   "execution_count": 11,
   "id": "085a0303",
   "metadata": {
    "slideshow": {
     "slide_type": "-"
    }
   },
   "outputs": [
    {
     "name": "stdout",
     "output_type": "stream",
     "text": [
      "Sharpe ratio of VFINX: 0.18518\n",
      "Correlation of gold with VFINX: 0.05986\n",
      "Multiply these two together: 0.01109\n"
     ]
    }
   ],
   "source": [
    "VFINX_SR = VFINX_excess.mean() / VFINX_excess.std()\n",
    "Corr_Gold_VFINX = np.corrcoef(\n",
    "    [ VFINX_excess , Gold_excess ]\n",
    "    )[0,1]\n",
    "\n",
    "print(f\"Sharpe ratio of VFINX: {VFINX_SR :.5f}\")\n",
    "print(f\"Correlation of gold with VFINX: {Corr_Gold_VFINX :.5f}\")\n",
    "print(f\"Multiply these two together: {VFINX_SR*Corr_Gold_VFINX :.5f}\")"
   ]
  },
  {
   "cell_type": "markdown",
   "id": "c8a8c16f-d4e7-406f-9ab0-aac001616216",
   "metadata": {
    "slideshow": {
     "slide_type": "-"
    }
   },
   "source": [
    "Because the Sharpe ratio of gold was greater than this, we conclude that we can achieve a higher portfolio Sharpe ratio if we allocate *some* amount to gold."
   ]
  },
  {
   "cell_type": "markdown",
   "id": "09fc0fe8-55af-4a17-8787-65e7c8c4ce5c",
   "metadata": {
    "slideshow": {
     "slide_type": "slide"
    }
   },
   "source": [
    "Now suppose we try an allocation of 20% to gold. We can simulate the returns of this allocation, and then redo the \n",
    "calculations just above with this new allocation playing the role of $p$, our current portfolio."
   ]
  },
  {
   "cell_type": "code",
   "execution_count": 12,
   "id": "4966fe81",
   "metadata": {
    "slideshow": {
     "slide_type": "-"
    }
   },
   "outputs": [
    {
     "name": "stdout",
     "output_type": "stream",
     "text": [
      "Sharpe ratio of an allocation 20% gold, 80% VFINX: 0.20679\n",
      "Correlation of gold with this allocation: 0.30943\n",
      "Multiply these two together: 0.06399\n"
     ]
    }
   ],
   "source": [
    "Gold20_excess = 0.2*Gold_excess + 0.8*VFINX_excess\n",
    "Gold20_excess.name = '20% Gold / 80% VFINX excess return'\n",
    "Gold20_SR = Gold20_excess.mean() / Gold20_excess.std()\n",
    "Corr_Gold_Gold20 = np.corrcoef(\n",
    "    [ Gold_excess , Gold20_excess ]\n",
    "    )[0,1]\n",
    "\n",
    "print(f\"Sharpe ratio of an allocation 20% gold, 80% VFINX: {Gold20_SR :.5f}\")\n",
    "print(f\"Correlation of gold with this allocation: {Corr_Gold_Gold20 :.5f}\")\n",
    "print(f\"Multiply these two together: {Gold20_SR*Corr_Gold_Gold20 :.5f}\")"
   ]
  },
  {
   "cell_type": "markdown",
   "id": "207b8731-6279-4dd2-ad7d-5382ddcbea0d",
   "metadata": {
    "slideshow": {
     "slide_type": "-"
    }
   },
   "source": [
    "The result is still less than the Sharpe ratio of gold by itself that we calculated earlier. So we conclude that we should allocate more than 20% to gold. "
   ]
  },
  {
   "cell_type": "markdown",
   "id": "398ac830-8ae7-4bfb-a883-ef27bee88b8a",
   "metadata": {
    "slideshow": {
     "slide_type": "slide"
    }
   },
   "source": [
    "We can repeat this process by trial and error.\n",
    "It will eventually settle down to the answer we found in Homework 2.\n",
    "Let's verify that once we reach that answer, the two sides of the equation are exactly equal."
   ]
  },
  {
   "cell_type": "code",
   "execution_count": 13,
   "id": "f35dcd5c",
   "metadata": {
    "slideshow": {
     "slide_type": "-"
    }
   },
   "outputs": [
    {
     "name": "stdout",
     "output_type": "stream",
     "text": [
      "Sharpe ratio of gold: 0.12038\n",
      "Sharpe ratio of optimal portfolio from HW2: 0.21513\n",
      "Correlation of optimal portfolio with gold: 0.55958\n",
      "Multiply the last two numbers: 0.12038\n"
     ]
    }
   ],
   "source": [
    "Optimal_excess = Optimal_weights @ [ Gold_excess , VFINX_excess ]\n",
    "Optimal_excess = pd.Series(Optimal_excess, name = 'Optimal portfolio excess return', index = Gold_excess.index)\n",
    "\n",
    "Optimal_SR = Optimal_excess.mean() / Optimal_excess.std()\n",
    "Corr_Optimal_Gold = np.corrcoef(\n",
    "    [ Optimal_excess , Gold_excess ]\n",
    "    )[0,1]\n",
    "\n",
    "print(f\"Sharpe ratio of gold: {Gold_SR :.5f}\")\n",
    "print(f\"Sharpe ratio of optimal portfolio from HW2: {Optimal_SR :.5f}\")\n",
    "print(f\"Correlation of optimal portfolio with gold: {Corr_Optimal_Gold :.5f}\")\n",
    "print(f\"Multiply the last two numbers: {Optimal_SR*Corr_Optimal_Gold :.5f}\" )"
   ]
  },
  {
   "cell_type": "markdown",
   "id": "6ccd5c28-2c02-4961-9968-b5a88cfb0a2c",
   "metadata": {
    "slideshow": {
     "slide_type": "-"
    }
   },
   "source": [
    "So this allocation to gold achieves the highest possible Sharpe ratio in our historical data."
   ]
  },
  {
   "cell_type": "markdown",
   "id": "8be13f49-1be4-40d7-bd10-7387d7286779",
   "metadata": {
    "slideshow": {
     "slide_type": "slide"
    }
   },
   "source": [
    "## Formula with alpha\n",
    "\n",
    "The next formula from this week said that we want to add more allocation to an investment $i$ as long as it has positive $\\alpha$ with respect to our current portfolio.\n",
    "\n",
    "$\\alpha$ measures how much an investment outperforms its hurdle rate:\n",
    "$$\n",
    "\\alpha_{ip} = \\mathbb{E}[r_i-r_f] - \\beta_{ip}\\times\\mathbb{E}[r_p-r_f]\n",
    "$$\n",
    "\n",
    "We can estimate it in either of two ways:\n",
    "\n",
    "1. Substitute the average excess returns on $i$ and $p$ into the expected values above.\n",
    "\n",
    "2. Get the intercept from a regression of excess returns of $i$ on excess returns of $p$,\n",
    "\n",
    "$$\n",
    "(r_{it}-r_{ft}) = \\alpha_{ip} + \\beta_{ip}\\times(r_{pt} - r_{ft}) + \\varepsilon_{ipt}\n",
    "$$\n",
    "\n",
    "Let's see how these formulas show up in the analysis from Homework 2."
   ]
  },
  {
   "cell_type": "markdown",
   "id": "006d85c8-0124-458f-905e-e8f4dcdcce6b",
   "metadata": {
    "slideshow": {
     "slide_type": "slide"
    }
   },
   "source": [
    "First we check that gold has a positive $\\alpha$ with respect to VFINX. In the regression table below, the number labeled \"Intercept\" is our estimate of $\\alpha$. The number labeled VFINX is our estimate of $\\beta$."
   ]
  },
  {
   "cell_type": "code",
   "execution_count": 14,
   "id": "9988a6fc-c37a-4027-914f-89d6369dd6ca",
   "metadata": {},
   "outputs": [],
   "source": [
    "# first define a couple of helper functions for regressions (the statsmodels syntax is a bit arcane)\n",
    "# run a linear regression:\n",
    "def regress(y,x): return sm.OLS( y , sm.add_constant(x).rename(columns={'const':'Intercept'}) ).fit()\n",
    "# print a table of output:\n",
    "def regression_table(y,x): return regress(y,x).summary().tables[1]"
   ]
  },
  {
   "cell_type": "code",
   "execution_count": 15,
   "id": "677c527a",
   "metadata": {
    "slideshow": {
     "slide_type": "-"
    }
   },
   "outputs": [
    {
     "data": {
      "text/html": [
       "<table class=\"simpletable\">\n",
       "<tr>\n",
       "           <td></td>              <th>coef</th>     <th>std err</th>      <th>t</th>      <th>P>|t|</th>  <th>[0.025</th>    <th>0.975]</th>  \n",
       "</tr>\n",
       "<tr>\n",
       "  <th>Intercept</th>           <td>    0.0053</td> <td>    0.003</td> <td>    1.534</td> <td> 0.127</td> <td>   -0.002</td> <td>    0.012</td>\n",
       "</tr>\n",
       "<tr>\n",
       "  <th>VFINX excess return</th> <td>    0.0634</td> <td>    0.074</td> <td>    0.852</td> <td> 0.395</td> <td>   -0.083</td> <td>    0.210</td>\n",
       "</tr>\n",
       "</table>"
      ],
      "text/latex": [
       "\\begin{center}\n",
       "\\begin{tabular}{lcccccc}\n",
       "\\toprule\n",
       "                             & \\textbf{coef} & \\textbf{std err} & \\textbf{t} & \\textbf{P$> |$t$|$} & \\textbf{[0.025} & \\textbf{0.975]}  \\\\\n",
       "\\midrule\n",
       "\\textbf{Intercept}           &       0.0053  &        0.003     &     1.534  &         0.127        &       -0.002    &        0.012     \\\\\n",
       "\\textbf{VFINX excess return} &       0.0634  &        0.074     &     0.852  &         0.395        &       -0.083    &        0.210     \\\\\n",
       "\\bottomrule\n",
       "\\end{tabular}\n",
       "\\end{center}"
      ],
      "text/plain": [
       "<class 'statsmodels.iolib.table.SimpleTable'>"
      ]
     },
     "execution_count": 15,
     "metadata": {},
     "output_type": "execute_result"
    }
   ],
   "source": [
    "regression_table( Gold_excess , VFINX_excess )"
   ]
  },
  {
   "cell_type": "markdown",
   "id": "ce919514-ce09-4c41-aade-3112014f3683",
   "metadata": {
    "slideshow": {
     "slide_type": "slide"
    }
   },
   "source": [
    "We can interpret $\\alpha$ as a monthly return. So, we would say that, in our historical data, gold delivers 0.53% per month more than its appropriate hurdle rate based on its $\\beta_{ip}$ with respect to our current portolio of holding only VFINX. \n",
    "\n",
    "The value of $\\beta$ is very low and effectively zero. This tells us that gold has almost no correlation with the performance of the overall stock market (represented by VFINX), even though gold is very volatile on its own.\n",
    "\n",
    "Since we found a positive $\\alpha$ for gold in the regression, this tells us that we can increase our Sharpe ratio by adding some allocation to gold to our portfolio, starting from zero allocation, and so we should."
   ]
  },
  {
   "cell_type": "markdown",
   "id": "4ba6a356-1369-404b-bf03-cca1f1121c6d",
   "metadata": {
    "slideshow": {
     "slide_type": "slide"
    }
   },
   "source": [
    "Let's quickly check that we can match the alpha and beta value from the regression above by calculating directly with the formulas from slide 4:"
   ]
  },
  {
   "cell_type": "code",
   "execution_count": 16,
   "id": "9645b391",
   "metadata": {
    "slideshow": {
     "slide_type": "-"
    }
   },
   "outputs": [
    {
     "name": "stdout",
     "output_type": "stream",
     "text": [
      "Matching the above regression by direct calculations:\n",
      "  Beta: 0.0634\n",
      "  Alpha: 0.0053\n"
     ]
    }
   ],
   "source": [
    "Corr_Gold_VFINX = np.corrcoef(\n",
    "    [ Gold_excess , VFINX_excess ]\n",
    "    )[0,1]\n",
    "Vol_Gold = Gold_excess.std()\n",
    "Vol_VFINX = VFINX_excess.std()\n",
    "Beta_Gold_VFINX = Corr_Gold_VFINX * Vol_Gold / Vol_VFINX\n",
    "Alpha_Gold_VFINX = (\n",
    "    Gold_excess.mean() - Beta_Gold_VFINX * VFINX_excess.mean()\n",
    "    )\n",
    "print(\"Matching the above regression by direct calculations:\")\n",
    "print(f\"  Beta: {Beta_Gold_VFINX :.4f}\")\n",
    "print(f\"  Alpha: {Alpha_Gold_VFINX :.4f}\")"
   ]
  },
  {
   "cell_type": "markdown",
   "id": "c9da78c6-88b1-4970-b4e0-75e3ea753282",
   "metadata": {
    "slideshow": {
     "slide_type": "slide"
    }
   },
   "source": [
    "Now we again try our allocation of 20% to gold, 80% to VFINX, and evaluate the $\\alpha$ of gold with respect to this allocation:"
   ]
  },
  {
   "cell_type": "code",
   "execution_count": 17,
   "id": "de4927ae",
   "metadata": {
    "slideshow": {
     "slide_type": "-"
    }
   },
   "outputs": [
    {
     "data": {
      "text/html": [
       "<table class=\"simpletable\">\n",
       "<tr>\n",
       "                   <td></td>                     <th>coef</th>     <th>std err</th>      <th>t</th>      <th>P>|t|</th>  <th>[0.025</th>    <th>0.975]</th>  \n",
       "</tr>\n",
       "<tr>\n",
       "  <th>Intercept</th>                          <td>    0.0028</td> <td>    0.003</td> <td>    0.827</td> <td> 0.409</td> <td>   -0.004</td> <td>    0.009</td>\n",
       "</tr>\n",
       "<tr>\n",
       "  <th>20% Gold / 80% VFINX excess return</th> <td>    0.3905</td> <td>    0.084</td> <td>    4.625</td> <td> 0.000</td> <td>    0.224</td> <td>    0.557</td>\n",
       "</tr>\n",
       "</table>"
      ],
      "text/latex": [
       "\\begin{center}\n",
       "\\begin{tabular}{lcccccc}\n",
       "\\toprule\n",
       "                                              & \\textbf{coef} & \\textbf{std err} & \\textbf{t} & \\textbf{P$> |$t$|$} & \\textbf{[0.025} & \\textbf{0.975]}  \\\\\n",
       "\\midrule\n",
       "\\textbf{Intercept}                            &       0.0028  &        0.003     &     0.827  &         0.409        &       -0.004    &        0.009     \\\\\n",
       "\\textbf{20\\% Gold / 80\\% VFINX excess return} &       0.3905  &        0.084     &     4.625  &         0.000        &        0.224    &        0.557     \\\\\n",
       "\\bottomrule\n",
       "\\end{tabular}\n",
       "\\end{center}"
      ],
      "text/plain": [
       "<class 'statsmodels.iolib.table.SimpleTable'>"
      ]
     },
     "execution_count": 17,
     "metadata": {},
     "output_type": "execute_result"
    }
   ],
   "source": [
    "regression_table(Gold_excess,Gold20_excess)"
   ]
  },
  {
   "cell_type": "markdown",
   "id": "e60e78fa-d6b3-4338-a34c-3838c00394c9",
   "metadata": {
    "slideshow": {
     "slide_type": "-"
    }
   },
   "source": [
    "There is still some evidence of positive $\\alpha$, suggesting that we could do even better by increasing our allocation to gold some more."
   ]
  },
  {
   "cell_type": "markdown",
   "id": "d618f91d-0544-42ea-9d24-195ab20f21c3",
   "metadata": {
    "slideshow": {
     "slide_type": "slide"
    }
   },
   "source": [
    "Finally, we can check that gold has exactly zero alpha with respect to our optimal solution from Homework 2, so we could find that same answer by tinkering with the portfolio until alpha settles down to zero:"
   ]
  },
  {
   "cell_type": "code",
   "execution_count": 18,
   "id": "ee9d0a0f",
   "metadata": {
    "slideshow": {
     "slide_type": "-"
    }
   },
   "outputs": [
    {
     "data": {
      "text/html": [
       "<table class=\"simpletable\">\n",
       "<tr>\n",
       "                 <td></td>                    <th>coef</th>     <th>std err</th>      <th>t</th>      <th>P>|t|</th>  <th>[0.025</th>    <th>0.975]</th>  \n",
       "</tr>\n",
       "<tr>\n",
       "  <th>Intercept</th>                       <td>-1.409e-18</td> <td>    0.003</td> <td>-4.85e-16</td> <td> 1.000</td> <td>   -0.006</td> <td>    0.006</td>\n",
       "</tr>\n",
       "<tr>\n",
       "  <th>Optimal portfolio excess return</th> <td>    0.7777</td> <td>    0.081</td> <td>    9.596</td> <td> 0.000</td> <td>    0.618</td> <td>    0.938</td>\n",
       "</tr>\n",
       "</table>"
      ],
      "text/latex": [
       "\\begin{center}\n",
       "\\begin{tabular}{lcccccc}\n",
       "\\toprule\n",
       "                                         & \\textbf{coef} & \\textbf{std err} & \\textbf{t} & \\textbf{P$> |$t$|$} & \\textbf{[0.025} & \\textbf{0.975]}  \\\\\n",
       "\\midrule\n",
       "\\textbf{Intercept}                       &   -1.409e-18  &        0.003     & -4.85e-16  &         1.000        &       -0.006    &        0.006     \\\\\n",
       "\\textbf{Optimal portfolio excess return} &       0.7777  &        0.081     &     9.596  &         0.000        &        0.618    &        0.938     \\\\\n",
       "\\bottomrule\n",
       "\\end{tabular}\n",
       "\\end{center}"
      ],
      "text/plain": [
       "<class 'statsmodels.iolib.table.SimpleTable'>"
      ]
     },
     "execution_count": 18,
     "metadata": {},
     "output_type": "execute_result"
    }
   ],
   "source": [
    "regression_table( Gold_excess, Optimal_excess )"
   ]
  },
  {
   "cell_type": "markdown",
   "id": "c8472c0b-9e9d-4588-8327-5cdbef6b6689",
   "metadata": {
    "slideshow": {
     "slide_type": "slide"
    }
   },
   "source": [
    "So far we have matched the answers from Homework 2 using two different formulas, one based on Sharpe ratio and one based on $\\alpha$.\n",
    "\n",
    "These two approaches felt very similar, because they are really the same thing, just stating the math in a different way.\n",
    "\n",
    "The second approach explains why $\\alpha$ is used as a general measure of investment performance."
   ]
  },
  {
   "cell_type": "markdown",
   "id": "bf980750-c651-4413-b5f2-24b26326a3eb",
   "metadata": {
    "slideshow": {
     "slide_type": "slide"
    }
   },
   "source": [
    "### Analysis based on information ratios\n",
    "\n",
    "The information ratio is $\\alpha$ scaled by a measure of risk. Where $\\alpha$ just says whether it's *possible* to improve your Sharpe ratio using a new investment, the information ratio tells us *how much* your performance can improve using that investment, and how much you want to allocate to it.\n",
    "\n",
    "The information ratio can help investors judge whether it's actually worthwhile to pursue a new investment. By the same token, active managers should focus on achieving a high information ratio with respect to their benchmark, because this is how they will attract more funds."
   ]
  },
  {
   "cell_type": "markdown",
   "id": "0b685156-b31b-4baf-b889-cee6b49154c1",
   "metadata": {
    "slideshow": {
     "slide_type": "slide"
    }
   },
   "source": [
    "We start out by calculating the information ratio of gold with respect to VFINX:"
   ]
  },
  {
   "cell_type": "code",
   "execution_count": 19,
   "id": "754cc7ff",
   "metadata": {
    "slideshow": {
     "slide_type": "-"
    }
   },
   "outputs": [
    {
     "name": "stdout",
     "output_type": "stream",
     "text": [
      "Information ratio of gold with respect to VFINX: 0.10949\n"
     ]
    }
   ],
   "source": [
    "regression_results = regress(Gold_excess,VFINX_excess)\n",
    "alpha = regression_results.params.iloc[0]\n",
    "resid_std = regression_results.resid.std()\n",
    "Gold_IR = alpha / resid_std\n",
    "print(f\"Information ratio of gold with respect to VFINX: {Gold_IR :.5f}\")"
   ]
  },
  {
   "cell_type": "markdown",
   "id": "90a80cc1-08f6-4eaa-8459-bcd2a3356546",
   "metadata": {
    "slideshow": {
     "slide_type": "slide"
    }
   },
   "source": [
    "There are many ways to use this number. One of the most important is a formula we saw above: For an investor who allocates only between the new investment $i$ (in this case gold), and another portfolio $p$ (in this case VFINX), the maximum Sharpe ratio they can achieve is given by the following formula (slide 6 and textbook formula 8.26),\n",
    "$$\n",
    "SR_{max} = \\sqrt{ SR_p^2 + IR_{ip}^2 }\n",
    "$$\n",
    "Using the numbers we have calculated, we calculate a maximum Sharpe ratio that exactly matches the Sharpe ratio of our solution from Homework 2:"
   ]
  },
  {
   "cell_type": "code",
   "execution_count": 21,
   "id": "807187bf",
   "metadata": {
    "slideshow": {
     "slide_type": "-"
    }
   },
   "outputs": [
    {
     "name": "stdout",
     "output_type": "stream",
     "text": [
      "  Max SR: 0.21513\n"
     ]
    }
   ],
   "source": [
    "Max_SR = np.sqrt(VFINX_SR**2 + Gold_IR**2)\n",
    "print(f\"  Max SR: { Max_SR :.5f}\")"
   ]
  },
  {
   "cell_type": "markdown",
   "id": "e9efb229-7550-47fd-90a3-fd8b876f051b",
   "metadata": {
    "slideshow": {
     "slide_type": "-"
    }
   },
   "source": [
    "The point is that we can decide how attractive this new investment is, without doing an actual optimization.\n",
    "\n",
    "If a manager has a good guess what portfolio their clients hold on average (it is likely close to the market portfolio!), then they should maximize their information ratio to attract the most investment into their fund."
   ]
  },
  {
   "cell_type": "markdown",
   "id": "28597c0c-dabc-4dbb-b766-c14b614291cd",
   "metadata": {
    "slideshow": {
     "slide_type": "skip"
    }
   },
   "source": [
    "One last useful connection with regression theory: The information ratio is really just the t-statistic of the regression intercept multiplied by $\\sqrt{N}$, where $N$ is the number of observations of data in the regression. (But note, to make this formula line up perfectly requires some further small adjustments that are beyond the scope of the class right now.)"
   ]
  }
 ],
 "metadata": {
  "celltoolbar": "Slideshow",
  "kernelspec": {
   "display_name": "Python 3 (ipykernel)",
   "language": "python",
   "name": "python3"
  },
  "language_info": {
   "codemirror_mode": {
    "name": "ipython",
    "version": 3
   },
   "file_extension": ".py",
   "mimetype": "text/x-python",
   "name": "python",
   "nbconvert_exporter": "python",
   "pygments_lexer": "ipython3",
   "version": "3.12.3"
  }
 },
 "nbformat": 4,
 "nbformat_minor": 5
}
