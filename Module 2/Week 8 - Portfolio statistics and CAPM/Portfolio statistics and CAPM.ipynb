{
 "cells": [
  {
   "cell_type": "markdown",
   "id": "581acc1c",
   "metadata": {
    "slideshow": {
     "slide_type": "slide"
    }
   },
   "source": [
    "<center> <h1>Portfolio statistics and the CAPM</h1> </center>"
   ]
  },
  {
   "cell_type": "markdown",
   "id": "13896239",
   "metadata": {
    "slideshow": {
     "slide_type": "-"
    }
   },
   "source": [
    "<center>William Mann</center>"
   ]
  },
  {
   "cell_type": "markdown",
   "id": "2d2205de",
   "metadata": {
    "slideshow": {
     "slide_type": "-"
    }
   },
   "source": [
    "<center>\n",
    "<img src=\"https://wgjm1986.github.io/Investments/Emory_small.png\" height=\"200px\" width=\"300px\" />\n",
    "</center>                                                                                            "
   ]
  },
  {
   "cell_type": "markdown",
   "id": "ea4a2590",
   "metadata": {
    "slideshow": {
     "slide_type": "slide"
    }
   },
   "source": [
    "## A different perspective on the optimal portfolio\n",
    "\n",
    "Suppose an investor currently holds the risky portfolio p, and she is thinking about increasing her holding of investment i.\n",
    "\n",
    "Remember that she wants to increase the Sharpe ratio of p.\n",
    "\n",
    "It turns out that adding more of i will do this if\n",
    "$$\n",
    "SR_i > \\rho_{ip} \\times SR_p\n",
    "$$\n",
    "\n",
    "**Definition**: The “beta” of investment i with respect to portfolio p is\n",
    "$$\n",
    "\\beta_{ip}\n",
    "\\equiv\n",
    "\\rho_{ip} \\times \\frac{\\sigma_i}{\\sigma_p}\n",
    "$$\n",
    "\n",
    "Then we can say that the investor will want to hold more of i if\n",
    "$$\n",
    "\\mathbb{E}[r_i - r_f ]\n",
    ">\n",
    "\\beta_{ip} \\times \\mathbb{E}[r_p - r_f ]\n",
    "$$"
   ]
  },
  {
   "cell_type": "markdown",
   "id": "6168ab71",
   "metadata": {
    "slideshow": {
     "slide_type": "slide"
    }
   },
   "source": [
    "## Investment analysis based on $\\beta_{ip}$ and $\\alpha_{ip}$\n",
    "\n",
    "- We can think of $\\beta_{ip} \\times \\mathbb{E}[r_p − r_f]$ as the hurdle rate for someone holding portfolio p to decide they want to add more of i.\n",
    "\n",
    "- This leads us to two important statistics:\n",
    "\n",
    "$$\n",
    "\\beta_{ip} = \\rho_{ip} \\times \\frac{\\sigma_i}{\\sigma_p}\n",
    "$$\n",
    "\n",
    "$$\n",
    "\\alpha_{ip} = \\mathbb{E}[r_i - r_f ] - \\beta_{ip} \\times \\mathbb{E}[r_p − r_f ]\n",
    "$$\n",
    "\n",
    "We call these “the beta and alpha of i with respect to p.”\n",
    "\n",
    "- $\\beta_{ip}$ determines the hurdle rate someone applies to an investment.\n",
    "\n",
    "- $\\alpha_{ip}$ measures by how much the investment beats the hurdle rate."
   ]
  },
  {
   "cell_type": "markdown",
   "id": "418ff13d",
   "metadata": {
    "slideshow": {
     "slide_type": "slide"
    }
   },
   "source": [
    "## Two ways to think about β\n",
    "\n",
    "1. β is a rescaled version of the correlation ρ:\n",
    "If ρ is low, then the hurdle rate $\\beta_{ip}\\times \\mathbb{E}[r_p-r_f]$ is low,\n",
    "reflecting the value of diversification.\n",
    "But β, unlike ρ, can be greater than 1:\n",
    "    - $\\beta_{ip} > 1$ means that $\\sigma_p$ grows when we add a bit more of i to p.\n",
    "    - $\\beta_{ip} < 1$ means that $\\sigma_p$ shrinks. \n",
    "    - $\\beta_{ip} = 1$ means it does not change.\n",
    "\n",
    "2. β and α are also the statistics in the following regression model:\n",
    "$$\n",
    "(r_{it} − r_{ft} ) = \\alpha_{ip} + \\beta_{ip} \\times (r_{pt} − r_{ft} ) + \\varepsilon_{ipt}\n",
    "$$\n",
    "\n",
    "If you gather data and create a scatter plot of $r_{it}$ against $r_{pt}$,\n",
    "then $\\beta_{ip}$ is the slope of the best-fit line, and $\\alpha_{ip}$ is its intercept."
   ]
  },
  {
   "cell_type": "markdown",
   "id": "9c35ee1d",
   "metadata": {
    "slideshow": {
     "slide_type": "slide"
    }
   },
   "source": [
    "## The information ratio\n",
    "\n",
    "We can define one more important statistic, the **information ratio**:\n",
    "$$\n",
    "\\text{IR}_{ip} \\quad = \\quad \\frac{\\alpha_{ip}}{\\sigma(\\varepsilon_{ipt})}\n",
    "$$\n",
    "\n",
    "If an investor currently holds $p$, and is considering whether to add more of $i$,\n",
    "the *maximum* Sharpe ratio they can achieve from this is\n",
    "\n",
    "$$\n",
    "SR_{\\text{max}} = \\sqrt{ SR_{p}^2 + IR_{ip}^2 }\n",
    "$$\n",
    "(textbook formula 8.26)\n",
    "\n",
    "$\\sigma(\\varepsilon_{ipt})$ is the standard deviation of $\\varepsilon_{ipt}$ from the prior slide.\n",
    "We can also calculate it as: \n",
    "$$ \n",
    "\\sigma( \\varepsilon_{ipt} ) = \\sqrt{ \\sigma_i^2 - \\beta_{ip}^2 \\sigma_p^2 }\n",
    "$$\n",
    "Like the Sharpe ratio, the IR is not affected by leverage."
   ]
  },
  {
   "cell_type": "markdown",
   "id": "0d6d1b47",
   "metadata": {
    "slideshow": {
     "slide_type": "slide"
    }
   },
   "source": [
    "## From portfolio theory to the CAPM\n",
    "\n",
    "Portfolio theory tells us what a mean-variance investor should do, given their predictions about μ, σ, and ρ.\n",
    "The Capital Asset Pricing Model (CAPM) asks what would happen, if all investors actually followed this advice, and made the same forecasts:\n",
    "- With the same forecasts, they choose the same risky portfolio.\n",
    "- The only portfolio they can all choose is the market portfolio.\n",
    "- So, it must in fact have the highest possible Sharpe ratio.\n",
    "- Then all investments have zero α with respect to it.\n",
    "- More precisely, the best *prediction* of α is always zero.  \n",
    "We will always find investments with nonzero α in past data.  \n",
    "But the CAPM says you could not have picked them in advance."
   ]
  },
  {
   "cell_type": "markdown",
   "id": "c35e9e1b",
   "metadata": {
    "slideshow": {
     "slide_type": "slide"
    }
   },
   "source": [
    "## The Capital Asset Pricing Model (CAPM)\n",
    "\n",
    "Conclusion: The best prediction about every investment is that\n",
    "\n",
    "$$\n",
    "\\mathbb{E}[r_i − r_f ] = \\beta_{im} × \\mathbb{E}[r_m − r_f ]\n",
    "$$\n",
    "\n",
    "This appears similar to our earlier formula, but says much more:\n",
    "- Portfolio theory says what an individual should do, but does not make any predictions about what will actually happen.\n",
    "- The CAPM does: It predicts that all investments have zero α.\n",
    "If some investment had a positive α, then all investors should try\n",
    "to buy it, and prices should simply adjust until that α disappears.\n",
    "- In other words, the CAPM describes an equilibrium."
   ]
  },
  {
   "cell_type": "markdown",
   "id": "110a8e01",
   "metadata": {
    "slideshow": {
     "slide_type": "slide"
    }
   },
   "source": [
    "## The CAPM uses ideas from portfolio theory\n",
    "\n",
    "The logic behind the CAPM formula is really just portfolio theory,\n",
    "applied to the case of an investor who holds the market portfolio:\n",
    "- $\\beta_{im}$ is a (rescaled) correlation with the market portfolio.\n",
    "It is also the slope of the best-fit line from regressing $r_i$ on $r_m$.\n",
    "- $\\alpha_{im}$ measures whether investment i beats its hurdle rate.\n",
    "It is also the intercept of the same best-fit regression line.\n",
    "- Suppose we start from the market portfolio and add more of i.  \n",
    "$\\beta_{im} \\lessgtr 1$ tells us whether portfolio volatility grows or shrinks,  \n",
    "$\\alpha_{im} \\lessgtr 0$ tells us whether portfolio Sharpe ratio grows or shrinks.\n",
    "\n",
    "Again, the new thing is the prediction that $\\alpha_{im}$ is always zero.\n",
    "\n",
    "This also means $IR_{im} = 0$, so indexing is the best strategy."
   ]
  },
  {
   "cell_type": "markdown",
   "id": "f5a15664",
   "metadata": {
    "slideshow": {
     "slide_type": "slide"
    }
   },
   "source": [
    "## The market portfolio in theory and in practice\n",
    "\n",
    "- The CAPM gives a special role to the “market portfolio,” which theoretically includes *every* risky investment.\n",
    "\n",
    "- To use the CAPM, we need to measure the market portfolio’s return, in order to estimate $\\beta_{im}$. This is clearly a difficult task.\n",
    "\n",
    "- Most investment in the US is allocated to the stock market, and the average stock investor holds a value-weighted portfolio.\n",
    "\n",
    "- So, *in practice,* people typically represent the market portfolio with a large, value-weighted portfolio of US stocks.\n",
    "\n",
    "- Be aware that this is a big simplification of the theory. The “true” market portfolio would include not only stocks, but also corporate bonds, real estate, commodities, etc..."
   ]
  },
  {
   "cell_type": "markdown",
   "id": "5bc4ad0e",
   "metadata": {
    "slideshow": {
     "slide_type": "slide"
    }
   },
   "source": [
    "## What does market risk look like?\n",
    "\n",
    "Here’s a view of the market portfolio, as it is usually measured:\n",
    "This figure plots monthly returns on the VFINX index fund."
   ]
  },
  {
   "cell_type": "code",
   "execution_count": 1,
   "id": "72b45c26",
   "metadata": {
    "slideshow": {
     "slide_type": "skip"
    }
   },
   "outputs": [],
   "source": [
    "%%capture\n",
    "\n",
    "import pandas as pd\n",
    "pd.options.mode.chained_assignment = None  # default='warn'\n",
    "\n",
    "import os\n",
    "import wrds\n",
    "import fredapi\n",
    "import math\n",
    "import numpy as np\n",
    "import quandl\n",
    "\n",
    "from matplotlib import pyplot as plt\n",
    "plt.rcParams['figure.figsize'] = [16.0, 8.0]\n",
    "from scipy.optimize import minimize\n",
    "\n",
    "import statsmodels.formula.api as sm\n",
    "\n",
    "conn = wrds.Connection(wrds_username='wmann')\n",
    "\n",
    "FF3F = conn.get_table(library='ff_all',table='factors_monthly')\n",
    "FF3F['month'] = pd.to_datetime(FF3F['date']).dt.to_period('M')\n",
    "FF3F = FF3F.drop('date',axis=1).drop('dateff',axis=1).set_index('month')\n",
    "riskfree = FF3F.rf.astype('float64')\n",
    "riskfree = riskfree['2012':'2016']\n",
    "\n",
    "VFINX_crsp_fundno = conn.raw_sql(\"select crsp_fundno, ticker from crsp_q_mutualfunds.fund_hdr where ticker = 'VFINX'\").reset_index().crsp_fundno[0]\n",
    "VFINX = conn.raw_sql(\"select caldt, mret from crsp_q_mutualfunds.monthly_returns where crsp_fundno = \" + str(VFINX_crsp_fundno))\n",
    "# Convert string date to datetime\n",
    "VFINX = VFINX.set_index( pd.to_datetime(VFINX.set_index('caldt').index) ).drop('caldt',axis=1)\n",
    "# Aggregate to monthly level\n",
    "VFINX['month'] = VFINX.index.to_period('M')\n",
    "VFINX = (VFINX.set_index('month') + 1).groupby('month').prod() - 1\n",
    "VFINX.columns = ['VFINX']\n",
    "\n",
    "conn.close()\n",
    "\n",
    "VFINX_excess = VFINX['VFINX']['2012':'2016'] - pd.DataFrame(riskfree['2012':'2016'])['rf']\n",
    "VFINX_fig,ax = plt.subplots()\n",
    "VFINX_excess.plot(ax=ax,color='gray')"
   ]
  },
  {
   "cell_type": "code",
   "execution_count": 2,
   "id": "ef193dd7",
   "metadata": {
    "slideshow": {
     "slide_type": "-"
    }
   },
   "outputs": [
    {
     "data": {
      "image/png": "[encoded data removed]",
      "text/plain": [
       "<Figure size 1152x576 with 1 Axes>"
      ]
     },
     "execution_count": 2,
     "metadata": {},
     "output_type": "execute_result"
    }
   ],
   "source": [
    "VFINX_fig"
   ]
  },
  {
   "cell_type": "markdown",
   "id": "b65df0fd",
   "metadata": {
    "slideshow": {
     "slide_type": "slide"
    }
   },
   "source": [
    "## What does market risk look like?\n",
    "\n",
    "Add in the return of an ETF of retail stocks, with dividends reinvested.\n",
    "\n",
    "The ETF's monthly return has 3% volatility and a market $\\beta$ of 1.09."
   ]
  },
  {
   "cell_type": "code",
   "execution_count": 3,
   "id": "faa3e503",
   "metadata": {
    "slideshow": {
     "slide_type": "skip"
    }
   },
   "outputs": [],
   "source": [
    "%%capture\n",
    "\n",
    "conn = wrds.Connection(wrds_username='wmann')\n",
    "XRT_crsp_fundno = conn.raw_sql(\"select crsp_fundno, ticker from crsp_q_mutualfunds.fund_hdr where ticker = 'XRT'\").reset_index().crsp_fundno[0]\n",
    "XRT = conn.raw_sql(\"select caldt, mret from crsp_q_mutualfunds.monthly_returns where crsp_fundno = \" + str(XRT_crsp_fundno))\n",
    "conn.close()\n",
    "\n",
    "# Convert string date to datetime\n",
    "XRT = XRT.set_index( pd.to_datetime(XRT.set_index('caldt').index) ).drop('caldt',axis=1)\n",
    "# Aggregate to monthly level\n",
    "XRT['month'] = XRT.index.to_period('M')\n",
    "XRT = (XRT.set_index('month') + 1).groupby('month').prod() - 1\n",
    "XRT.columns = ['XRT']\n",
    "\n",
    "XRT_excess = XRT['XRT']['2012':'2016'] - pd.DataFrame(riskfree['2012':'2016'])['rf']\n",
    "VFINX_XRT_fig,ax = plt.subplots()\n",
    "VFINX_excess['2012':'2016'].plot(ax=ax,color='gray')\n",
    "XRT_excess['2012':'2016'].plot(ax=ax,color='blue')"
   ]
  },
  {
   "cell_type": "code",
   "execution_count": 4,
   "id": "385ab176",
   "metadata": {
    "slideshow": {
     "slide_type": "-"
    }
   },
   "outputs": [
    {
     "data": {
      "image/png": "[encoded data removed]",
      "text/plain": [
       "<Figure size 1152x576 with 1 Axes>"
      ]
     },
     "execution_count": 4,
     "metadata": {},
     "output_type": "execute_result"
    }
   ],
   "source": [
    "VFINX_XRT_fig"
   ]
  },
  {
   "cell_type": "markdown",
   "id": "58005e22",
   "metadata": {
    "slideshow": {
     "slide_type": "slide"
    }
   },
   "source": [
    "## What does market risk look like?\n",
    "\n",
    "Replace the retail ETF with a gold ETF.\n",
    "This ETF's monthly return has 5% volatility, but a beta of only 0.09."
   ]
  },
  {
   "cell_type": "code",
   "execution_count": 5,
   "id": "8380cf32",
   "metadata": {
    "slideshow": {
     "slide_type": "skip"
    }
   },
   "outputs": [],
   "source": [
    "%%capture\n",
    "conn = wrds.Connection(wrds_username='wmann')\n",
    "GLD_crsp_fundno = conn.raw_sql(\"select crsp_fundno, ticker from crsp_q_mutualfunds.fund_hdr where ticker = 'GLD'\").reset_index().crsp_fundno[0]\n",
    "GLD = conn.raw_sql(\"select caldt, mret from crsp_q_mutualfunds.monthly_returns where crsp_fundno = \" + str(GLD_crsp_fundno))\n",
    "conn.close()\n",
    "# Convert string date to datetime\n",
    "GLD = GLD.set_index( pd.to_datetime(GLD.set_index('caldt').index) ).drop('caldt',axis=1)\n",
    "# Aggregate to monthly level\n",
    "GLD['month'] = GLD.index.to_period('M')\n",
    "GLD = (GLD.set_index('month') + 1).groupby('month').prod() - 1\n",
    "GLD.columns = ['GLD']\n",
    "\n",
    "GLD_excess = GLD['GLD']['2012':'2016'] - pd.DataFrame(riskfree['2012':'2016'])['rf']\n",
    "VFINX_GLD_fig,ax = plt.subplots()\n",
    "VFINX_excess['2012':'2016'].plot(ax=ax,color='gray')\n",
    "GLD_excess['2012':'2016'].plot(ax=ax,color='blue')"
   ]
  },
  {
   "cell_type": "code",
   "execution_count": 6,
   "id": "506605e9",
   "metadata": {
    "slideshow": {
     "slide_type": "-"
    }
   },
   "outputs": [
    {
     "data": {
      "image/png": "[encoded data removed]",
      "text/plain": [
       "<Figure size 1152x576 with 1 Axes>"
      ]
     },
     "execution_count": 6,
     "metadata": {},
     "output_type": "execute_result"
    }
   ],
   "source": [
    "VFINX_GLD_fig"
   ]
  },
  {
   "cell_type": "markdown",
   "id": "980ae407",
   "metadata": {
    "slideshow": {
     "slide_type": "slide"
    }
   },
   "source": [
    "## What does market risk look like?\n",
    "\n",
    "Here’s a different view of the same data on the retail ETF return:  \n",
    "β is the slope of the best-fit line in the figure. Here, β = 1.09."
   ]
  },
  {
   "cell_type": "code",
   "execution_count": 7,
   "id": "a16a29c0",
   "metadata": {
    "slideshow": {
     "slide_type": "skip"
    }
   },
   "outputs": [],
   "source": [
    "%%capture\n",
    "\n",
    "# Define function to compactly estimate a best-fit line\n",
    "def best_fit(y,x):\n",
    "    from statsmodels.api import add_constant\n",
    "    from statsmodels.regression.linear_model import OLS\n",
    "    params = list( OLS(y,add_constant(x),hasconst=True).fit().params )\n",
    "    alpha = params[0]\n",
    "    beta = params[1]\n",
    "    return alpha,beta"
   ]
  },
  {
   "cell_type": "code",
   "execution_count": 8,
   "id": "085c39bf",
   "metadata": {
    "slideshow": {
     "slide_type": "skip"
    }
   },
   "outputs": [],
   "source": [
    "%%capture\n",
    "\n",
    "# Generate new figure\n",
    "XRT_VFINX_scatter,ax = plt.subplots()\n",
    "# Scatter plot returns\n",
    "plt.scatter(VFINX_excess['2012':'2016'],XRT_excess['2012':'2016'])\n",
    "# Add best-fit line\n",
    "alpha,beta = best_fit(XRT_excess['2012':'2016'],VFINX_excess['2012':'2016'])\n",
    "ax.axline([0,alpha],[1,alpha+beta],color='orange')\n",
    "# Add axes\n",
    "ax.axline([0,0],[1,0],color='black',linewidth=0.5)\n",
    "ax.axline([0,0],[0,1],color='black',linewidth=0.5)\n",
    "# Set range of axes\n",
    "ax.set_xlim([-0.15,0.15])\n",
    "ax.set_ylim([-0.15,0.15])"
   ]
  },
  {
   "cell_type": "code",
   "execution_count": 9,
   "id": "04607e2f",
   "metadata": {
    "slideshow": {
     "slide_type": "-"
    }
   },
   "outputs": [
    {
     "data": {
      "image/png": "[encoded data removed]",
      "text/plain": [
       "<Figure size 1152x576 with 1 Axes>"
      ]
     },
     "execution_count": 9,
     "metadata": {},
     "output_type": "execute_result"
    }
   ],
   "source": [
    "XRT_VFINX_scatter"
   ]
  },
  {
   "cell_type": "markdown",
   "id": "cde820b3",
   "metadata": {
    "slideshow": {
     "slide_type": "slide"
    }
   },
   "source": [
    "## What does market risk look like?\n",
    "\n",
    "A similar figure using the gold ETF:  \n",
    "The line here is almost flat, with slope (beta) of 0.09"
   ]
  },
  {
   "cell_type": "code",
   "execution_count": 10,
   "id": "e7fa5727",
   "metadata": {
    "slideshow": {
     "slide_type": "skip"
    }
   },
   "outputs": [],
   "source": [
    "%%capture\n",
    "\n",
    "# Generate new figure\n",
    "GLD_VFINX_scatter,ax = plt.subplots()\n",
    "# Scatter plot returns\n",
    "plt.scatter(VFINX_excess['2012':'2016'],GLD_excess['2012':'2016'])\n",
    "# Add best-fit line\n",
    "b,m = best_fit(GLD_excess['2012':'2016'],VFINX_excess['2012':'2016'])\n",
    "ax.axline([0,b],[1,m+b],color='orange')\n",
    "# Add axes\n",
    "ax.axline([0,0],[1,0],color='black',linewidth=0.5)\n",
    "ax.axline([0,0],[0,1],color='black',linewidth=0.5)\n",
    "# Set range of axes\n",
    "ax.set_xlim([-0.15,0.15])\n",
    "ax.set_ylim([-0.15,0.15])"
   ]
  },
  {
   "cell_type": "code",
   "execution_count": 11,
   "id": "96cd9727",
   "metadata": {
    "slideshow": {
     "slide_type": "-"
    }
   },
   "outputs": [
    {
     "data": {
      "image/png": "[encoded data removed]",
      "text/plain": [
       "<Figure size 1152x576 with 1 Axes>"
      ]
     },
     "execution_count": 11,
     "metadata": {},
     "output_type": "execute_result"
    }
   ],
   "source": [
    "GLD_VFINX_scatter"
   ]
  },
  {
   "cell_type": "markdown",
   "id": "40377dfa",
   "metadata": {
    "slideshow": {
     "slide_type": "slide"
    }
   },
   "source": [
    "## β as a correlation\n",
    "\n",
    "β is the slope of a regression line like the prior ones.\n",
    "\n",
    "Again, one way to interpret this number is that it measures a\n",
    "relationship between the investment and the market.\n",
    "\n",
    "- β = 2: Moves twice as far as the market, on average.\n",
    "- β = 0.5: Moves half as far as the market, on average.\n",
    "- The market portfolio itself has a beta of 1.\n",
    "- A risk-free investment has a beta of zero.\n",
    "- A risky investment can also have a beta of zero!  \n",
    "Gold is a risky investment with approximately zero beta.\n",
    "\n",
    "The CAPM focuses only on β, so it predicts (correctly) that gold earns low average returns despite having high volatility."
   ]
  },
  {
   "cell_type": "markdown",
   "id": "62a6b5b1",
   "metadata": {
    "slideshow": {
     "slide_type": "slide"
    }
   },
   "source": [
    "## β as non-diversifiable risk\n",
    "\n",
    "A related interpretation is that β measures \"non-diversifiable\" risk.\n",
    "- Gold has a low beta because its returns, while very volatile,\n",
    "have very little economic connection to the overall market.\n",
    "- Adding gold decreases the market portfolio’s volatility (β < 1).\n",
    "We call this idiosyncratic risk or diversifiable risk.\n",
    "- By contrast, retail stocks have a very high beta, because the\n",
    "performance of these stocks is closely tied to the overall market.\n",
    "- When you increase holdings of retail stocks in your market\n",
    "portfolio, their risk reinforces the volatility you were already\n",
    "exposed to, and your portfolo volatility slightly increases (β > 1).\n",
    "We call this market risk, non-diversifiable risk, or systematic risk.\n",
    "\n",
    "The CAPM says that investors only care about *non*-diversifiable risk.\n",
    "\n",
    "Diversifiable risk does not matter to them, because it disappears when the investment is added to their portfolio."
   ]
  },
  {
   "cell_type": "markdown",
   "id": "d4d95683",
   "metadata": {
    "slideshow": {
     "slide_type": "slide"
    }
   },
   "source": [
    "## Application: The analysis of Homework 2\n",
    "\n",
    "We will reproduce the results of that assignment, and then see how the formulas from this week are another path to the same answers."
   ]
  },
  {
   "cell_type": "code",
   "execution_count": 12,
   "id": "db9752f3",
   "metadata": {
    "slideshow": {
     "slide_type": "skip"
    }
   },
   "outputs": [
    {
     "name": "stdout",
     "output_type": "stream",
     "text": [
      "Loading library list...\n",
      "Done\n"
     ]
    }
   ],
   "source": [
    "# Risk-free rate from the Fama and French data\n",
    "conn = wrds.Connection(wrds_username='wmann')\n",
    "FF3F = conn.get_table(library='ff_all',table='factors_monthly')\n",
    "conn.close()\n",
    "FF3F['month'] = pd.to_datetime(FF3F['date']).dt.to_period('M')\n",
    "FF3F = FF3F.drop('date',axis=1).drop('dateff',axis=1).set_index('month')\n",
    "riskfree = FF3F.rf.astype('float64')\n",
    "riskfree = riskfree['2008':'2023']"
   ]
  },
  {
   "cell_type": "code",
   "execution_count": 13,
   "id": "bedcfba2",
   "metadata": {
    "slideshow": {
     "slide_type": "skip"
    }
   },
   "outputs": [],
   "source": [
    "# Gold data from LBMA\n",
    "LBMA_token_string = open('/home/william/LBMA_token.txt').read().rstrip()\n",
    "Gold = quandl.get(\"LBMA/GOLD\",authtoken=LBMA_token_string)\n",
    "Gold = Gold['USD (AM)']\n",
    "Gold = Gold.reset_index().resample('M',on='Date')['USD (AM)'].agg(['last'])\n",
    "Gold['month'] = Gold.index.to_period('M')\n",
    "Gold = Gold.reset_index().drop('Date',axis=1).set_index('month')\n",
    "Gold.columns = ['Gold']\n",
    "Gold = Gold / Gold.shift() - 1\n",
    "Gold = Gold['2008':'2023']"
   ]
  },
  {
   "cell_type": "code",
   "execution_count": 14,
   "id": "b52746db",
   "metadata": {
    "slideshow": {
     "slide_type": "skip"
    }
   },
   "outputs": [
    {
     "name": "stdout",
     "output_type": "stream",
     "text": [
      "Loading library list...\n",
      "Done\n"
     ]
    }
   ],
   "source": [
    "# VFINX returns from WRDS\n",
    "conn = wrds.Connection(wrds_username='wmann')\n",
    "VFINX_crsp_fundno = conn.raw_sql(\"select crsp_fundno, ticker from crsp_q_mutualfunds.fund_hdr where ticker = 'VFINX'\").reset_index().crsp_fundno[0]\n",
    "VFINX = conn.raw_sql(\"select caldt, mret from crsp_q_mutualfunds.monthly_returns where crsp_fundno = \" + str(VFINX_crsp_fundno))\n",
    "conn.close()\n",
    "# Convert string date to datetime\n",
    "VFINX = VFINX.set_index( pd.to_datetime(VFINX.set_index('caldt').index) ).drop('caldt',axis=1)\n",
    "# Aggregate to monthly level\n",
    "VFINX['month'] = VFINX.index.to_period('M')\n",
    "VFINX = (VFINX.set_index('month') + 1).groupby('month').prod() - 1\n",
    "VFINX.columns = ['VFINX']\n",
    "VFINX = VFINX['2008':'2023']"
   ]
  },
  {
   "cell_type": "code",
   "execution_count": 15,
   "id": "368f5ae8",
   "metadata": {
    "slideshow": {
     "slide_type": "skip"
    }
   },
   "outputs": [],
   "source": [
    "# Combine all datasets together\n",
    "HWdata = VFINX.join(Gold.join(riskfree))['2008':'2023']"
   ]
  },
  {
   "cell_type": "code",
   "execution_count": 16,
   "id": "a10d124b",
   "metadata": {
    "slideshow": {
     "slide_type": "skip"
    }
   },
   "outputs": [],
   "source": [
    "try: os.remove(\"Homework 2 example.xlsx\")\n",
    "except OSError: pass\n",
    "\n",
    "# set up custom ExcelWriter engine to get the date format correct in the output file\n",
    "writer = pd.ExcelWriter('Homework 2 example.xlsx', engine='xlsxwriter', datetime_format= \"yyyy-mm\")\n",
    "\n",
    "HWdata.to_excel(writer,sheet_name='Data')\n",
    "\n",
    "writer.close()"
   ]
  },
  {
   "cell_type": "markdown",
   "id": "0783bf97",
   "metadata": {
    "slideshow": {
     "slide_type": "slide"
    }
   },
   "source": [
    "I have already downloaded the data on VFINX, gold, and risk-free returns into a dataframe. Here are the first four months:"
   ]
  },
  {
   "cell_type": "code",
   "execution_count": 17,
   "id": "762d01af",
   "metadata": {
    "slideshow": {
     "slide_type": "-"
    }
   },
   "outputs": [
    {
     "data": {
      "text/html": [
       "<div>\n",
       "<style scoped>\n",
       "    .dataframe tbody tr th:only-of-type {\n",
       "        vertical-align: middle;\n",
       "    }\n",
       "\n",
       "    .dataframe tbody tr th {\n",
       "        vertical-align: top;\n",
       "    }\n",
       "\n",
       "    .dataframe thead th {\n",
       "        text-align: right;\n",
       "    }\n",
       "</style>\n",
       "<table border=\"1\" class=\"dataframe\">\n",
       "  <thead>\n",
       "    <tr style=\"text-align: right;\">\n",
       "      <th></th>\n",
       "      <th>VFINX</th>\n",
       "      <th>Gold</th>\n",
       "      <th>rf</th>\n",
       "    </tr>\n",
       "    <tr>\n",
       "      <th>month</th>\n",
       "      <th></th>\n",
       "      <th></th>\n",
       "      <th></th>\n",
       "    </tr>\n",
       "  </thead>\n",
       "  <tbody>\n",
       "    <tr>\n",
       "      <th>2008-01</th>\n",
       "      <td>-0.060155</td>\n",
       "      <td>0.104304</td>\n",
       "      <td>0.0021</td>\n",
       "    </tr>\n",
       "    <tr>\n",
       "      <th>2008-02</th>\n",
       "      <td>-0.032515</td>\n",
       "      <td>0.048985</td>\n",
       "      <td>0.0013</td>\n",
       "    </tr>\n",
       "    <tr>\n",
       "      <th>2008-03</th>\n",
       "      <td>-0.004405</td>\n",
       "      <td>-0.032766</td>\n",
       "      <td>0.0017</td>\n",
       "    </tr>\n",
       "    <tr>\n",
       "      <th>2008-04</th>\n",
       "      <td>0.048542</td>\n",
       "      <td>-0.074153</td>\n",
       "      <td>0.0018</td>\n",
       "    </tr>\n",
       "  </tbody>\n",
       "</table>\n",
       "</div>"
      ],
      "text/plain": [
       "            VFINX      Gold      rf\n",
       "month                              \n",
       "2008-01 -0.060155  0.104304  0.0021\n",
       "2008-02 -0.032515  0.048985  0.0013\n",
       "2008-03 -0.004405 -0.032766  0.0017\n",
       "2008-04  0.048542 -0.074153  0.0018"
      ]
     },
     "execution_count": 17,
     "metadata": {},
     "output_type": "execute_result"
    }
   ],
   "source": [
    "HWdata[0:4]"
   ]
  },
  {
   "cell_type": "markdown",
   "id": "a5f2c3ab",
   "metadata": {
    "slideshow": {
     "slide_type": "slide"
    }
   },
   "source": [
    "First step: Calculate excess returns"
   ]
  },
  {
   "cell_type": "code",
   "execution_count": 18,
   "id": "1fd22cd6",
   "metadata": {
    "slideshow": {
     "slide_type": "-"
    }
   },
   "outputs": [
    {
     "data": {
      "text/html": [
       "<div>\n",
       "<style scoped>\n",
       "    .dataframe tbody tr th:only-of-type {\n",
       "        vertical-align: middle;\n",
       "    }\n",
       "\n",
       "    .dataframe tbody tr th {\n",
       "        vertical-align: top;\n",
       "    }\n",
       "\n",
       "    .dataframe thead th {\n",
       "        text-align: right;\n",
       "    }\n",
       "</style>\n",
       "<table border=\"1\" class=\"dataframe\">\n",
       "  <thead>\n",
       "    <tr style=\"text-align: right;\">\n",
       "      <th></th>\n",
       "      <th>VFINX</th>\n",
       "      <th>Gold</th>\n",
       "      <th>rf</th>\n",
       "      <th>VFINX_excess</th>\n",
       "      <th>Gold_excess</th>\n",
       "    </tr>\n",
       "    <tr>\n",
       "      <th>month</th>\n",
       "      <th></th>\n",
       "      <th></th>\n",
       "      <th></th>\n",
       "      <th></th>\n",
       "      <th></th>\n",
       "    </tr>\n",
       "  </thead>\n",
       "  <tbody>\n",
       "    <tr>\n",
       "      <th>2008-01</th>\n",
       "      <td>-0.060155</td>\n",
       "      <td>0.104304</td>\n",
       "      <td>0.0021</td>\n",
       "      <td>-0.062255</td>\n",
       "      <td>0.102204</td>\n",
       "    </tr>\n",
       "    <tr>\n",
       "      <th>2008-02</th>\n",
       "      <td>-0.032515</td>\n",
       "      <td>0.048985</td>\n",
       "      <td>0.0013</td>\n",
       "      <td>-0.033815</td>\n",
       "      <td>0.047685</td>\n",
       "    </tr>\n",
       "    <tr>\n",
       "      <th>2008-03</th>\n",
       "      <td>-0.004405</td>\n",
       "      <td>-0.032766</td>\n",
       "      <td>0.0017</td>\n",
       "      <td>-0.006105</td>\n",
       "      <td>-0.034466</td>\n",
       "    </tr>\n",
       "    <tr>\n",
       "      <th>2008-04</th>\n",
       "      <td>0.048542</td>\n",
       "      <td>-0.074153</td>\n",
       "      <td>0.0018</td>\n",
       "      <td>0.046742</td>\n",
       "      <td>-0.075953</td>\n",
       "    </tr>\n",
       "  </tbody>\n",
       "</table>\n",
       "</div>"
      ],
      "text/plain": [
       "            VFINX      Gold      rf  VFINX_excess  Gold_excess\n",
       "month                                                         \n",
       "2008-01 -0.060155  0.104304  0.0021     -0.062255     0.102204\n",
       "2008-02 -0.032515  0.048985  0.0013     -0.033815     0.047685\n",
       "2008-03 -0.004405 -0.032766  0.0017     -0.006105    -0.034466\n",
       "2008-04  0.048542 -0.074153  0.0018      0.046742    -0.075953"
      ]
     },
     "execution_count": 18,
     "metadata": {},
     "output_type": "execute_result"
    }
   ],
   "source": [
    "HWdata['VFINX_excess'] = HWdata['VFINX'] - HWdata['rf']\n",
    "HWdata['Gold_excess'] = HWdata['Gold'] - HWdata['rf']\n",
    "HWdata[0:4]"
   ]
  },
  {
   "cell_type": "markdown",
   "id": "6b628736",
   "metadata": {
    "slideshow": {
     "slide_type": "slide"
    }
   },
   "source": [
    "In the homework we found the portfolio with the highest Sharpe ratio. \n",
    "Let's quickly calculate that answer again, using the matrix formulas form last week:"
   ]
  },
  {
   "cell_type": "code",
   "execution_count": 19,
   "id": "26515264",
   "metadata": {
    "slideshow": {
     "slide_type": "-"
    }
   },
   "outputs": [
    {
     "name": "stdout",
     "output_type": "stream",
     "text": [
      "The portfolio with the highest Sharpe ratio is:\n",
      " 35.044% Gold,\n",
      " 64.956% VFINX.\n",
      "It has a Sharpe ratio of 0.19769.\n"
     ]
    }
   ],
   "source": [
    "Sigma = np.cov( [ HWdata['Gold_excess'] , HWdata['VFINX_excess'] ] )\n",
    "mu = [ HWdata['Gold_excess'].mean() , HWdata['VFINX_excess'].mean() ]\n",
    "Optimal_weights_unscaled = np.linalg.inv(Sigma) @ mu\n",
    "Optimal_weights = (\n",
    "    Optimal_weights_unscaled / Optimal_weights_unscaled.sum()\n",
    "    )\n",
    "Optimal_Gold_weight, Optimal_VFINX_weight = Optimal_weights\n",
    "\n",
    "print(\"The portfolio with the highest Sharpe ratio is:\")\n",
    "print(f\" {100*Optimal_Gold_weight :.3f}% Gold,\")\n",
    "print(f\" {100*Optimal_VFINX_weight :.3f}% VFINX.\")\n",
    "\n",
    "Optimal_mu = Optimal_weights @ mu\n",
    "Optimal_sigma = np.sqrt( Optimal_weights @ (Sigma @ Optimal_weights) )\n",
    "Optimal_SR = Optimal_mu / Optimal_sigma\n",
    "\n",
    "print(f\"It has a Sharpe ratio of {Optimal_SR :.5f}.\")"
   ]
  },
  {
   "cell_type": "markdown",
   "id": "a8edc36b",
   "metadata": {
    "slideshow": {
     "slide_type": "slide"
    }
   },
   "source": [
    "### Using the Sharpe ratio formula from above\n",
    "\n",
    "Now let's look at the first formula from this week. It say that we want to increase allocation to any investment $i$ as long as $SR_i > \\rho_{ip} \\times SR_p$, where $p$ is the portfolio we currently hold.\n",
    "\n",
    "Let's apply this formula to the homework analysis, with gold playing the role of investment $i$ and VFINX the portfolio $p$."
   ]
  },
  {
   "cell_type": "markdown",
   "id": "e72c6f26",
   "metadata": {
    "slideshow": {
     "slide_type": "slide"
    }
   },
   "source": [
    "First we calculate the Sharpe ratio of gold:"
   ]
  },
  {
   "cell_type": "code",
   "execution_count": 20,
   "id": "7517299d",
   "metadata": {
    "slideshow": {
     "slide_type": "-"
    }
   },
   "outputs": [
    {
     "name": "stdout",
     "output_type": "stream",
     "text": [
      "Sharpe ratio of gold: 0.10652\n"
     ]
    }
   ],
   "source": [
    "Gold_SR = HWdata['Gold_excess'].mean() / HWdata['Gold_excess'].std()\n",
    "print(f\"Sharpe ratio of gold: {Gold_SR :.5f}\")"
   ]
  },
  {
   "cell_type": "markdown",
   "id": "b4833cd0",
   "metadata": {
    "slideshow": {
     "slide_type": "slide"
    }
   },
   "source": [
    "Now imagine we start off holding just VFINX, and are considering whether to allocate some to gold.\n",
    "Calculate the Sharpe ratio of VFINX by itself, and the correlation of gold with VFINX."
   ]
  },
  {
   "cell_type": "code",
   "execution_count": 21,
   "id": "085a0303",
   "metadata": {
    "slideshow": {
     "slide_type": "-"
    }
   },
   "outputs": [
    {
     "name": "stdout",
     "output_type": "stream",
     "text": [
      "Sharpe ratio of VFINX: 0.17349\n",
      "Correlation of gold with VFINX: 0.06893\n",
      "Multiply these two together: 0.01196\n"
     ]
    }
   ],
   "source": [
    "VFINX_SR = HWdata['VFINX_excess'].mean() / HWdata['VFINX_excess'].std()\n",
    "Corr_Gold_VFINX = np.corrcoef(\n",
    "    [ HWdata['VFINX_excess'] , HWdata['Gold_excess'] ]\n",
    "    )[0,1]\n",
    "\n",
    "print(f\"Sharpe ratio of VFINX: {VFINX_SR :.5f}\")\n",
    "print(f\"Correlation of gold with VFINX: {Corr_Gold_VFINX :.5f}\")\n",
    "print(f\"Multiply these two together: {VFINX_SR*Corr_Gold_VFINX :.5f}\")"
   ]
  },
  {
   "cell_type": "markdown",
   "id": "a2147594",
   "metadata": {
    "slideshow": {
     "slide_type": "-"
    }
   },
   "source": [
    "Because the Sharpe ratio of gold was greater than this, we conclude that we can achieve a higher portfolio Sharpe ratio if we allocate *some* amount to gold."
   ]
  },
  {
   "cell_type": "markdown",
   "id": "2b6cc354",
   "metadata": {
    "slideshow": {
     "slide_type": "slide"
    }
   },
   "source": [
    "Now suppose we try an allocation of 20% to gold. We can simulate the returns of this allocation, and then redo the \n",
    "calculations just above with this new allocation playing the role of $p$, our current portfolio."
   ]
  },
  {
   "cell_type": "code",
   "execution_count": 22,
   "id": "4966fe81",
   "metadata": {
    "slideshow": {
     "slide_type": "-"
    }
   },
   "outputs": [
    {
     "name": "stdout",
     "output_type": "stream",
     "text": [
      "Sharpe ratio of an allocation 20% gold, 80% VFINX: 0.19169\n",
      "Correlation of gold with this allocation: 0.31633\n",
      "Multiply these two together: 0.06064\n"
     ]
    }
   ],
   "source": [
    "HWdata['Gold20'] = 0.2*HWdata['Gold_excess']+0.8*HWdata['VFINX_excess']\n",
    "Gold20_SR = HWdata['Gold20'].mean() / HWdata['Gold20'].std()\n",
    "Corr_Gold_Gold20 = np.corrcoef(\n",
    "    [HWdata['Gold_excess'],HWdata['Gold20']]\n",
    "    )[0,1]\n",
    "\n",
    "print(f\"Sharpe ratio of an allocation 20% gold, 80% VFINX: {Gold20_SR :.5f}\")\n",
    "print(f\"Correlation of gold with this allocation: {Corr_Gold_Gold20 :.5f}\")\n",
    "print(f\"Multiply these two together: {Gold20_SR*Corr_Gold_Gold20 :.5f}\")"
   ]
  },
  {
   "cell_type": "markdown",
   "id": "719315db",
   "metadata": {
    "slideshow": {
     "slide_type": "-"
    }
   },
   "source": [
    "The result is still less than the Sharpe ratio of gold by itself that we calculated earlier. So we conclude that we should allocate more than 20% to gold. "
   ]
  },
  {
   "cell_type": "markdown",
   "id": "02903442",
   "metadata": {
    "slideshow": {
     "slide_type": "slide"
    }
   },
   "source": [
    "We can repeat this process by trial and error (or by coding up an optimizer to do it for us).\n",
    "It will eventually settle down to the answer we found in Homework 2.\n",
    "Let's verify that once we reach that answer, the two sides of the equation are exactly equal."
   ]
  },
  {
   "cell_type": "code",
   "execution_count": 23,
   "id": "f35dcd5c",
   "metadata": {
    "slideshow": {
     "slide_type": "-"
    }
   },
   "outputs": [
    {
     "name": "stdout",
     "output_type": "stream",
     "text": [
      "Sharpe ratio of gold: 0.10652\n",
      "Sharpe ratio of optimal portfolio from HW2: 0.19769\n",
      "Correlation of optimal portfolio with gold: 0.53880\n",
      "Multiply the last two numbers: 0.10652\n"
     ]
    }
   ],
   "source": [
    "HWdata['Optimal'] = (\n",
    "    Optimal_weights @ [HWdata['Gold_excess'] , HWdata['VFINX_excess']]\n",
    "    )\n",
    "Optimal_SR = HWdata['Optimal'].mean() / HWdata['Optimal'].std()\n",
    "Corr_Optimal_Gold = np.corrcoef(\n",
    "    [ HWdata['Optimal'] , HWdata['Gold_excess'] ]\n",
    "    )[0,1]\n",
    "\n",
    "print(f\"Sharpe ratio of gold: {Gold_SR :.5f}\")\n",
    "print(f\"Sharpe ratio of optimal portfolio from HW2: {Optimal_SR :.5f}\")\n",
    "print(f\"Correlation of optimal portfolio with gold: {Corr_Optimal_Gold :.5f}\")\n",
    "print(f\"Multiply the last two numbers: {Optimal_SR*Corr_Optimal_Gold :.5f}\" )"
   ]
  },
  {
   "cell_type": "markdown",
   "id": "60b2845e",
   "metadata": {
    "slideshow": {
     "slide_type": "-"
    }
   },
   "source": [
    "So this allocation to gold achieves the highest possible Sharpe ratio in our historical data."
   ]
  },
  {
   "cell_type": "markdown",
   "id": "970f4ca4",
   "metadata": {
    "slideshow": {
     "slide_type": "slide"
    }
   },
   "source": [
    "## Formula with alpha\n",
    "\n",
    "The next formula from this week said that we want to add more allocation to an investment $i$ as long as it has positive $\\alpha$ with respect to our current portfolio.\n",
    "\n",
    "$\\alpha$ measures how much an investment outperforms its hurdle rate:\n",
    "$$\n",
    "\\alpha_{ip} = \\mathbb{E}[r_i-r_f] - \\beta_{ip}\\times\\mathbb{E}[r_p-r_f]\n",
    "$$\n",
    "\n",
    "We can estimate it in either of two ways:\n",
    "\n",
    "1. Substitute the average excess returns on $i$ and $p$ into the expected values above.\n",
    "\n",
    "2. Get the intercept from a regression of excess returns of $i$ on excess returns of $p$,\n",
    "\n",
    "$$\n",
    "(r_{it}-r_{ft}) = \\alpha_{ip} + \\beta_{ip}\\times(r_{pt} - r_{ft}) + \\varepsilon_{ipt}\n",
    "$$\n",
    "\n",
    "Let's see how these formulas show up in the analysis from Homework 2."
   ]
  },
  {
   "cell_type": "markdown",
   "id": "66209546",
   "metadata": {
    "slideshow": {
     "slide_type": "slide"
    }
   },
   "source": [
    "First we check that gold has a positive $\\alpha$ with respect to VFINX. In the regression table below, the number labeled \"Intercept\" is our estimate of $\\alpha$. The number labeled VFINX is our estimate of $\\beta$."
   ]
  },
  {
   "cell_type": "code",
   "execution_count": 24,
   "id": "677c527a",
   "metadata": {
    "slideshow": {
     "slide_type": "-"
    }
   },
   "outputs": [
    {
     "data": {
      "text/html": [
       "<table class=\"simpletable\">\n",
       "<tr>\n",
       "        <td></td>          <th>coef</th>     <th>std err</th>      <th>t</th>      <th>P>|t|</th>  <th>[0.025</th>    <th>0.975]</th>  \n",
       "</tr>\n",
       "<tr>\n",
       "  <th>Intercept</th>    <td>    0.0047</td> <td>    0.004</td> <td>    1.291</td> <td> 0.198</td> <td>   -0.002</td> <td>    0.012</td>\n",
       "</tr>\n",
       "<tr>\n",
       "  <th>VFINX_excess</th> <td>    0.0727</td> <td>    0.076</td> <td>    0.952</td> <td> 0.342</td> <td>   -0.078</td> <td>    0.223</td>\n",
       "</tr>\n",
       "</table>"
      ],
      "text/plain": [
       "<class 'statsmodels.iolib.table.SimpleTable'>"
      ]
     },
     "execution_count": 24,
     "metadata": {},
     "output_type": "execute_result"
    }
   ],
   "source": [
    "regression = sm.ols(\"Gold_excess ~ VFINX_excess\",data=HWdata)\n",
    "regression.fit().summary().tables[1]"
   ]
  },
  {
   "cell_type": "markdown",
   "id": "a42d5746",
   "metadata": {
    "slideshow": {
     "slide_type": "slide"
    }
   },
   "source": [
    "We can interpret $\\alpha$ as a monthly return. So, we would say that, in our historical data, gold delivers 0.47% per month more than its appropriate hurdle rate based on its $\\beta_{ip}$ with respect to our current portolio of holding only VFINX. \n",
    "\n",
    "The value of 0.0582 for $\\beta$ is very low and effectively zero. This tells us that gold has almost no correlation with the performance of the overall stock market (represented by VFINX), even though gold is very volatile on its own.\n",
    "\n",
    "Since we found a positive $\\alpha$ for gold in the regression, this tells us that we can increase our Sharpe ratio by adding some allocation to gold to our portfolio, starting from zero allocation, and so we should."
   ]
  },
  {
   "cell_type": "markdown",
   "id": "f7ed7f1d",
   "metadata": {
    "slideshow": {
     "slide_type": "slide"
    }
   },
   "source": [
    "Let's quickly check that we can match the alpha and beta value from the regression above by calculating directly with the formulas from slide 4:"
   ]
  },
  {
   "cell_type": "code",
   "execution_count": 25,
   "id": "9645b391",
   "metadata": {
    "slideshow": {
     "slide_type": "-"
    }
   },
   "outputs": [
    {
     "name": "stdout",
     "output_type": "stream",
     "text": [
      "Matching the above regression by direct calculations:\n",
      "  Beta: 0.07272\n",
      "  Alpha: 0.00468\n"
     ]
    }
   ],
   "source": [
    "Corr_Gold_VFINX = np.corrcoef(\n",
    "    [HWdata['Gold_excess'],HWdata['VFINX_excess']]\n",
    "    )[0,1]\n",
    "Vol_Gold = HWdata['Gold_excess'].std()\n",
    "Vol_VFINX = HWdata['VFINX_excess'].std()\n",
    "Beta_Gold_VFINX = Corr_Gold_VFINX * Vol_Gold / Vol_VFINX\n",
    "Alpha_Gold_VFINX = (\n",
    "    HWdata['Gold_excess'].mean() - Beta_Gold_VFINX*HWdata['VFINX_excess'].mean()\n",
    "    )\n",
    "print(\"Matching the above regression by direct calculations:\")\n",
    "print(f\"  Beta: {Beta_Gold_VFINX :.5f}\")\n",
    "print(f\"  Alpha: {Alpha_Gold_VFINX :.5f}\")"
   ]
  },
  {
   "cell_type": "markdown",
   "id": "b1274744",
   "metadata": {
    "slideshow": {
     "slide_type": "slide"
    }
   },
   "source": [
    "Now we again try our allocation of 20% to gold, 80% to VFINX, and evaluate the $\\alpha$ of gold with respect to this allocation:"
   ]
  },
  {
   "cell_type": "code",
   "execution_count": 26,
   "id": "de4927ae",
   "metadata": {
    "slideshow": {
     "slide_type": "-"
    }
   },
   "outputs": [
    {
     "data": {
      "text/html": [
       "<table class=\"simpletable\">\n",
       "<tr>\n",
       "      <td></td>         <th>coef</th>     <th>std err</th>      <th>t</th>      <th>P>|t|</th>  <th>[0.025</th>    <th>0.975]</th>  \n",
       "</tr>\n",
       "<tr>\n",
       "  <th>Intercept</th> <td>    0.0023</td> <td>    0.003</td> <td>    0.656</td> <td> 0.512</td> <td>   -0.005</td> <td>    0.009</td>\n",
       "</tr>\n",
       "<tr>\n",
       "  <th>Gold20</th>    <td>    0.3966</td> <td>    0.086</td> <td>    4.596</td> <td> 0.000</td> <td>    0.226</td> <td>    0.567</td>\n",
       "</tr>\n",
       "</table>"
      ],
      "text/plain": [
       "<class 'statsmodels.iolib.table.SimpleTable'>"
      ]
     },
     "execution_count": 26,
     "metadata": {},
     "output_type": "execute_result"
    }
   ],
   "source": [
    "regression = sm.ols( \"Gold_excess ~ Gold20\", data=HWdata )\n",
    "regression.fit().summary().tables[1]"
   ]
  },
  {
   "cell_type": "markdown",
   "id": "15653946",
   "metadata": {
    "slideshow": {
     "slide_type": "-"
    }
   },
   "source": [
    "There is still some evidence of positive $\\alpha$, suggesting that we could do even better by increasing our allocation to gold some more."
   ]
  },
  {
   "cell_type": "markdown",
   "id": "7ecf6da9",
   "metadata": {
    "slideshow": {
     "slide_type": "slide"
    }
   },
   "source": [
    "Finally, we can check that gold has exactly zero alpha with respect to our optimal solution from Homework 2, so we could find that same answer by tinkering with the portfolio until alpha settles down to zero:"
   ]
  },
  {
   "cell_type": "code",
   "execution_count": 27,
   "id": "ee9d0a0f",
   "metadata": {
    "slideshow": {
     "slide_type": "-"
    }
   },
   "outputs": [
    {
     "data": {
      "text/html": [
       "<table class=\"simpletable\">\n",
       "<tr>\n",
       "      <td></td>         <th>coef</th>     <th>std err</th>      <th>t</th>      <th>P>|t|</th>  <th>[0.025</th>    <th>0.975]</th>  \n",
       "</tr>\n",
       "<tr>\n",
       "  <th>Intercept</th> <td> 2.711e-19</td> <td>    0.003</td> <td> 8.82e-17</td> <td> 1.000</td> <td>   -0.006</td> <td>    0.006</td>\n",
       "</tr>\n",
       "<tr>\n",
       "  <th>Optimal</th>   <td>    0.7389</td> <td>    0.084</td> <td>    8.816</td> <td> 0.000</td> <td>    0.574</td> <td>    0.904</td>\n",
       "</tr>\n",
       "</table>"
      ],
      "text/plain": [
       "<class 'statsmodels.iolib.table.SimpleTable'>"
      ]
     },
     "execution_count": 27,
     "metadata": {},
     "output_type": "execute_result"
    }
   ],
   "source": [
    "regression = sm.ols( \"Gold_excess ~ Optimal\",data=HWdata )\n",
    "regression.fit().summary().tables[1]"
   ]
  },
  {
   "cell_type": "markdown",
   "id": "12f379f1",
   "metadata": {
    "slideshow": {
     "slide_type": "slide"
    }
   },
   "source": [
    "So far we have matched the answers from Homework 2 using two different formulas, one based on Sharpe ratio and one based on $\\alpha$.\n",
    "\n",
    "These two approaches felt very similar, because they are really the same thing, just stating the math in a different way.\n",
    "\n",
    "The second approach explains why $\\alpha$ is used as a general measure of investment performance."
   ]
  },
  {
   "cell_type": "markdown",
   "id": "c97365db",
   "metadata": {
    "slideshow": {
     "slide_type": "slide"
    }
   },
   "source": [
    "### Analysis based on information ratios\n",
    "\n",
    "The information ratio is $\\alpha$ scaled by a measure of risk. Where $\\alpha$ just says whether it's *possible* to improve your Sharpe ratio using a new investment, the information ratio tells us *how much* your performance can improve using that investment, and how much you want to allocate to it.\n",
    "\n",
    "The information ratio can help investors judge whether it's actually worthwhile to pursue a new investment. By the same token, active managers should focus on achieving a high information ratio with respect to their benchmark, because this is how they will attract more funds."
   ]
  },
  {
   "cell_type": "markdown",
   "id": "f623b1ba",
   "metadata": {
    "slideshow": {
     "slide_type": "slide"
    }
   },
   "source": [
    "We start out by calculating the information ratio of gold with respect to VFINX:"
   ]
  },
  {
   "cell_type": "code",
   "execution_count": 28,
   "id": "754cc7ff",
   "metadata": {
    "slideshow": {
     "slide_type": "-"
    }
   },
   "outputs": [
    {
     "name": "stdout",
     "output_type": "stream",
     "text": [
      "Information ratio of gold with respect to VFINX: 0.09478\n"
     ]
    }
   ],
   "source": [
    "regression = sm.ols(\"Gold_excess ~ VFINX_excess\",data=HWdata).fit()\n",
    "alpha = regression.params[0]\n",
    "resid_std = regression.resid.std()\n",
    "Gold_IR = alpha / resid_std\n",
    "print(f\"Information ratio of gold with respect to VFINX: {Gold_IR :.5f}\")"
   ]
  },
  {
   "cell_type": "markdown",
   "id": "172e6162",
   "metadata": {
    "slideshow": {
     "slide_type": "slide"
    }
   },
   "source": [
    "There are many ways to use this number. One of the most important is a formula we saw above: For an investor who allocates only between the new investment $i$ (in this case gold), and another portfolio $p$ (in this case VFINX), the maximum Sharpe ratio they can achieve is given by the following formula (slide 6 and textbook formula 8.26),\n",
    "$$\n",
    "SR_{max} = \\sqrt{ SR_p^2 + IR_{ip}^2 }\n",
    "$$\n",
    "Using the numbers we have calculated, we calculate a maximum Sharpe ratio that exactly matches the Sharpe ratio of our solution from Homework 2:"
   ]
  },
  {
   "cell_type": "code",
   "execution_count": 29,
   "id": "807187bf",
   "metadata": {
    "slideshow": {
     "slide_type": "-"
    }
   },
   "outputs": [
    {
     "name": "stdout",
     "output_type": "stream",
     "text": [
      "  Max SR: 0.19769\n"
     ]
    }
   ],
   "source": [
    "print(f\"  Max SR: {np.sqrt(VFINX_SR**2 + Gold_IR**2) :.5f}\")"
   ]
  },
  {
   "cell_type": "markdown",
   "id": "76d2d131",
   "metadata": {
    "slideshow": {
     "slide_type": "-"
    }
   },
   "source": [
    "The point is that we can decide how attractive this new investment is, without doing an actual optimization.\n",
    "\n",
    "If a manager has a good guess what portfolio their clients hold on average (it is likely close to the market portfolio!), then they should maximize their information ratio to attract the most investment into their fund."
   ]
  },
  {
   "cell_type": "markdown",
   "id": "9ae66adc",
   "metadata": {
    "slideshow": {
     "slide_type": "skip"
    }
   },
   "source": [
    "One last useful connection with regression theory: The information ratio is really just the t-statistic of the regression intercept multiplied by $\\sqrt{N}$, where $N$ is the number of observations of data in the regression. (But note, to make this formula line up perfectly requires some further small adjustments that are beyond the scope of the class right now.)"
   ]
  }
 ],
 "metadata": {
  "celltoolbar": "Slideshow",
  "kernelspec": {
   "display_name": "Python 3 (ipykernel)",
   "language": "python",
   "name": "python3"
  },
  "language_info": {
   "codemirror_mode": {
    "name": "ipython",
    "version": 3
   },
   "file_extension": ".py",
   "mimetype": "text/x-python",
   "name": "python",
   "nbconvert_exporter": "python",
   "pygments_lexer": "ipython3",
   "version": "3.10.12"
  }
 },
 "nbformat": 4,
 "nbformat_minor": 5
}
